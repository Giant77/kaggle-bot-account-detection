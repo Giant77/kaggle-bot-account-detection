{
 "cells": [
  {
   "cell_type": "markdown",
   "metadata": {},
   "source": [
    "# Preprocessing\n",
    "\n",
    "## Import Libraries\n"
   ]
  },
  {
   "cell_type": "code",
   "execution_count": null,
   "metadata": {},
   "outputs": [],
   "source": [
    "from sklearn.preprocessing import LabelEncoder\n",
    "from sklearn.preprocessing import MinMaxScaler\n",
    "from sklearn.linear_model import LogisticRegression\n",
    "from sklearn.model_selection import train_test_split, GridSearchCV, KFold, cross_val_predict\n",
    "from sklearn.metrics import confusion_matrix, classification_report, accuracy_score, precision_score, recall_score, f1_score\n",
    "from sklearn.ensemble import ExtraTreesClassifier, GradientBoostingClassifier\n",
    "from sklearn.model_selection import ParameterGrid\n",
    "from sklearn.tree import DecisionTreeClassifier\n",
    "from sklearn.utils import resample\n",
    "from sklearn.svm import SVC\n",
    "\n",
    "import numpy as np\n",
    "import matplotlib.pyplot as plt\n",
    "import seaborn as sns\n",
    "import pandas as pd\n",
    "from time import time\n",
    "import joblib\n",
    "from tqdm import tqdm\n",
    "\n",
    "tqdm.pandas()\n",
    "import warnings\n",
    "warnings.filterwarnings('ignore') # Often useful in notebooks to hide convergence warnings etc.\n"
   ]
  },
  {
   "cell_type": "markdown",
   "metadata": {},
   "source": [
    "## Set Params\n"
   ]
  },
  {
   "cell_type": "code",
   "execution_count": 2,
   "metadata": {},
   "outputs": [],
   "source": [
    "# setting up default plotting parameters\n",
    "%matplotlib inline\n",
    "\n",
    "plt.rcParams['figure.figsize'] = [20.0, 7.0]\n",
    "plt.rcParams.update({'font.size': 22,})\n",
    "\n",
    "sns.set_palette('viridis')\n",
    "sns.set_style('white')\n",
    "sns.set_context('talk', font_scale=0.8)"
   ]
  },
  {
   "cell_type": "markdown",
   "metadata": {},
   "source": [
    "## Load Dataset\n"
   ]
  },
  {
   "cell_type": "code",
   "execution_count": 3,
   "metadata": {},
   "outputs": [
    {
     "data": {
      "application/vnd.microsoft.datawrangler.viewer.v0+json": {
       "columns": [
        {
         "name": "index",
         "rawType": "int64",
         "type": "integer"
        },
        {
         "name": "Unnamed: 0",
         "rawType": "int64",
         "type": "integer"
        },
        {
         "name": "NAME",
         "rawType": "object",
         "type": "unknown"
        },
        {
         "name": "GENDER",
         "rawType": "object",
         "type": "string"
        },
        {
         "name": "EMAIL_ID",
         "rawType": "object",
         "type": "string"
        },
        {
         "name": "IS_GLOGIN",
         "rawType": "object",
         "type": "unknown"
        },
        {
         "name": "FOLLOWER_COUNT",
         "rawType": "float64",
         "type": "float"
        },
        {
         "name": "FOLLOWING_COUNT",
         "rawType": "float64",
         "type": "float"
        },
        {
         "name": "DATASET_COUNT",
         "rawType": "float64",
         "type": "float"
        },
        {
         "name": "CODE_COUNT",
         "rawType": "float64",
         "type": "float"
        },
        {
         "name": "DISCUSSION_COUNT",
         "rawType": "float64",
         "type": "float"
        },
        {
         "name": "AVG_NB_READ_TIME_MIN",
         "rawType": "float64",
         "type": "float"
        },
        {
         "name": "REGISTRATION_IPV4",
         "rawType": "object",
         "type": "unknown"
        },
        {
         "name": "REGISTRATION_LOCATION",
         "rawType": "object",
         "type": "string"
        },
        {
         "name": "TOTAL_VOTES_GAVE_NB",
         "rawType": "float64",
         "type": "float"
        },
        {
         "name": "TOTAL_VOTES_GAVE_DS",
         "rawType": "float64",
         "type": "float"
        },
        {
         "name": "TOTAL_VOTES_GAVE_DC",
         "rawType": "float64",
         "type": "float"
        },
        {
         "name": "ISBOT",
         "rawType": "object",
         "type": "unknown"
        }
       ],
       "conversionMethod": "pd.DataFrame",
       "ref": "c70ee44c-8c4f-4c3b-aba1-66efd4266538",
       "rows": [
        [
         "0",
         "0",
         "Johnny KerrThomas",
         "Male",
         "jacksonalan@example.com",
         "False",
         "53.0",
         "87.0",
         "5.0",
         "3.0",
         "124.0",
         null,
         "81.88.75.170",
         "Argentina",
         "16.0",
         "10.0",
         "3.0",
         null
        ],
        [
         "1",
         "1",
         "Dwayne LarsenLara",
         "Male",
         "calvin80@example.com",
         "True",
         "16.0",
         "67.0",
         "5.0",
         null,
         "26.0",
         "24.97",
         null,
         "New Zealand",
         "14.0",
         "5.0",
         "2.0",
         null
        ],
        [
         "2",
         "2",
         null,
         "Male",
         "qbrown@example.net",
         "True",
         "44.0",
         "81.0",
         "4.0",
         "17.0",
         "125.0",
         "7.75",
         "159.202.103.178",
         "Costa Rica",
         "16.0",
         "4.0",
         "0.0",
         "False"
        ],
        [
         "3",
         "3",
         "Russell SimmonsPhillips",
         "Male",
         "kimberlywagner@example.com",
         "True",
         "23.0",
         "114.0",
         "5.0",
         "24.0",
         "67.0",
         "13.4",
         "196.11.132.51",
         "Italy",
         "21.0",
         "10.0",
         "1.0",
         "False"
        ],
        [
         "4",
         "4",
         "Jamie WilsonMartinez",
         "Female",
         "shaunbrooks@example.com",
         "False",
         "46.0",
         "112.0",
         "2.0",
         "12.0",
         "63.0",
         "24.83",
         "159.196.199.20",
         "Belgium",
         "10.0",
         "6.0",
         "2.0",
         "False"
        ]
       ],
       "shape": {
        "columns": 17,
        "rows": 5
       }
      },
      "text/html": [
       "<div>\n",
       "<style scoped>\n",
       "    .dataframe tbody tr th:only-of-type {\n",
       "        vertical-align: middle;\n",
       "    }\n",
       "\n",
       "    .dataframe tbody tr th {\n",
       "        vertical-align: top;\n",
       "    }\n",
       "\n",
       "    .dataframe thead th {\n",
       "        text-align: right;\n",
       "    }\n",
       "</style>\n",
       "<table border=\"1\" class=\"dataframe\">\n",
       "  <thead>\n",
       "    <tr style=\"text-align: right;\">\n",
       "      <th></th>\n",
       "      <th>Unnamed: 0</th>\n",
       "      <th>NAME</th>\n",
       "      <th>GENDER</th>\n",
       "      <th>EMAIL_ID</th>\n",
       "      <th>IS_GLOGIN</th>\n",
       "      <th>FOLLOWER_COUNT</th>\n",
       "      <th>FOLLOWING_COUNT</th>\n",
       "      <th>DATASET_COUNT</th>\n",
       "      <th>CODE_COUNT</th>\n",
       "      <th>DISCUSSION_COUNT</th>\n",
       "      <th>AVG_NB_READ_TIME_MIN</th>\n",
       "      <th>REGISTRATION_IPV4</th>\n",
       "      <th>REGISTRATION_LOCATION</th>\n",
       "      <th>TOTAL_VOTES_GAVE_NB</th>\n",
       "      <th>TOTAL_VOTES_GAVE_DS</th>\n",
       "      <th>TOTAL_VOTES_GAVE_DC</th>\n",
       "      <th>ISBOT</th>\n",
       "    </tr>\n",
       "  </thead>\n",
       "  <tbody>\n",
       "    <tr>\n",
       "      <th>0</th>\n",
       "      <td>0</td>\n",
       "      <td>Johnny KerrThomas</td>\n",
       "      <td>Male</td>\n",
       "      <td>jacksonalan@example.com</td>\n",
       "      <td>False</td>\n",
       "      <td>53.0</td>\n",
       "      <td>87.0</td>\n",
       "      <td>5.0</td>\n",
       "      <td>3.0</td>\n",
       "      <td>124.0</td>\n",
       "      <td>NaN</td>\n",
       "      <td>81.88.75.170</td>\n",
       "      <td>Argentina</td>\n",
       "      <td>16.0</td>\n",
       "      <td>10.0</td>\n",
       "      <td>3.0</td>\n",
       "      <td>NaN</td>\n",
       "    </tr>\n",
       "    <tr>\n",
       "      <th>1</th>\n",
       "      <td>1</td>\n",
       "      <td>Dwayne LarsenLara</td>\n",
       "      <td>Male</td>\n",
       "      <td>calvin80@example.com</td>\n",
       "      <td>True</td>\n",
       "      <td>16.0</td>\n",
       "      <td>67.0</td>\n",
       "      <td>5.0</td>\n",
       "      <td>NaN</td>\n",
       "      <td>26.0</td>\n",
       "      <td>24.97</td>\n",
       "      <td>NaN</td>\n",
       "      <td>New Zealand</td>\n",
       "      <td>14.0</td>\n",
       "      <td>5.0</td>\n",
       "      <td>2.0</td>\n",
       "      <td>NaN</td>\n",
       "    </tr>\n",
       "    <tr>\n",
       "      <th>2</th>\n",
       "      <td>2</td>\n",
       "      <td>NaN</td>\n",
       "      <td>Male</td>\n",
       "      <td>qbrown@example.net</td>\n",
       "      <td>True</td>\n",
       "      <td>44.0</td>\n",
       "      <td>81.0</td>\n",
       "      <td>4.0</td>\n",
       "      <td>17.0</td>\n",
       "      <td>125.0</td>\n",
       "      <td>7.75</td>\n",
       "      <td>159.202.103.178</td>\n",
       "      <td>Costa Rica</td>\n",
       "      <td>16.0</td>\n",
       "      <td>4.0</td>\n",
       "      <td>0.0</td>\n",
       "      <td>False</td>\n",
       "    </tr>\n",
       "    <tr>\n",
       "      <th>3</th>\n",
       "      <td>3</td>\n",
       "      <td>Russell SimmonsPhillips</td>\n",
       "      <td>Male</td>\n",
       "      <td>kimberlywagner@example.com</td>\n",
       "      <td>True</td>\n",
       "      <td>23.0</td>\n",
       "      <td>114.0</td>\n",
       "      <td>5.0</td>\n",
       "      <td>24.0</td>\n",
       "      <td>67.0</td>\n",
       "      <td>13.40</td>\n",
       "      <td>196.11.132.51</td>\n",
       "      <td>Italy</td>\n",
       "      <td>21.0</td>\n",
       "      <td>10.0</td>\n",
       "      <td>1.0</td>\n",
       "      <td>False</td>\n",
       "    </tr>\n",
       "    <tr>\n",
       "      <th>4</th>\n",
       "      <td>4</td>\n",
       "      <td>Jamie WilsonMartinez</td>\n",
       "      <td>Female</td>\n",
       "      <td>shaunbrooks@example.com</td>\n",
       "      <td>False</td>\n",
       "      <td>46.0</td>\n",
       "      <td>112.0</td>\n",
       "      <td>2.0</td>\n",
       "      <td>12.0</td>\n",
       "      <td>63.0</td>\n",
       "      <td>24.83</td>\n",
       "      <td>159.196.199.20</td>\n",
       "      <td>Belgium</td>\n",
       "      <td>10.0</td>\n",
       "      <td>6.0</td>\n",
       "      <td>2.0</td>\n",
       "      <td>False</td>\n",
       "    </tr>\n",
       "  </tbody>\n",
       "</table>\n",
       "</div>"
      ],
      "text/plain": [
       "   Unnamed: 0                     NAME  GENDER                    EMAIL_ID  \\\n",
       "0           0        Johnny KerrThomas    Male     jacksonalan@example.com   \n",
       "1           1        Dwayne LarsenLara    Male        calvin80@example.com   \n",
       "2           2                      NaN    Male          qbrown@example.net   \n",
       "3           3  Russell SimmonsPhillips    Male  kimberlywagner@example.com   \n",
       "4           4     Jamie WilsonMartinez  Female     shaunbrooks@example.com   \n",
       "\n",
       "  IS_GLOGIN  FOLLOWER_COUNT  FOLLOWING_COUNT  DATASET_COUNT  CODE_COUNT  \\\n",
       "0     False            53.0             87.0            5.0         3.0   \n",
       "1      True            16.0             67.0            5.0         NaN   \n",
       "2      True            44.0             81.0            4.0        17.0   \n",
       "3      True            23.0            114.0            5.0        24.0   \n",
       "4     False            46.0            112.0            2.0        12.0   \n",
       "\n",
       "   DISCUSSION_COUNT  AVG_NB_READ_TIME_MIN REGISTRATION_IPV4  \\\n",
       "0             124.0                   NaN      81.88.75.170   \n",
       "1              26.0                 24.97               NaN   \n",
       "2             125.0                  7.75   159.202.103.178   \n",
       "3              67.0                 13.40     196.11.132.51   \n",
       "4              63.0                 24.83    159.196.199.20   \n",
       "\n",
       "  REGISTRATION_LOCATION  TOTAL_VOTES_GAVE_NB  TOTAL_VOTES_GAVE_DS  \\\n",
       "0             Argentina                 16.0                 10.0   \n",
       "1           New Zealand                 14.0                  5.0   \n",
       "2            Costa Rica                 16.0                  4.0   \n",
       "3                 Italy                 21.0                 10.0   \n",
       "4               Belgium                 10.0                  6.0   \n",
       "\n",
       "   TOTAL_VOTES_GAVE_DC  ISBOT  \n",
       "0                  3.0    NaN  \n",
       "1                  2.0    NaN  \n",
       "2                  0.0  False  \n",
       "3                  1.0  False  \n",
       "4                  2.0  False  "
      ]
     },
     "execution_count": 3,
     "metadata": {},
     "output_type": "execute_result"
    }
   ],
   "source": [
    "# Loading the dataset.\n",
    "df = pd.read_csv(\"./dataset/kaggle_bot_accounts.csv\")\n",
    "df.head()"
   ]
  },
  {
   "cell_type": "markdown",
   "metadata": {},
   "source": [
    "## Check columns\n"
   ]
  },
  {
   "cell_type": "code",
   "execution_count": 4,
   "metadata": {},
   "outputs": [],
   "source": [
    "# Drop unused column\n",
    "df = df.drop('Unnamed: 0', axis=1)\n"
   ]
  },
  {
   "cell_type": "code",
   "execution_count": 5,
   "metadata": {},
   "outputs": [
    {
     "name": "stdout",
     "output_type": "stream",
     "text": [
      "NAME\n",
      "GENDER\n",
      "EMAIL_ID\n",
      "IS_GLOGIN\n",
      "FOLLOWER_COUNT\n",
      "FOLLOWING_COUNT\n",
      "DATASET_COUNT\n",
      "CODE_COUNT\n",
      "DISCUSSION_COUNT\n",
      "AVG_NB_READ_TIME_MIN\n",
      "REGISTRATION_IPV4\n",
      "REGISTRATION_LOCATION\n",
      "TOTAL_VOTES_GAVE_NB\n",
      "TOTAL_VOTES_GAVE_DS\n",
      "TOTAL_VOTES_GAVE_DC\n",
      "ISBOT\n"
     ]
    }
   ],
   "source": [
    "for col in df.columns:\n",
    "    print(col)"
   ]
  },
  {
   "cell_type": "markdown",
   "metadata": {},
   "source": [
    "### Column informations\n",
    "\n",
    "1. **NAME**: The name of the individual.\n",
    "2. **GENDER**: The gender of the individual, either male or female.\n",
    "3. **EMAIL_ID**: The email address of the individual.\n",
    "4. **IS_GLOGIN**: A boolean indicating whether the individual used Google login to register or not.\n",
    "5. **FOLLOWER_COUNT**: The number of followers the individual has.\n",
    "6. **FOLLOWING_COUNT**: The number of individuals the individual is following.\n",
    "7. **DATASET_COUNT**: The number of datasets the individual has created.\n",
    "8. **CODE_COUNT**: The number of notebooks the individual has created.\n",
    "9. **DISCUSSION_COUNT**: The number of discussions the individual has participated in.\n",
    "10. **AVG_NB_READ_TIME_MIN**: The average time spent reading notebooks in minutes.\n",
    "11. **REGISTRATION_IPV4**: The IP address used to register.\n",
    "12. **REGISTRATION_LOCATION**: The location from where the individual registered.\n",
    "13. **TOTAL_VOTES_GAVE_NB**: The total number of votes the individual has given to notebooks.\n",
    "14. **TOTAL_VOTES_GAVE_DS**: The total number of votes the individual has given to datasets.\n",
    "15. **TOTAL_VOTES_GAVE_DC**: The total number of votes the individual has given to discussion comments.\n",
    "16. **ISBOT**: A boolean indicating whether the individual is a bot or not.\n"
   ]
  },
  {
   "cell_type": "code",
   "execution_count": 6,
   "metadata": {},
   "outputs": [],
   "source": [
    "# Remove probable unrelated columns\n",
    "df = df.drop('NAME', axis=1)\n",
    "df = df.drop('EMAIL_ID', axis=1)\n",
    "df = df.drop('REGISTRATION_LOCATION', axis=1)\n",
    "df = df.drop('REGISTRATION_IPV4', axis=1)\n"
   ]
  },
  {
   "cell_type": "markdown",
   "metadata": {},
   "source": [
    "## Check null values & duplicated rows\n"
   ]
  },
  {
   "cell_type": "code",
   "execution_count": 7,
   "metadata": {},
   "outputs": [
    {
     "data": {
      "text/plain": [
       "(1321188, 12)"
      ]
     },
     "execution_count": 7,
     "metadata": {},
     "output_type": "execute_result"
    }
   ],
   "source": [
    "df.shape"
   ]
  },
  {
   "cell_type": "code",
   "execution_count": 8,
   "metadata": {},
   "outputs": [
    {
     "data": {
      "text/plain": [
       "684"
      ]
     },
     "execution_count": 8,
     "metadata": {},
     "output_type": "execute_result"
    }
   ],
   "source": [
    "df.duplicated().sum()\n"
   ]
  },
  {
   "cell_type": "code",
   "execution_count": 9,
   "metadata": {},
   "outputs": [],
   "source": [
    "df = df.drop_duplicates()"
   ]
  },
  {
   "cell_type": "code",
   "execution_count": 10,
   "metadata": {},
   "outputs": [
    {
     "data": {
      "text/plain": [
       "GENDER                  77871\n",
       "IS_GLOGIN               77916\n",
       "FOLLOWER_COUNT          77706\n",
       "FOLLOWING_COUNT         78436\n",
       "DATASET_COUNT           78563\n",
       "CODE_COUNT              77916\n",
       "DISCUSSION_COUNT        77695\n",
       "AVG_NB_READ_TIME_MIN    78034\n",
       "TOTAL_VOTES_GAVE_NB     77678\n",
       "TOTAL_VOTES_GAVE_DS     77908\n",
       "TOTAL_VOTES_GAVE_DC     78014\n",
       "ISBOT                   78498\n",
       "dtype: int64"
      ]
     },
     "execution_count": 10,
     "metadata": {},
     "output_type": "execute_result"
    }
   ],
   "source": [
    "df.isna().sum()\n"
   ]
  },
  {
   "cell_type": "code",
   "execution_count": 11,
   "metadata": {},
   "outputs": [
    {
     "data": {
      "application/vnd.microsoft.datawrangler.viewer.v0+json": {
       "columns": [
        {
         "name": "index",
         "rawType": "object",
         "type": "string"
        },
        {
         "name": "Values",
         "rawType": "int64",
         "type": "integer"
        },
        {
         "name": "Percentage",
         "rawType": "float64",
         "type": "float"
        }
       ],
       "conversionMethod": "pd.DataFrame",
       "ref": "d7181166-a7bb-4be1-9f30-745cf7c2986b",
       "rows": [
        [
         "TOTAL_VOTES_GAVE_NB",
         "77678",
         "5.88"
        ],
        [
         "DISCUSSION_COUNT",
         "77695",
         "5.88"
        ],
        [
         "FOLLOWER_COUNT",
         "77706",
         "5.88"
        ],
        [
         "GENDER",
         "77871",
         "5.9"
        ],
        [
         "TOTAL_VOTES_GAVE_DS",
         "77908",
         "5.9"
        ],
        [
         "IS_GLOGIN",
         "77916",
         "5.9"
        ],
        [
         "CODE_COUNT",
         "77916",
         "5.9"
        ],
        [
         "TOTAL_VOTES_GAVE_DC",
         "78014",
         "5.91"
        ],
        [
         "AVG_NB_READ_TIME_MIN",
         "78034",
         "5.91"
        ],
        [
         "FOLLOWING_COUNT",
         "78436",
         "5.94"
        ],
        [
         "ISBOT",
         "78498",
         "5.94"
        ],
        [
         "DATASET_COUNT",
         "78563",
         "5.95"
        ]
       ],
       "shape": {
        "columns": 2,
        "rows": 12
       }
      },
      "text/html": [
       "<div>\n",
       "<style scoped>\n",
       "    .dataframe tbody tr th:only-of-type {\n",
       "        vertical-align: middle;\n",
       "    }\n",
       "\n",
       "    .dataframe tbody tr th {\n",
       "        vertical-align: top;\n",
       "    }\n",
       "\n",
       "    .dataframe thead th {\n",
       "        text-align: right;\n",
       "    }\n",
       "</style>\n",
       "<table border=\"1\" class=\"dataframe\">\n",
       "  <thead>\n",
       "    <tr style=\"text-align: right;\">\n",
       "      <th></th>\n",
       "      <th>Values</th>\n",
       "      <th>Percentage</th>\n",
       "    </tr>\n",
       "  </thead>\n",
       "  <tbody>\n",
       "    <tr>\n",
       "      <th>TOTAL_VOTES_GAVE_NB</th>\n",
       "      <td>77678</td>\n",
       "      <td>5.88</td>\n",
       "    </tr>\n",
       "    <tr>\n",
       "      <th>DISCUSSION_COUNT</th>\n",
       "      <td>77695</td>\n",
       "      <td>5.88</td>\n",
       "    </tr>\n",
       "    <tr>\n",
       "      <th>FOLLOWER_COUNT</th>\n",
       "      <td>77706</td>\n",
       "      <td>5.88</td>\n",
       "    </tr>\n",
       "    <tr>\n",
       "      <th>GENDER</th>\n",
       "      <td>77871</td>\n",
       "      <td>5.90</td>\n",
       "    </tr>\n",
       "    <tr>\n",
       "      <th>TOTAL_VOTES_GAVE_DS</th>\n",
       "      <td>77908</td>\n",
       "      <td>5.90</td>\n",
       "    </tr>\n",
       "    <tr>\n",
       "      <th>IS_GLOGIN</th>\n",
       "      <td>77916</td>\n",
       "      <td>5.90</td>\n",
       "    </tr>\n",
       "    <tr>\n",
       "      <th>CODE_COUNT</th>\n",
       "      <td>77916</td>\n",
       "      <td>5.90</td>\n",
       "    </tr>\n",
       "    <tr>\n",
       "      <th>TOTAL_VOTES_GAVE_DC</th>\n",
       "      <td>78014</td>\n",
       "      <td>5.91</td>\n",
       "    </tr>\n",
       "    <tr>\n",
       "      <th>AVG_NB_READ_TIME_MIN</th>\n",
       "      <td>78034</td>\n",
       "      <td>5.91</td>\n",
       "    </tr>\n",
       "    <tr>\n",
       "      <th>FOLLOWING_COUNT</th>\n",
       "      <td>78436</td>\n",
       "      <td>5.94</td>\n",
       "    </tr>\n",
       "    <tr>\n",
       "      <th>ISBOT</th>\n",
       "      <td>78498</td>\n",
       "      <td>5.94</td>\n",
       "    </tr>\n",
       "    <tr>\n",
       "      <th>DATASET_COUNT</th>\n",
       "      <td>78563</td>\n",
       "      <td>5.95</td>\n",
       "    </tr>\n",
       "  </tbody>\n",
       "</table>\n",
       "</div>"
      ],
      "text/plain": [
       "                      Values  Percentage\n",
       "TOTAL_VOTES_GAVE_NB    77678        5.88\n",
       "DISCUSSION_COUNT       77695        5.88\n",
       "FOLLOWER_COUNT         77706        5.88\n",
       "GENDER                 77871        5.90\n",
       "TOTAL_VOTES_GAVE_DS    77908        5.90\n",
       "IS_GLOGIN              77916        5.90\n",
       "CODE_COUNT             77916        5.90\n",
       "TOTAL_VOTES_GAVE_DC    78014        5.91\n",
       "AVG_NB_READ_TIME_MIN   78034        5.91\n",
       "FOLLOWING_COUNT        78436        5.94\n",
       "ISBOT                  78498        5.94\n",
       "DATASET_COUNT          78563        5.95"
      ]
     },
     "execution_count": 11,
     "metadata": {},
     "output_type": "execute_result"
    }
   ],
   "source": [
    "# Displaying columns with missing values using sum and percentage\n",
    "missing_values = df.isnull().sum().sort_values(ascending = True)\n",
    "percent = ((df.isnull().sum()/df.isnull().count()) * 100) .sort_values(ascending=True).round(2)\n",
    "missing_data = pd.concat([missing_values, percent], axis = 1, keys = [\"Values\", \"Percentage\"])\n",
    "missing_data"
   ]
  },
  {
   "cell_type": "code",
   "execution_count": 12,
   "metadata": {},
   "outputs": [
    {
     "data": {
      "text/plain": [
       "GENDER                   object\n",
       "IS_GLOGIN                object\n",
       "FOLLOWER_COUNT          float64\n",
       "FOLLOWING_COUNT         float64\n",
       "DATASET_COUNT           float64\n",
       "CODE_COUNT              float64\n",
       "DISCUSSION_COUNT        float64\n",
       "AVG_NB_READ_TIME_MIN    float64\n",
       "TOTAL_VOTES_GAVE_NB     float64\n",
       "TOTAL_VOTES_GAVE_DS     float64\n",
       "TOTAL_VOTES_GAVE_DC     float64\n",
       "ISBOT                    object\n",
       "dtype: object"
      ]
     },
     "execution_count": 12,
     "metadata": {},
     "output_type": "execute_result"
    }
   ],
   "source": [
    "df.dtypes"
   ]
  },
  {
   "cell_type": "markdown",
   "metadata": {},
   "source": [
    "### Fill null values with mean or mode\n"
   ]
  },
  {
   "cell_type": "code",
   "execution_count": 13,
   "metadata": {},
   "outputs": [
    {
     "name": "stderr",
     "output_type": "stream",
     "text": [
      "C:\\Users\\y\\AppData\\Local\\Temp\\ipykernel_20276\\4247370503.py:11: FutureWarning: Downcasting object dtype arrays on .fillna, .ffill, .bfill is deprecated and will change in a future version. Call result.infer_objects(copy=False) instead. To opt-in to the future behavior, set `pd.set_option('future.no_silent_downcasting', True)`\n",
      "  df[col] = df[col].fillna(\n"
     ]
    }
   ],
   "source": [
    "for col in df.columns:\n",
    "    if df[col].isna().sum():\n",
    "        # If column is float, replace with mean\n",
    "        if df[col].dtype == 'float64':\n",
    "            df[col] = df[col].fillna(\n",
    "                round(df[col].mean())\n",
    "            )\n",
    "        \n",
    "        # If column is 'GENDER' or 'IS_GLOGIN', replace with mode\n",
    "        elif col == 'GENDER' or col == 'IS_GLOGIN':\n",
    "            df[col] = df[col].fillna(\n",
    "                df[col].mode()[0]\n",
    "            ).infer_objects(copy=False)"
   ]
  },
  {
   "cell_type": "code",
   "execution_count": 14,
   "metadata": {},
   "outputs": [
    {
     "data": {
      "text/plain": [
       "GENDER                      0\n",
       "IS_GLOGIN                   0\n",
       "FOLLOWER_COUNT              0\n",
       "FOLLOWING_COUNT             0\n",
       "DATASET_COUNT               0\n",
       "CODE_COUNT                  0\n",
       "DISCUSSION_COUNT            0\n",
       "AVG_NB_READ_TIME_MIN        0\n",
       "TOTAL_VOTES_GAVE_NB         0\n",
       "TOTAL_VOTES_GAVE_DS         0\n",
       "TOTAL_VOTES_GAVE_DC         0\n",
       "ISBOT                   78498\n",
       "dtype: int64"
      ]
     },
     "execution_count": 14,
     "metadata": {},
     "output_type": "execute_result"
    }
   ],
   "source": [
    "df.isna().sum()"
   ]
  },
  {
   "cell_type": "code",
   "execution_count": 15,
   "metadata": {},
   "outputs": [
    {
     "name": "stdout",
     "output_type": "stream",
     "text": [
      "<class 'pandas.core.frame.DataFrame'>\n",
      "Index: 1320504 entries, 0 to 1321187\n",
      "Data columns (total 12 columns):\n",
      " #   Column                Non-Null Count    Dtype  \n",
      "---  ------                --------------    -----  \n",
      " 0   GENDER                1320504 non-null  object \n",
      " 1   IS_GLOGIN             1320504 non-null  bool   \n",
      " 2   FOLLOWER_COUNT        1320504 non-null  float64\n",
      " 3   FOLLOWING_COUNT       1320504 non-null  float64\n",
      " 4   DATASET_COUNT         1320504 non-null  float64\n",
      " 5   CODE_COUNT            1320504 non-null  float64\n",
      " 6   DISCUSSION_COUNT      1320504 non-null  float64\n",
      " 7   AVG_NB_READ_TIME_MIN  1320504 non-null  float64\n",
      " 8   TOTAL_VOTES_GAVE_NB   1320504 non-null  float64\n",
      " 9   TOTAL_VOTES_GAVE_DS   1320504 non-null  float64\n",
      " 10  TOTAL_VOTES_GAVE_DC   1320504 non-null  float64\n",
      " 11  ISBOT                 1242006 non-null  object \n",
      "dtypes: bool(1), float64(9), object(2)\n",
      "memory usage: 122.2+ MB\n"
     ]
    }
   ],
   "source": [
    "df.info()"
   ]
  },
  {
   "cell_type": "code",
   "execution_count": 16,
   "metadata": {},
   "outputs": [
    {
     "data": {
      "text/plain": [
       "(1242006, 12)"
      ]
     },
     "execution_count": 16,
     "metadata": {},
     "output_type": "execute_result"
    }
   ],
   "source": [
    "df = df.dropna()\n",
    "df.shape\n"
   ]
  },
  {
   "cell_type": "markdown",
   "metadata": {},
   "source": [
    "## Check statistical value of dataset\n"
   ]
  },
  {
   "cell_type": "code",
   "execution_count": 17,
   "metadata": {},
   "outputs": [
    {
     "data": {
      "application/vnd.microsoft.datawrangler.viewer.v0+json": {
       "columns": [
        {
         "name": "index",
         "rawType": "object",
         "type": "string"
        },
        {
         "name": "FOLLOWER_COUNT",
         "rawType": "float64",
         "type": "float"
        },
        {
         "name": "FOLLOWING_COUNT",
         "rawType": "float64",
         "type": "float"
        },
        {
         "name": "DATASET_COUNT",
         "rawType": "float64",
         "type": "float"
        },
        {
         "name": "CODE_COUNT",
         "rawType": "float64",
         "type": "float"
        },
        {
         "name": "DISCUSSION_COUNT",
         "rawType": "float64",
         "type": "float"
        },
        {
         "name": "AVG_NB_READ_TIME_MIN",
         "rawType": "float64",
         "type": "float"
        },
        {
         "name": "TOTAL_VOTES_GAVE_NB",
         "rawType": "float64",
         "type": "float"
        },
        {
         "name": "TOTAL_VOTES_GAVE_DS",
         "rawType": "float64",
         "type": "float"
        },
        {
         "name": "TOTAL_VOTES_GAVE_DC",
         "rawType": "float64",
         "type": "float"
        }
       ],
       "conversionMethod": "pd.DataFrame",
       "ref": "fc135a3f-0202-4e0b-a7b7-f83b407acbc4",
       "rows": [
        [
         "count",
         "1242006.0",
         "1242006.0",
         "1242006.0",
         "1242006.0",
         "1242006.0",
         "1242006.0",
         "1242006.0",
         "1242006.0",
         "1242006.0"
        ],
        [
         "mean",
         "27.0",
         "45.06",
         "2.59",
         "10.36",
         "65.88",
         "12.76",
         "17.53",
         "6.53",
         "1.53"
        ],
        [
         "std",
         "22.32",
         "38.28",
         "2.43",
         "8.0",
         "46.12",
         "9.28",
         "4.48",
         "2.23",
         "1.09"
        ],
        [
         "min",
         "0.0",
         "0.0",
         "0.0",
         "0.0",
         "0.0",
         "0.0",
         "10.0",
         "3.0",
         "0.0"
        ],
        [
         "25%",
         "2.0",
         "3.0",
         "0.0",
         "1.0",
         "13.0",
         "1.98",
         "14.0",
         "5.0",
         "1.0"
        ],
        [
         "50%",
         "27.0",
         "44.0",
         "2.0",
         "10.0",
         "66.0",
         "13.0",
         "18.0",
         "7.0",
         "2.0"
        ],
        [
         "75%",
         "46.0",
         "77.0",
         "5.0",
         "17.0",
         "105.0",
         "20.59",
         "21.0",
         "8.0",
         "2.0"
        ],
        [
         "max",
         "70.0",
         "120.0",
         "7.0",
         "25.0",
         "150.0",
         "29.99",
         "25.0",
         "10.0",
         "3.0"
        ]
       ],
       "shape": {
        "columns": 9,
        "rows": 8
       }
      },
      "text/html": [
       "<div>\n",
       "<style scoped>\n",
       "    .dataframe tbody tr th:only-of-type {\n",
       "        vertical-align: middle;\n",
       "    }\n",
       "\n",
       "    .dataframe tbody tr th {\n",
       "        vertical-align: top;\n",
       "    }\n",
       "\n",
       "    .dataframe thead th {\n",
       "        text-align: right;\n",
       "    }\n",
       "</style>\n",
       "<table border=\"1\" class=\"dataframe\">\n",
       "  <thead>\n",
       "    <tr style=\"text-align: right;\">\n",
       "      <th></th>\n",
       "      <th>FOLLOWER_COUNT</th>\n",
       "      <th>FOLLOWING_COUNT</th>\n",
       "      <th>DATASET_COUNT</th>\n",
       "      <th>CODE_COUNT</th>\n",
       "      <th>DISCUSSION_COUNT</th>\n",
       "      <th>AVG_NB_READ_TIME_MIN</th>\n",
       "      <th>TOTAL_VOTES_GAVE_NB</th>\n",
       "      <th>TOTAL_VOTES_GAVE_DS</th>\n",
       "      <th>TOTAL_VOTES_GAVE_DC</th>\n",
       "    </tr>\n",
       "  </thead>\n",
       "  <tbody>\n",
       "    <tr>\n",
       "      <th>count</th>\n",
       "      <td>1242006.00</td>\n",
       "      <td>1242006.00</td>\n",
       "      <td>1242006.00</td>\n",
       "      <td>1242006.00</td>\n",
       "      <td>1242006.00</td>\n",
       "      <td>1242006.00</td>\n",
       "      <td>1242006.00</td>\n",
       "      <td>1242006.00</td>\n",
       "      <td>1242006.00</td>\n",
       "    </tr>\n",
       "    <tr>\n",
       "      <th>mean</th>\n",
       "      <td>27.00</td>\n",
       "      <td>45.06</td>\n",
       "      <td>2.59</td>\n",
       "      <td>10.36</td>\n",
       "      <td>65.88</td>\n",
       "      <td>12.76</td>\n",
       "      <td>17.53</td>\n",
       "      <td>6.53</td>\n",
       "      <td>1.53</td>\n",
       "    </tr>\n",
       "    <tr>\n",
       "      <th>std</th>\n",
       "      <td>22.32</td>\n",
       "      <td>38.28</td>\n",
       "      <td>2.43</td>\n",
       "      <td>8.00</td>\n",
       "      <td>46.12</td>\n",
       "      <td>9.28</td>\n",
       "      <td>4.48</td>\n",
       "      <td>2.23</td>\n",
       "      <td>1.09</td>\n",
       "    </tr>\n",
       "    <tr>\n",
       "      <th>min</th>\n",
       "      <td>0.00</td>\n",
       "      <td>0.00</td>\n",
       "      <td>0.00</td>\n",
       "      <td>0.00</td>\n",
       "      <td>0.00</td>\n",
       "      <td>0.00</td>\n",
       "      <td>10.00</td>\n",
       "      <td>3.00</td>\n",
       "      <td>0.00</td>\n",
       "    </tr>\n",
       "    <tr>\n",
       "      <th>25%</th>\n",
       "      <td>2.00</td>\n",
       "      <td>3.00</td>\n",
       "      <td>0.00</td>\n",
       "      <td>1.00</td>\n",
       "      <td>13.00</td>\n",
       "      <td>1.98</td>\n",
       "      <td>14.00</td>\n",
       "      <td>5.00</td>\n",
       "      <td>1.00</td>\n",
       "    </tr>\n",
       "    <tr>\n",
       "      <th>50%</th>\n",
       "      <td>27.00</td>\n",
       "      <td>44.00</td>\n",
       "      <td>2.00</td>\n",
       "      <td>10.00</td>\n",
       "      <td>66.00</td>\n",
       "      <td>13.00</td>\n",
       "      <td>18.00</td>\n",
       "      <td>7.00</td>\n",
       "      <td>2.00</td>\n",
       "    </tr>\n",
       "    <tr>\n",
       "      <th>75%</th>\n",
       "      <td>46.00</td>\n",
       "      <td>77.00</td>\n",
       "      <td>5.00</td>\n",
       "      <td>17.00</td>\n",
       "      <td>105.00</td>\n",
       "      <td>20.59</td>\n",
       "      <td>21.00</td>\n",
       "      <td>8.00</td>\n",
       "      <td>2.00</td>\n",
       "    </tr>\n",
       "    <tr>\n",
       "      <th>max</th>\n",
       "      <td>70.00</td>\n",
       "      <td>120.00</td>\n",
       "      <td>7.00</td>\n",
       "      <td>25.00</td>\n",
       "      <td>150.00</td>\n",
       "      <td>29.99</td>\n",
       "      <td>25.00</td>\n",
       "      <td>10.00</td>\n",
       "      <td>3.00</td>\n",
       "    </tr>\n",
       "  </tbody>\n",
       "</table>\n",
       "</div>"
      ],
      "text/plain": [
       "       FOLLOWER_COUNT  FOLLOWING_COUNT  DATASET_COUNT  CODE_COUNT  \\\n",
       "count      1242006.00       1242006.00     1242006.00  1242006.00   \n",
       "mean            27.00            45.06           2.59       10.36   \n",
       "std             22.32            38.28           2.43        8.00   \n",
       "min              0.00             0.00           0.00        0.00   \n",
       "25%              2.00             3.00           0.00        1.00   \n",
       "50%             27.00            44.00           2.00       10.00   \n",
       "75%             46.00            77.00           5.00       17.00   \n",
       "max             70.00           120.00           7.00       25.00   \n",
       "\n",
       "       DISCUSSION_COUNT  AVG_NB_READ_TIME_MIN  TOTAL_VOTES_GAVE_NB  \\\n",
       "count        1242006.00            1242006.00           1242006.00   \n",
       "mean              65.88                 12.76                17.53   \n",
       "std               46.12                  9.28                 4.48   \n",
       "min                0.00                  0.00                10.00   \n",
       "25%               13.00                  1.98                14.00   \n",
       "50%               66.00                 13.00                18.00   \n",
       "75%              105.00                 20.59                21.00   \n",
       "max              150.00                 29.99                25.00   \n",
       "\n",
       "       TOTAL_VOTES_GAVE_DS  TOTAL_VOTES_GAVE_DC  \n",
       "count           1242006.00           1242006.00  \n",
       "mean                  6.53                 1.53  \n",
       "std                   2.23                 1.09  \n",
       "min                   3.00                 0.00  \n",
       "25%                   5.00                 1.00  \n",
       "50%                   7.00                 2.00  \n",
       "75%                   8.00                 2.00  \n",
       "max                  10.00                 3.00  "
      ]
     },
     "execution_count": 17,
     "metadata": {},
     "output_type": "execute_result"
    }
   ],
   "source": [
    "df.describe().round(2)"
   ]
  },
  {
   "cell_type": "markdown",
   "metadata": {},
   "source": [
    "### Check numerical data distributions\n"
   ]
  },
  {
   "cell_type": "code",
   "execution_count": 18,
   "metadata": {},
   "outputs": [
    {
     "data": {
      "image/png": "[encoded data removed]",
      "text/plain": [
       "<Figure size 2000x2000 with 9 Axes>"
      ]
     },
     "metadata": {},
     "output_type": "display_data"
    }
   ],
   "source": [
    "df.hist(figsize=(20,20))\n",
    "plt.show()"
   ]
  },
  {
   "cell_type": "markdown",
   "metadata": {},
   "source": [
    "## check each label percentage from dataset\n"
   ]
  },
  {
   "cell_type": "code",
   "execution_count": 19,
   "metadata": {},
   "outputs": [
    {
     "name": "stdout",
     "output_type": "stream",
     "text": [
      "Percentage of fake accounts is 26.75% and non-fake accounts is: 73.25%\n"
     ]
    }
   ],
   "source": [
    "print(\"Percentage of fake accounts is {:.2f}% and non-fake accounts is: {:.2f}%\".format(\n",
    "    df[df['ISBOT'] == True].shape[0] / df.shape[0]*100,\n",
    "    df[df['ISBOT'] == False].shape[0] / df.shape[0]*100))"
   ]
  },
  {
   "cell_type": "markdown",
   "metadata": {},
   "source": [
    "> It can be observed that the dataset is inbalanced (skewed towards non fake accounts).\n"
   ]
  },
  {
   "cell_type": "markdown",
   "metadata": {},
   "source": [
    "## Down sampling (balancing dataset)\n"
   ]
  },
  {
   "cell_type": "code",
   "execution_count": 20,
   "metadata": {},
   "outputs": [
    {
     "data": {
      "text/plain": [
       "(332212, 12)"
      ]
     },
     "execution_count": 20,
     "metadata": {},
     "output_type": "execute_result"
    }
   ],
   "source": [
    "bot = df[df['ISBOT'] == True]\n",
    "bot.shape"
   ]
  },
  {
   "cell_type": "code",
   "execution_count": 21,
   "metadata": {},
   "outputs": [
    {
     "data": {
      "text/plain": [
       "(909794, 12)"
      ]
     },
     "execution_count": 21,
     "metadata": {},
     "output_type": "execute_result"
    }
   ],
   "source": [
    "not_bot = df[df['ISBOT'] == False]\n",
    "not_bot.shape\n"
   ]
  },
  {
   "cell_type": "code",
   "execution_count": 22,
   "metadata": {},
   "outputs": [],
   "source": [
    "# Dealing with imbalanced dataset.\n",
    "# Random under sampling.\n",
    "not_bot_downsampled = resample(not_bot,\n",
    "                                   replace=False,  # sample without replacement\n",
    "                                   n_samples= bot.shape[0],  # to match minority class\n",
    "                                   )  # reproducible results"
   ]
  },
  {
   "cell_type": "markdown",
   "metadata": {},
   "source": [
    "### Combine the new dataset\n"
   ]
  },
  {
   "cell_type": "code",
   "execution_count": 23,
   "metadata": {},
   "outputs": [],
   "source": [
    "main_df = pd.concat([bot, not_bot_downsampled])"
   ]
  },
  {
   "cell_type": "code",
   "execution_count": 24,
   "metadata": {},
   "outputs": [
    {
     "data": {
      "text/plain": [
       "ISBOT\n",
       "True     332212\n",
       "False    332212\n",
       "Name: count, dtype: int64"
      ]
     },
     "execution_count": 24,
     "metadata": {},
     "output_type": "execute_result"
    }
   ],
   "source": [
    "main_df['ISBOT'].value_counts()"
   ]
  },
  {
   "cell_type": "markdown",
   "metadata": {},
   "source": [
    "## Encoding dataset\n"
   ]
  },
  {
   "cell_type": "code",
   "execution_count": 25,
   "metadata": {},
   "outputs": [],
   "source": [
    "le = LabelEncoder()\n"
   ]
  },
  {
   "cell_type": "code",
   "execution_count": 26,
   "metadata": {},
   "outputs": [],
   "source": [
    "# Performing Label Encoding on the target variable.\n",
    "main_df[\"ISBOT\"] = le.fit_transform(main_df[\"ISBOT\"])\n"
   ]
  },
  {
   "cell_type": "code",
   "execution_count": 27,
   "metadata": {},
   "outputs": [],
   "source": [
    "X = main_df.drop('ISBOT', axis=1) # feature\n",
    "y = main_df['ISBOT'] # target"
   ]
  },
  {
   "cell_type": "code",
   "execution_count": 28,
   "metadata": {},
   "outputs": [
    {
     "data": {
      "application/vnd.microsoft.datawrangler.viewer.v0+json": {
       "columns": [
        {
         "name": "index",
         "rawType": "int64",
         "type": "integer"
        },
        {
         "name": "IS_GLOGIN",
         "rawType": "bool",
         "type": "boolean"
        },
        {
         "name": "FOLLOWER_COUNT",
         "rawType": "float64",
         "type": "float"
        },
        {
         "name": "FOLLOWING_COUNT",
         "rawType": "float64",
         "type": "float"
        },
        {
         "name": "DATASET_COUNT",
         "rawType": "float64",
         "type": "float"
        },
        {
         "name": "CODE_COUNT",
         "rawType": "float64",
         "type": "float"
        },
        {
         "name": "DISCUSSION_COUNT",
         "rawType": "float64",
         "type": "float"
        },
        {
         "name": "AVG_NB_READ_TIME_MIN",
         "rawType": "float64",
         "type": "float"
        },
        {
         "name": "TOTAL_VOTES_GAVE_NB",
         "rawType": "float64",
         "type": "float"
        },
        {
         "name": "TOTAL_VOTES_GAVE_DS",
         "rawType": "float64",
         "type": "float"
        },
        {
         "name": "TOTAL_VOTES_GAVE_DC",
         "rawType": "float64",
         "type": "float"
        },
        {
         "name": "GENDER_Female",
         "rawType": "bool",
         "type": "boolean"
        },
        {
         "name": "GENDER_Male",
         "rawType": "bool",
         "type": "boolean"
        }
       ],
       "conversionMethod": "pd.DataFrame",
       "ref": "db1626e7-00b2-491e-a0e1-7bdd8f5ed302",
       "rows": [
        [
         "5",
         "False",
         "2.0",
         "2.0",
         "0.0",
         "0.0",
         "0.0",
         "0.62",
         "18.0",
         "9.0",
         "2.0",
         "False",
         "True"
        ],
        [
         "7",
         "False",
         "2.0",
         "1.0",
         "0.0",
         "0.0",
         "6.0",
         "1.85",
         "21.0",
         "3.0",
         "1.0",
         "True",
         "False"
        ],
        [
         "15",
         "False",
         "0.0",
         "2.0",
         "0.0",
         "0.0",
         "10.0",
         "1.32",
         "23.0",
         "8.0",
         "2.0",
         "False",
         "True"
        ],
        [
         "20",
         "False",
         "0.0",
         "3.0",
         "0.0",
         "0.0",
         "4.0",
         "0.83",
         "19.0",
         "9.0",
         "1.0",
         "True",
         "False"
        ],
        [
         "25",
         "False",
         "2.0",
         "0.0",
         "0.0",
         "1.0",
         "4.0",
         "1.49",
         "15.0",
         "9.0",
         "0.0",
         "False",
         "True"
        ],
        [
         "27",
         "False",
         "2.0",
         "2.0",
         "0.0",
         "0.0",
         "7.0",
         "0.96",
         "11.0",
         "7.0",
         "2.0",
         "False",
         "True"
        ],
        [
         "30",
         "False",
         "2.0",
         "2.0",
         "3.0",
         "10.0",
         "1.0",
         "0.6",
         "25.0",
         "6.0",
         "3.0",
         "False",
         "True"
        ],
        [
         "31",
         "False",
         "0.0",
         "2.0",
         "0.0",
         "0.0",
         "0.0",
         "0.4",
         "18.0",
         "6.0",
         "2.0",
         "False",
         "True"
        ],
        [
         "33",
         "False",
         "0.0",
         "0.0",
         "0.0",
         "10.0",
         "7.0",
         "13.0",
         "19.0",
         "8.0",
         "0.0",
         "False",
         "True"
        ],
        [
         "39",
         "False",
         "0.0",
         "0.0",
         "0.0",
         "10.0",
         "11.0",
         "0.36",
         "14.0",
         "5.0",
         "1.0",
         "False",
         "True"
        ]
       ],
       "shape": {
        "columns": 12,
        "rows": 10
       }
      },
      "text/html": [
       "<div>\n",
       "<style scoped>\n",
       "    .dataframe tbody tr th:only-of-type {\n",
       "        vertical-align: middle;\n",
       "    }\n",
       "\n",
       "    .dataframe tbody tr th {\n",
       "        vertical-align: top;\n",
       "    }\n",
       "\n",
       "    .dataframe thead th {\n",
       "        text-align: right;\n",
       "    }\n",
       "</style>\n",
       "<table border=\"1\" class=\"dataframe\">\n",
       "  <thead>\n",
       "    <tr style=\"text-align: right;\">\n",
       "      <th></th>\n",
       "      <th>IS_GLOGIN</th>\n",
       "      <th>FOLLOWER_COUNT</th>\n",
       "      <th>FOLLOWING_COUNT</th>\n",
       "      <th>DATASET_COUNT</th>\n",
       "      <th>CODE_COUNT</th>\n",
       "      <th>DISCUSSION_COUNT</th>\n",
       "      <th>AVG_NB_READ_TIME_MIN</th>\n",
       "      <th>TOTAL_VOTES_GAVE_NB</th>\n",
       "      <th>TOTAL_VOTES_GAVE_DS</th>\n",
       "      <th>TOTAL_VOTES_GAVE_DC</th>\n",
       "      <th>GENDER_Female</th>\n",
       "      <th>GENDER_Male</th>\n",
       "    </tr>\n",
       "  </thead>\n",
       "  <tbody>\n",
       "    <tr>\n",
       "      <th>5</th>\n",
       "      <td>False</td>\n",
       "      <td>2.0</td>\n",
       "      <td>2.0</td>\n",
       "      <td>0.0</td>\n",
       "      <td>0.0</td>\n",
       "      <td>0.0</td>\n",
       "      <td>0.62</td>\n",
       "      <td>18.0</td>\n",
       "      <td>9.0</td>\n",
       "      <td>2.0</td>\n",
       "      <td>False</td>\n",
       "      <td>True</td>\n",
       "    </tr>\n",
       "    <tr>\n",
       "      <th>7</th>\n",
       "      <td>False</td>\n",
       "      <td>2.0</td>\n",
       "      <td>1.0</td>\n",
       "      <td>0.0</td>\n",
       "      <td>0.0</td>\n",
       "      <td>6.0</td>\n",
       "      <td>1.85</td>\n",
       "      <td>21.0</td>\n",
       "      <td>3.0</td>\n",
       "      <td>1.0</td>\n",
       "      <td>True</td>\n",
       "      <td>False</td>\n",
       "    </tr>\n",
       "    <tr>\n",
       "      <th>15</th>\n",
       "      <td>False</td>\n",
       "      <td>0.0</td>\n",
       "      <td>2.0</td>\n",
       "      <td>0.0</td>\n",
       "      <td>0.0</td>\n",
       "      <td>10.0</td>\n",
       "      <td>1.32</td>\n",
       "      <td>23.0</td>\n",
       "      <td>8.0</td>\n",
       "      <td>2.0</td>\n",
       "      <td>False</td>\n",
       "      <td>True</td>\n",
       "    </tr>\n",
       "    <tr>\n",
       "      <th>20</th>\n",
       "      <td>False</td>\n",
       "      <td>0.0</td>\n",
       "      <td>3.0</td>\n",
       "      <td>0.0</td>\n",
       "      <td>0.0</td>\n",
       "      <td>4.0</td>\n",
       "      <td>0.83</td>\n",
       "      <td>19.0</td>\n",
       "      <td>9.0</td>\n",
       "      <td>1.0</td>\n",
       "      <td>True</td>\n",
       "      <td>False</td>\n",
       "    </tr>\n",
       "    <tr>\n",
       "      <th>25</th>\n",
       "      <td>False</td>\n",
       "      <td>2.0</td>\n",
       "      <td>0.0</td>\n",
       "      <td>0.0</td>\n",
       "      <td>1.0</td>\n",
       "      <td>4.0</td>\n",
       "      <td>1.49</td>\n",
       "      <td>15.0</td>\n",
       "      <td>9.0</td>\n",
       "      <td>0.0</td>\n",
       "      <td>False</td>\n",
       "      <td>True</td>\n",
       "    </tr>\n",
       "    <tr>\n",
       "      <th>27</th>\n",
       "      <td>False</td>\n",
       "      <td>2.0</td>\n",
       "      <td>2.0</td>\n",
       "      <td>0.0</td>\n",
       "      <td>0.0</td>\n",
       "      <td>7.0</td>\n",
       "      <td>0.96</td>\n",
       "      <td>11.0</td>\n",
       "      <td>7.0</td>\n",
       "      <td>2.0</td>\n",
       "      <td>False</td>\n",
       "      <td>True</td>\n",
       "    </tr>\n",
       "    <tr>\n",
       "      <th>30</th>\n",
       "      <td>False</td>\n",
       "      <td>2.0</td>\n",
       "      <td>2.0</td>\n",
       "      <td>3.0</td>\n",
       "      <td>10.0</td>\n",
       "      <td>1.0</td>\n",
       "      <td>0.60</td>\n",
       "      <td>25.0</td>\n",
       "      <td>6.0</td>\n",
       "      <td>3.0</td>\n",
       "      <td>False</td>\n",
       "      <td>True</td>\n",
       "    </tr>\n",
       "    <tr>\n",
       "      <th>31</th>\n",
       "      <td>False</td>\n",
       "      <td>0.0</td>\n",
       "      <td>2.0</td>\n",
       "      <td>0.0</td>\n",
       "      <td>0.0</td>\n",
       "      <td>0.0</td>\n",
       "      <td>0.40</td>\n",
       "      <td>18.0</td>\n",
       "      <td>6.0</td>\n",
       "      <td>2.0</td>\n",
       "      <td>False</td>\n",
       "      <td>True</td>\n",
       "    </tr>\n",
       "    <tr>\n",
       "      <th>33</th>\n",
       "      <td>False</td>\n",
       "      <td>0.0</td>\n",
       "      <td>0.0</td>\n",
       "      <td>0.0</td>\n",
       "      <td>10.0</td>\n",
       "      <td>7.0</td>\n",
       "      <td>13.00</td>\n",
       "      <td>19.0</td>\n",
       "      <td>8.0</td>\n",
       "      <td>0.0</td>\n",
       "      <td>False</td>\n",
       "      <td>True</td>\n",
       "    </tr>\n",
       "    <tr>\n",
       "      <th>39</th>\n",
       "      <td>False</td>\n",
       "      <td>0.0</td>\n",
       "      <td>0.0</td>\n",
       "      <td>0.0</td>\n",
       "      <td>10.0</td>\n",
       "      <td>11.0</td>\n",
       "      <td>0.36</td>\n",
       "      <td>14.0</td>\n",
       "      <td>5.0</td>\n",
       "      <td>1.0</td>\n",
       "      <td>False</td>\n",
       "      <td>True</td>\n",
       "    </tr>\n",
       "  </tbody>\n",
       "</table>\n",
       "</div>"
      ],
      "text/plain": [
       "    IS_GLOGIN  FOLLOWER_COUNT  FOLLOWING_COUNT  DATASET_COUNT  CODE_COUNT  \\\n",
       "5       False             2.0              2.0            0.0         0.0   \n",
       "7       False             2.0              1.0            0.0         0.0   \n",
       "15      False             0.0              2.0            0.0         0.0   \n",
       "20      False             0.0              3.0            0.0         0.0   \n",
       "25      False             2.0              0.0            0.0         1.0   \n",
       "27      False             2.0              2.0            0.0         0.0   \n",
       "30      False             2.0              2.0            3.0        10.0   \n",
       "31      False             0.0              2.0            0.0         0.0   \n",
       "33      False             0.0              0.0            0.0        10.0   \n",
       "39      False             0.0              0.0            0.0        10.0   \n",
       "\n",
       "    DISCUSSION_COUNT  AVG_NB_READ_TIME_MIN  TOTAL_VOTES_GAVE_NB  \\\n",
       "5                0.0                  0.62                 18.0   \n",
       "7                6.0                  1.85                 21.0   \n",
       "15              10.0                  1.32                 23.0   \n",
       "20               4.0                  0.83                 19.0   \n",
       "25               4.0                  1.49                 15.0   \n",
       "27               7.0                  0.96                 11.0   \n",
       "30               1.0                  0.60                 25.0   \n",
       "31               0.0                  0.40                 18.0   \n",
       "33               7.0                 13.00                 19.0   \n",
       "39              11.0                  0.36                 14.0   \n",
       "\n",
       "    TOTAL_VOTES_GAVE_DS  TOTAL_VOTES_GAVE_DC  GENDER_Female  GENDER_Male  \n",
       "5                   9.0                  2.0          False         True  \n",
       "7                   3.0                  1.0           True        False  \n",
       "15                  8.0                  2.0          False         True  \n",
       "20                  9.0                  1.0           True        False  \n",
       "25                  9.0                  0.0          False         True  \n",
       "27                  7.0                  2.0          False         True  \n",
       "30                  6.0                  3.0          False         True  \n",
       "31                  6.0                  2.0          False         True  \n",
       "33                  8.0                  0.0          False         True  \n",
       "39                  5.0                  1.0          False         True  "
      ]
     },
     "execution_count": 28,
     "metadata": {},
     "output_type": "execute_result"
    }
   ],
   "source": [
    "# perform one-hot encoding on feature\n",
    "X = pd.get_dummies(X)\n",
    "X.head(10)"
   ]
  },
  {
   "cell_type": "markdown",
   "metadata": {},
   "source": [
    "## Scaling\n"
   ]
  },
  {
   "cell_type": "code",
   "execution_count": 29,
   "metadata": {},
   "outputs": [],
   "source": [
    "scaler = MinMaxScaler()\n"
   ]
  },
  {
   "cell_type": "code",
   "execution_count": 30,
   "metadata": {},
   "outputs": [
    {
     "data": {
      "application/vnd.microsoft.datawrangler.viewer.v0+json": {
       "columns": [
        {
         "name": "index",
         "rawType": "int64",
         "type": "integer"
        },
        {
         "name": "IS_GLOGIN",
         "rawType": "float64",
         "type": "float"
        },
        {
         "name": "FOLLOWER_COUNT",
         "rawType": "float64",
         "type": "float"
        },
        {
         "name": "FOLLOWING_COUNT",
         "rawType": "float64",
         "type": "float"
        },
        {
         "name": "DATASET_COUNT",
         "rawType": "float64",
         "type": "float"
        },
        {
         "name": "CODE_COUNT",
         "rawType": "float64",
         "type": "float"
        },
        {
         "name": "DISCUSSION_COUNT",
         "rawType": "float64",
         "type": "float"
        },
        {
         "name": "AVG_NB_READ_TIME_MIN",
         "rawType": "float64",
         "type": "float"
        },
        {
         "name": "TOTAL_VOTES_GAVE_NB",
         "rawType": "float64",
         "type": "float"
        },
        {
         "name": "TOTAL_VOTES_GAVE_DS",
         "rawType": "float64",
         "type": "float"
        },
        {
         "name": "TOTAL_VOTES_GAVE_DC",
         "rawType": "float64",
         "type": "float"
        },
        {
         "name": "GENDER_Female",
         "rawType": "float64",
         "type": "float"
        },
        {
         "name": "GENDER_Male",
         "rawType": "float64",
         "type": "float"
        }
       ],
       "conversionMethod": "pd.DataFrame",
       "ref": "df771c7f-03ba-4b76-ac1e-b30b10e847e5",
       "rows": [
        [
         "0",
         "0.0",
         "0.02857142857142857",
         "0.016666666666666666",
         "0.0",
         "0.0",
         "0.0",
         "0.02067355785261754",
         "0.5333333333333333",
         "0.857142857142857",
         "0.6666666666666666",
         "0.0",
         "1.0"
        ],
        [
         "1",
         "0.0",
         "0.02857142857142857",
         "0.008333333333333333",
         "0.0",
         "0.0",
         "0.04",
         "0.06168722907635879",
         "0.7333333333333333",
         "0.0",
         "0.3333333333333333",
         "1.0",
         "0.0"
        ],
        [
         "2",
         "0.0",
         "0.0",
         "0.016666666666666666",
         "0.0",
         "0.0",
         "0.06666666666666667",
         "0.04401467155718573",
         "0.8666666666666666",
         "0.7142857142857142",
         "0.6666666666666666",
         "0.0",
         "1.0"
        ],
        [
         "3",
         "0.0",
         "0.0",
         "0.025",
         "0.0",
         "0.0",
         "0.02666666666666667",
         "0.027675891963987995",
         "0.6",
         "0.857142857142857",
         "0.3333333333333333",
         "1.0",
         "0.0"
        ],
        [
         "4",
         "0.0",
         "0.02857142857142857",
         "0.0",
         "0.0",
         "0.04",
         "0.02666666666666667",
         "0.04968322774258086",
         "0.33333333333333337",
         "0.857142857142857",
         "0.0",
         "0.0",
         "1.0"
        ],
        [
         "5",
         "0.0",
         "0.02857142857142857",
         "0.016666666666666666",
         "0.0",
         "0.0",
         "0.04666666666666667",
         "0.032010670223407804",
         "0.06666666666666665",
         "0.5714285714285714",
         "0.6666666666666666",
         "0.0",
         "1.0"
        ],
        [
         "6",
         "0.0",
         "0.02857142857142857",
         "0.016666666666666666",
         "0.42857142857142855",
         "0.4",
         "0.006666666666666667",
         "0.02000666888962988",
         "1.0",
         "0.42857142857142855",
         "1.0",
         "0.0",
         "1.0"
        ],
        [
         "7",
         "0.0",
         "0.0",
         "0.016666666666666666",
         "0.0",
         "0.0",
         "0.0",
         "0.013337779259753253",
         "0.5333333333333333",
         "0.42857142857142855",
         "0.6666666666666666",
         "0.0",
         "1.0"
        ],
        [
         "8",
         "0.0",
         "0.0",
         "0.0",
         "0.0",
         "0.4",
         "0.04666666666666667",
         "0.4334778259419807",
         "0.6",
         "0.7142857142857142",
         "0.0",
         "0.0",
         "1.0"
        ],
        [
         "9",
         "0.0",
         "0.0",
         "0.0",
         "0.0",
         "0.4",
         "0.07333333333333333",
         "0.012004001333777926",
         "0.2666666666666667",
         "0.28571428571428564",
         "0.3333333333333333",
         "0.0",
         "1.0"
        ],
        [
         "10",
         "0.0",
         "0.014285714285714285",
         "0.016666666666666666",
         "0.0",
         "0.4",
         "0.060000000000000005",
         "0.016672224074691565",
         "0.6666666666666666",
         "0.0",
         "1.0",
         "0.0",
         "1.0"
        ],
        [
         "11",
         "0.0",
         "0.02857142857142857",
         "0.0",
         "0.0",
         "0.0",
         "0.013333333333333334",
         "0.4334778259419807",
         "0.7999999999999999",
         "0.0",
         "0.6666666666666666",
         "0.0",
         "1.0"
        ],
        [
         "12",
         "0.0",
         "0.3857142857142857",
         "0.025",
         "0.0",
         "0.04",
         "0.060000000000000005",
         "0.040680226742247416",
         "0.7999999999999999",
         "0.0",
         "1.0",
         "0.0",
         "1.0"
        ],
        [
         "13",
         "0.0",
         "0.014285714285714285",
         "0.025",
         "0.0",
         "0.04",
         "0.44",
         "0.01033677892630877",
         "0.6666666666666666",
         "0.28571428571428564",
         "0.0",
         "0.0",
         "1.0"
        ],
        [
         "14",
         "0.0",
         "0.014285714285714285",
         "0.008333333333333333",
         "0.0",
         "0.04",
         "0.013333333333333334",
         "0.04701567189063021",
         "0.5333333333333333",
         "0.28571428571428564",
         "0.0",
         "1.0",
         "0.0"
        ],
        [
         "15",
         "0.0",
         "0.0",
         "0.008333333333333333",
         "0.0",
         "0.04",
         "0.02",
         "0.009336445481827277",
         "0.4",
         "0.0",
         "0.3333333333333333",
         "1.0",
         "0.0"
        ],
        [
         "16",
         "0.0",
         "0.014285714285714285",
         "0.025",
         "0.0",
         "0.04",
         "0.07333333333333333",
         "0.026008669556518843",
         "0.7999999999999999",
         "0.0",
         "0.6666666666666666",
         "1.0",
         "0.0"
        ],
        [
         "17",
         "0.0",
         "0.014285714285714285",
         "0.0",
         "0.0",
         "0.04",
         "0.08666666666666667",
         "0.05568522840946982",
         "0.8666666666666666",
         "0.857142857142857",
         "0.0",
         "0.0",
         "1.0"
        ],
        [
         "18",
         "0.0",
         "0.0",
         "0.025",
         "0.0",
         "0.04",
         "0.08666666666666667",
         "0.014338112704234745",
         "0.0",
         "0.857142857142857",
         "0.6666666666666666",
         "0.0",
         "1.0"
        ],
        [
         "19",
         "0.0",
         "0.3857142857142857",
         "0.025",
         "0.0",
         "0.04",
         "0.05333333333333334",
         "0.019339779926642212",
         "0.5333333333333333",
         "0.42857142857142855",
         "0.6666666666666666",
         "0.0",
         "1.0"
        ],
        [
         "20",
         "0.0",
         "0.0",
         "0.016666666666666666",
         "0.0",
         "0.04",
         "0.06666666666666667",
         "0.05401800600200067",
         "0.06666666666666665",
         "0.9999999999999998",
         "0.6666666666666666",
         "0.0",
         "1.0"
        ],
        [
         "21",
         "0.0",
         "0.014285714285714285",
         "0.008333333333333333",
         "0.0",
         "0.04",
         "0.07333333333333333",
         "0.05235078359453151",
         "0.4",
         "0.5714285714285714",
         "0.3333333333333333",
         "0.0",
         "1.0"
        ],
        [
         "22",
         "0.0",
         "0.014285714285714285",
         "0.375",
         "0.0",
         "0.04",
         "0.060000000000000005",
         "0.014004668222740914",
         "0.0",
         "0.5714285714285714",
         "0.0",
         "0.0",
         "1.0"
        ],
        [
         "23",
         "0.0",
         "0.014285714285714285",
         "0.025",
         "0.0",
         "0.04",
         "0.07333333333333333",
         "0.04968322774258086",
         "0.13333333333333341",
         "0.0",
         "1.0",
         "0.0",
         "1.0"
        ],
        [
         "24",
         "0.0",
         "0.014285714285714285",
         "0.0",
         "0.42857142857142855",
         "0.0",
         "0.060000000000000005",
         "0.03334444814938313",
         "0.7333333333333333",
         "0.42857142857142855",
         "0.6666666666666666",
         "0.0",
         "1.0"
        ],
        [
         "25",
         "0.0",
         "0.02857142857142857",
         "0.0",
         "0.0",
         "0.04",
         "0.08666666666666667",
         "0.03767922640880293",
         "0.8666666666666666",
         "0.14285714285714285",
         "0.3333333333333333",
         "0.0",
         "1.0"
        ],
        [
         "26",
         "0.0",
         "0.3857142857142857",
         "0.025",
         "0.0",
         "0.04",
         "0.44",
         "0.009336445481827277",
         "0.06666666666666665",
         "0.14285714285714285",
         "0.0",
         "0.0",
         "1.0"
        ],
        [
         "27",
         "0.0",
         "0.014285714285714285",
         "0.016666666666666666",
         "0.0",
         "0.04",
         "0.02666666666666667",
         "0.013337779259753253",
         "0.5333333333333333",
         "0.14285714285714285",
         "0.6666666666666666",
         "0.0",
         "1.0"
        ],
        [
         "28",
         "0.0",
         "0.0",
         "0.016666666666666666",
         "0.0",
         "0.0",
         "0.013333333333333334",
         "0.02867622540846949",
         "0.9333333333333335",
         "0.14285714285714285",
         "1.0",
         "0.0",
         "1.0"
        ],
        [
         "29",
         "0.0",
         "0.02857142857142857",
         "0.008333333333333333",
         "0.0",
         "0.04",
         "0.44",
         "0.011003667889296433",
         "0.5333333333333333",
         "0.7142857142857142",
         "0.3333333333333333",
         "0.0",
         "1.0"
        ],
        [
         "30",
         "0.0",
         "0.014285714285714285",
         "0.008333333333333333",
         "0.0",
         "0.04",
         "0.05333333333333334",
         "0.05035011670556853",
         "1.0",
         "0.5714285714285714",
         "1.0",
         "0.0",
         "1.0"
        ],
        [
         "31",
         "0.0",
         "0.0",
         "0.008333333333333333",
         "0.0",
         "0.04",
         "0.006666666666666667",
         "0.05701900633544515",
         "0.2666666666666667",
         "0.857142857142857",
         "0.3333333333333333",
         "0.0",
         "1.0"
        ],
        [
         "32",
         "0.0",
         "0.014285714285714285",
         "0.025",
         "0.0",
         "0.04",
         "0.04666666666666667",
         "0.010670223407802602",
         "0.06666666666666665",
         "0.9999999999999998",
         "0.3333333333333333",
         "0.0",
         "1.0"
        ],
        [
         "33",
         "0.0",
         "0.014285714285714285",
         "0.375",
         "0.0",
         "0.04",
         "0.0",
         "0.013004334778259422",
         "0.5333333333333333",
         "0.28571428571428564",
         "0.0",
         "0.0",
         "1.0"
        ],
        [
         "34",
         "0.0",
         "0.0",
         "0.375",
         "0.0",
         "0.04",
         "0.013333333333333334",
         "0.4334778259419807",
         "0.13333333333333341",
         "0.7142857142857142",
         "0.0",
         "0.0",
         "1.0"
        ],
        [
         "35",
         "0.0",
         "0.0",
         "0.016666666666666666",
         "0.0",
         "0.04",
         "0.07333333333333333",
         "0.021340446815605204",
         "0.8666666666666666",
         "0.14285714285714285",
         "0.0",
         "1.0",
         "0.0"
        ],
        [
         "36",
         "0.0",
         "0.0",
         "0.0",
         "0.0",
         "0.04",
         "0.08666666666666667",
         "0.059686562187395806",
         "0.6",
         "0.857142857142857",
         "0.0",
         "0.0",
         "1.0"
        ],
        [
         "37",
         "0.0",
         "0.0",
         "0.0",
         "0.0",
         "0.0",
         "0.006666666666666667",
         "0.05735245081693898",
         "1.0",
         "0.28571428571428564",
         "0.0",
         "0.0",
         "1.0"
        ],
        [
         "38",
         "0.0",
         "0.02857142857142857",
         "0.016666666666666666",
         "0.0",
         "0.04",
         "0.08",
         "0.009003001000333445",
         "0.7999999999999999",
         "0.28571428571428564",
         "0.6666666666666666",
         "0.0",
         "1.0"
        ],
        [
         "39",
         "0.0",
         "0.014285714285714285",
         "0.016666666666666666",
         "0.0",
         "0.04",
         "0.44",
         "0.04768256085361788",
         "0.8666666666666666",
         "0.5714285714285714",
         "0.6666666666666666",
         "1.0",
         "0.0"
        ],
        [
         "40",
         "0.0",
         "0.0",
         "0.025",
         "0.0",
         "0.04",
         "0.04666666666666667",
         "0.02300766922307436",
         "0.6666666666666666",
         "0.14285714285714285",
         "1.0",
         "0.0",
         "1.0"
        ],
        [
         "41",
         "0.0",
         "0.0",
         "0.0",
         "0.0",
         "0.0",
         "0.013333333333333334",
         "0.042347449149716575",
         "0.9333333333333335",
         "0.9999999999999998",
         "0.6666666666666666",
         "1.0",
         "0.0"
        ],
        [
         "42",
         "0.0",
         "0.02857142857142857",
         "0.008333333333333333",
         "0.0",
         "0.04",
         "0.04666666666666667",
         "0.052684228076025345",
         "0.6666666666666666",
         "0.5714285714285714",
         "0.3333333333333333",
         "0.0",
         "1.0"
        ],
        [
         "43",
         "0.0",
         "0.0",
         "0.025",
         "0.0",
         "0.04",
         "0.04666666666666667",
         "0.018672890963654553",
         "0.4666666666666667",
         "0.0",
         "0.3333333333333333",
         "1.0",
         "0.0"
        ],
        [
         "44",
         "0.0",
         "0.3857142857142857",
         "0.008333333333333333",
         "0.0",
         "0.0",
         "0.006666666666666667",
         "0.047349116372124044",
         "0.7999999999999999",
         "0.28571428571428564",
         "0.0",
         "0.0",
         "1.0"
        ],
        [
         "45",
         "0.0",
         "0.014285714285714285",
         "0.025",
         "0.0",
         "0.04",
         "0.04666666666666667",
         "0.05735245081693898",
         "0.2666666666666667",
         "0.0",
         "0.6666666666666666",
         "1.0",
         "0.0"
        ],
        [
         "46",
         "0.0",
         "0.0",
         "0.008333333333333333",
         "0.0",
         "0.04",
         "0.02",
         "0.04934978326108703",
         "1.0",
         "0.5714285714285714",
         "0.6666666666666666",
         "1.0",
         "0.0"
        ],
        [
         "47",
         "0.0",
         "0.0",
         "0.375",
         "0.0",
         "0.04",
         "0.08",
         "0.06302100700233411",
         "0.5333333333333333",
         "0.857142857142857",
         "0.3333333333333333",
         "0.0",
         "1.0"
        ],
        [
         "48",
         "0.0",
         "0.02857142857142857",
         "0.025",
         "0.0",
         "0.04",
         "0.07333333333333333",
         "0.04268089363121041",
         "1.0",
         "0.28571428571428564",
         "0.0",
         "1.0",
         "0.0"
        ],
        [
         "49",
         "0.0",
         "0.02857142857142857",
         "0.025",
         "0.0",
         "0.04",
         "0.02",
         "0.05835278426142047",
         "0.4666666666666667",
         "0.7142857142857142",
         "1.0",
         "0.0",
         "1.0"
        ]
       ],
       "shape": {
        "columns": 12,
        "rows": 664424
       }
      },
      "text/html": [
       "<div>\n",
       "<style scoped>\n",
       "    .dataframe tbody tr th:only-of-type {\n",
       "        vertical-align: middle;\n",
       "    }\n",
       "\n",
       "    .dataframe tbody tr th {\n",
       "        vertical-align: top;\n",
       "    }\n",
       "\n",
       "    .dataframe thead th {\n",
       "        text-align: right;\n",
       "    }\n",
       "</style>\n",
       "<table border=\"1\" class=\"dataframe\">\n",
       "  <thead>\n",
       "    <tr style=\"text-align: right;\">\n",
       "      <th></th>\n",
       "      <th>IS_GLOGIN</th>\n",
       "      <th>FOLLOWER_COUNT</th>\n",
       "      <th>FOLLOWING_COUNT</th>\n",
       "      <th>DATASET_COUNT</th>\n",
       "      <th>CODE_COUNT</th>\n",
       "      <th>DISCUSSION_COUNT</th>\n",
       "      <th>AVG_NB_READ_TIME_MIN</th>\n",
       "      <th>TOTAL_VOTES_GAVE_NB</th>\n",
       "      <th>TOTAL_VOTES_GAVE_DS</th>\n",
       "      <th>TOTAL_VOTES_GAVE_DC</th>\n",
       "      <th>GENDER_Female</th>\n",
       "      <th>GENDER_Male</th>\n",
       "    </tr>\n",
       "  </thead>\n",
       "  <tbody>\n",
       "    <tr>\n",
       "      <th>0</th>\n",
       "      <td>0.0</td>\n",
       "      <td>0.028571</td>\n",
       "      <td>0.016667</td>\n",
       "      <td>0.000000</td>\n",
       "      <td>0.00</td>\n",
       "      <td>0.000000</td>\n",
       "      <td>0.020674</td>\n",
       "      <td>0.533333</td>\n",
       "      <td>0.857143</td>\n",
       "      <td>0.666667</td>\n",
       "      <td>0.0</td>\n",
       "      <td>1.0</td>\n",
       "    </tr>\n",
       "    <tr>\n",
       "      <th>1</th>\n",
       "      <td>0.0</td>\n",
       "      <td>0.028571</td>\n",
       "      <td>0.008333</td>\n",
       "      <td>0.000000</td>\n",
       "      <td>0.00</td>\n",
       "      <td>0.040000</td>\n",
       "      <td>0.061687</td>\n",
       "      <td>0.733333</td>\n",
       "      <td>0.000000</td>\n",
       "      <td>0.333333</td>\n",
       "      <td>1.0</td>\n",
       "      <td>0.0</td>\n",
       "    </tr>\n",
       "    <tr>\n",
       "      <th>2</th>\n",
       "      <td>0.0</td>\n",
       "      <td>0.000000</td>\n",
       "      <td>0.016667</td>\n",
       "      <td>0.000000</td>\n",
       "      <td>0.00</td>\n",
       "      <td>0.066667</td>\n",
       "      <td>0.044015</td>\n",
       "      <td>0.866667</td>\n",
       "      <td>0.714286</td>\n",
       "      <td>0.666667</td>\n",
       "      <td>0.0</td>\n",
       "      <td>1.0</td>\n",
       "    </tr>\n",
       "    <tr>\n",
       "      <th>3</th>\n",
       "      <td>0.0</td>\n",
       "      <td>0.000000</td>\n",
       "      <td>0.025000</td>\n",
       "      <td>0.000000</td>\n",
       "      <td>0.00</td>\n",
       "      <td>0.026667</td>\n",
       "      <td>0.027676</td>\n",
       "      <td>0.600000</td>\n",
       "      <td>0.857143</td>\n",
       "      <td>0.333333</td>\n",
       "      <td>1.0</td>\n",
       "      <td>0.0</td>\n",
       "    </tr>\n",
       "    <tr>\n",
       "      <th>4</th>\n",
       "      <td>0.0</td>\n",
       "      <td>0.028571</td>\n",
       "      <td>0.000000</td>\n",
       "      <td>0.000000</td>\n",
       "      <td>0.04</td>\n",
       "      <td>0.026667</td>\n",
       "      <td>0.049683</td>\n",
       "      <td>0.333333</td>\n",
       "      <td>0.857143</td>\n",
       "      <td>0.000000</td>\n",
       "      <td>0.0</td>\n",
       "      <td>1.0</td>\n",
       "    </tr>\n",
       "    <tr>\n",
       "      <th>...</th>\n",
       "      <td>...</td>\n",
       "      <td>...</td>\n",
       "      <td>...</td>\n",
       "      <td>...</td>\n",
       "      <td>...</td>\n",
       "      <td>...</td>\n",
       "      <td>...</td>\n",
       "      <td>...</td>\n",
       "      <td>...</td>\n",
       "      <td>...</td>\n",
       "      <td>...</td>\n",
       "      <td>...</td>\n",
       "    </tr>\n",
       "    <tr>\n",
       "      <th>664419</th>\n",
       "      <td>1.0</td>\n",
       "      <td>1.000000</td>\n",
       "      <td>0.791667</td>\n",
       "      <td>0.142857</td>\n",
       "      <td>0.92</td>\n",
       "      <td>0.793333</td>\n",
       "      <td>0.195398</td>\n",
       "      <td>0.133333</td>\n",
       "      <td>1.000000</td>\n",
       "      <td>0.000000</td>\n",
       "      <td>1.0</td>\n",
       "      <td>0.0</td>\n",
       "    </tr>\n",
       "    <tr>\n",
       "      <th>664420</th>\n",
       "      <td>0.0</td>\n",
       "      <td>0.714286</td>\n",
       "      <td>0.300000</td>\n",
       "      <td>0.571429</td>\n",
       "      <td>0.72</td>\n",
       "      <td>0.813333</td>\n",
       "      <td>0.706235</td>\n",
       "      <td>0.800000</td>\n",
       "      <td>0.571429</td>\n",
       "      <td>0.666667</td>\n",
       "      <td>0.0</td>\n",
       "      <td>1.0</td>\n",
       "    </tr>\n",
       "    <tr>\n",
       "      <th>664421</th>\n",
       "      <td>0.0</td>\n",
       "      <td>0.714286</td>\n",
       "      <td>0.858333</td>\n",
       "      <td>0.857143</td>\n",
       "      <td>0.32</td>\n",
       "      <td>0.440000</td>\n",
       "      <td>0.428143</td>\n",
       "      <td>0.533333</td>\n",
       "      <td>0.285714</td>\n",
       "      <td>0.666667</td>\n",
       "      <td>0.0</td>\n",
       "      <td>1.0</td>\n",
       "    </tr>\n",
       "    <tr>\n",
       "      <th>664422</th>\n",
       "      <td>0.0</td>\n",
       "      <td>0.500000</td>\n",
       "      <td>0.725000</td>\n",
       "      <td>0.857143</td>\n",
       "      <td>0.36</td>\n",
       "      <td>0.406667</td>\n",
       "      <td>0.240080</td>\n",
       "      <td>0.733333</td>\n",
       "      <td>0.142857</td>\n",
       "      <td>1.000000</td>\n",
       "      <td>1.0</td>\n",
       "      <td>0.0</td>\n",
       "    </tr>\n",
       "    <tr>\n",
       "      <th>664423</th>\n",
       "      <td>0.0</td>\n",
       "      <td>0.842857</td>\n",
       "      <td>0.816667</td>\n",
       "      <td>0.000000</td>\n",
       "      <td>0.44</td>\n",
       "      <td>0.860000</td>\n",
       "      <td>0.833278</td>\n",
       "      <td>0.133333</td>\n",
       "      <td>0.571429</td>\n",
       "      <td>1.000000</td>\n",
       "      <td>1.0</td>\n",
       "      <td>0.0</td>\n",
       "    </tr>\n",
       "  </tbody>\n",
       "</table>\n",
       "<p>664424 rows × 12 columns</p>\n",
       "</div>"
      ],
      "text/plain": [
       "        IS_GLOGIN  FOLLOWER_COUNT  FOLLOWING_COUNT  DATASET_COUNT  CODE_COUNT  \\\n",
       "0             0.0        0.028571         0.016667       0.000000        0.00   \n",
       "1             0.0        0.028571         0.008333       0.000000        0.00   \n",
       "2             0.0        0.000000         0.016667       0.000000        0.00   \n",
       "3             0.0        0.000000         0.025000       0.000000        0.00   \n",
       "4             0.0        0.028571         0.000000       0.000000        0.04   \n",
       "...           ...             ...              ...            ...         ...   \n",
       "664419        1.0        1.000000         0.791667       0.142857        0.92   \n",
       "664420        0.0        0.714286         0.300000       0.571429        0.72   \n",
       "664421        0.0        0.714286         0.858333       0.857143        0.32   \n",
       "664422        0.0        0.500000         0.725000       0.857143        0.36   \n",
       "664423        0.0        0.842857         0.816667       0.000000        0.44   \n",
       "\n",
       "        DISCUSSION_COUNT  AVG_NB_READ_TIME_MIN  TOTAL_VOTES_GAVE_NB  \\\n",
       "0               0.000000              0.020674             0.533333   \n",
       "1               0.040000              0.061687             0.733333   \n",
       "2               0.066667              0.044015             0.866667   \n",
       "3               0.026667              0.027676             0.600000   \n",
       "4               0.026667              0.049683             0.333333   \n",
       "...                  ...                   ...                  ...   \n",
       "664419          0.793333              0.195398             0.133333   \n",
       "664420          0.813333              0.706235             0.800000   \n",
       "664421          0.440000              0.428143             0.533333   \n",
       "664422          0.406667              0.240080             0.733333   \n",
       "664423          0.860000              0.833278             0.133333   \n",
       "\n",
       "        TOTAL_VOTES_GAVE_DS  TOTAL_VOTES_GAVE_DC  GENDER_Female  GENDER_Male  \n",
       "0                  0.857143             0.666667            0.0          1.0  \n",
       "1                  0.000000             0.333333            1.0          0.0  \n",
       "2                  0.714286             0.666667            0.0          1.0  \n",
       "3                  0.857143             0.333333            1.0          0.0  \n",
       "4                  0.857143             0.000000            0.0          1.0  \n",
       "...                     ...                  ...            ...          ...  \n",
       "664419             1.000000             0.000000            1.0          0.0  \n",
       "664420             0.571429             0.666667            0.0          1.0  \n",
       "664421             0.285714             0.666667            0.0          1.0  \n",
       "664422             0.142857             1.000000            1.0          0.0  \n",
       "664423             0.571429             1.000000            1.0          0.0  \n",
       "\n",
       "[664424 rows x 12 columns]"
      ]
     },
     "execution_count": 30,
     "metadata": {},
     "output_type": "execute_result"
    }
   ],
   "source": [
    "X_norm = scaler.fit_transform(X)\n",
    "X = pd.DataFrame(X_norm, columns=X.columns)\n",
    "\n",
    "X"
   ]
  },
  {
   "cell_type": "code",
   "execution_count": null,
   "metadata": {},
   "outputs": [],
   "source": []
  },
  {
   "cell_type": "markdown",
   "metadata": {},
   "source": [
    "# Train\n"
   ]
  },
  {
   "cell_type": "code",
   "execution_count": 31,
   "metadata": {},
   "outputs": [],
   "source": [
    "X_train, X_test, y_train, y_test = train_test_split(X, y, test_size=0.2, random_state=42)\n"
   ]
  },
  {
   "cell_type": "code",
   "execution_count": 32,
   "metadata": {},
   "outputs": [],
   "source": [
    "# For tracking all models' performance\n",
    "all_models_results = []"
   ]
  },
  {
   "cell_type": "markdown",
   "metadata": {},
   "source": [
    "### Helper functions\n"
   ]
  },
  {
   "cell_type": "code",
   "execution_count": 33,
   "metadata": {},
   "outputs": [],
   "source": [
    "# evaluate models function\n",
    "def evaluate_model(model, X_test, y_test, model_name):\n",
    "    \"\"\"Evaluate the model and print results\"\"\"\n",
    "    y_pred = model.predict(X_test)\n",
    "    print(f\"\\n--- {model_name} Results ---\")\n",
    "    print(f\"Accuracy: {accuracy_score(y_test, y_pred):.4f}\")\n",
    "    print(f\"Precision: {precision_score(y_test, y_pred, average='weighted'):.4f}\")\n",
    "    print(f\"Recall: {recall_score(y_test, y_pred, average='weighted'):.4f}\")\n",
    "    print(f\"F1-score: {f1_score(y_test, y_pred, average='weighted'):.4f}\")\n",
    "    print(\"\\nClassification Report:\")\n",
    "    print(classification_report(y_test, y_pred))\n",
    "    \n",
    "    # Create confusion matrix\n",
    "    cm = confusion_matrix(y_test, y_pred)\n",
    "    plt.figure(figsize=(8, 6))\n",
    "    sns.heatmap(cm, annot=True, fmt='d', cmap='Blues')\n",
    "    plt.title(f'Confusion Matrix - {model_name}')\n",
    "    plt.ylabel('True Label')\n",
    "    plt.xlabel('Predicted Label')\n",
    "    plt.show()\n",
    "    \n",
    "    return y_pred, {\n",
    "        'model': model_name,\n",
    "        'accuracy': accuracy_score(y_test, y_pred),\n",
    "        'precision': precision_score(y_test, y_pred, average='weighted'),\n",
    "        'recall': recall_score(y_test, y_pred, average='weighted'),\n",
    "        'f1': f1_score(y_test, y_pred, average='weighted')\n",
    "    }\n"
   ]
  },
  {
   "cell_type": "code",
   "execution_count": null,
   "metadata": {},
   "outputs": [],
   "source": [
    "def run_lr_grid_search(X_train, y_train):\n",
    "    print(\"\\n=== LogisticRegression Hyperparameter Tuning ===\")\n",
    "    \n",
    "    penalties = ['l1', 'l2', 'elasticnet', None]\n",
    "    C_values = [0.001, 0.01, 0.1, 1, 10, 100]\n",
    "    max_iter_values = [100, 200, 500]\n",
    "    cv = StratifiedKFold(n_splits=5, shuffle=True, random_state=42)\n",
    "    \n",
    "    best_score = 0\n",
    "    best_params = None\n",
    "    best_estimator = None\n",
    "    start_time = time()\n",
    "    \n",
    "    # Map each penalty to valid solvers\n",
    "    penalty_solver_map = {\n",
    "        'l1': ['liblinear', 'saga'],\n",
    "        'l2': ['newton-cg', 'lbfgs', 'liblinear', 'sag', 'saga'],\n",
    "        'elasticnet': ['saga'],\n",
    "        None: ['newton-cg', 'lbfgs', 'sag', 'saga']\n",
    "    }\n",
    "    \n",
    "    # Compute total iterations for progress tracking\n",
    "    n_combinations = 0\n",
    "    for penalty in penalties:\n",
    "        n_combinations += len(penalty_solver_map[penalty]) * len(C_values) * len(max_iter_values)\n",
    "    total_evaluations = n_combinations * cv.get_n_splits()\n",
    "    pbar = tqdm(total=total_evaluations, desc=\"LogisticRegression Grid Search\")\n",
    "    \n",
    "    # Iterate over all valid parameter combinations\n",
    "    for penalty in penalties:\n",
    "        solvers = penalty_solver_map[penalty]\n",
    "        for solver in solvers:\n",
    "            for C in C_values:\n",
    "                for max_iter in max_iter_values:\n",
    "                    try:\n",
    "                        current_params = {'solver': solver, 'C': C, 'max_iter': max_iter}\n",
    "                        scores = []\n",
    "                        \n",
    "                        # Cross-validation loop\n",
    "                        for train_idx, val_idx in cv.split(X_train, y_train):\n",
    "                            X_fold_train, X_fold_val = X_train.iloc[train_idx], X_train.iloc[val_idx]\n",
    "                            y_fold_train, y_fold_val = y_train.iloc[train_idx], y_train.iloc[val_idx]\n",
    "                            \n",
    "                            model = LogisticRegression(penalty=penalty, random_state=42, **current_params)\n",
    "                            model.fit(X_fold_train, y_fold_train)\n",
    "                            y_pred = model.predict(X_fold_val)\n",
    "                            scores.append(f1_score(y_fold_val, y_pred, average='weighted'))\n",
    "                            pbar.update(1)\n",
    "                        \n",
    "                        avg_score = np.mean(scores)\n",
    "                        if avg_score > best_score:\n",
    "                            best_score = avg_score\n",
    "                            best_params = {'penalty': penalty, **current_params}\n",
    "                            best_estimator = LogisticRegression(penalty=penalty, random_state=42, **current_params)\n",
    "                            best_estimator.fit(X_train, y_train)\n",
    "                    except Exception as e:\n",
    "                        # If configuration is invalid, update progress for this CV fold and continue.\n",
    "                        pbar.update(cv.get_n_splits())\n",
    "                        print(f\"\\n[Skipping] Invalid config (penalty={penalty}, solver={solver}): {e}\")\n",
    "    \n",
    "    pbar.close()\n",
    "    training_time = time() - start_time\n",
    "    print(f\"\\nTraining completed in {training_time:.2f} seconds\")\n",
    "    print(\"Best parameters from manual grid search:\", best_params)\n",
    "    return best_estimator, 'LogisticRegression', best_params, training_time\n"
   ]
  },
  {
   "cell_type": "code",
   "execution_count": null,
   "metadata": {},
   "outputs": [],
   "source": [
    "# Function to validate if a given penalty and solver combo is valid\n",
    "def is_valid_combination(penalty, solver):\n",
    "    if penalty == 'l1' and solver in ['newton-cg', 'sag']:\n",
    "        return False\n",
    "    if penalty == 'elasticnet' and solver != 'saga':\n",
    "        return False\n",
    "    if penalty is None and solver == 'liblinear':\n",
    "        return False\n",
    "    return True\n"
   ]
  },
  {
   "cell_type": "markdown",
   "metadata": {},
   "source": [
    "## Extra Trees\n"
   ]
  },
  {
   "cell_type": "code",
   "execution_count": 34,
   "metadata": {},
   "outputs": [
    {
     "name": "stdout",
     "output_type": "stream",
     "text": [
      "\n",
      "--- ExtraTreesClassifier Results ---\n",
      "Accuracy: 1.0000\n",
      "Precision: 1.0000\n",
      "Recall: 1.0000\n",
      "F1-score: 1.0000\n",
      "\n",
      "Classification Report:\n",
      "              precision    recall  f1-score   support\n",
      "\n",
      "           0       1.00      1.00      1.00     66635\n",
      "           1       1.00      1.00      1.00     66250\n",
      "\n",
      "    accuracy                           1.00    132885\n",
      "   macro avg       1.00      1.00      1.00    132885\n",
      "weighted avg       1.00      1.00      1.00    132885\n",
      "\n"
     ]
    },
    {
     "data": {
      "image/png": "[encoded data removed]",
      "text/plain": [
       "<Figure size 800x600 with 2 Axes>"
      ]
     },
     "metadata": {},
     "output_type": "display_data"
    },
    {
     "data": {
      "text/plain": [
       "(array([1, 0, 0, ..., 0, 1, 0]),\n",
       " {'model': 'ExtraTreesClassifier',\n",
       "  'accuracy': 1.0,\n",
       "  'precision': 1.0,\n",
       "  'recall': 1.0,\n",
       "  'f1': 1.0})"
      ]
     },
     "execution_count": 34,
     "metadata": {},
     "output_type": "execute_result"
    }
   ],
   "source": [
    "ET_model = ExtraTreesClassifier(random_state=42)\n",
    "ET_model.fit(X_train, y_train)\n",
    "\n",
    "evaluate_model(ET_model, X_test, y_test, 'ExtraTreesClassifier')\n"
   ]
  },
  {
   "cell_type": "code",
   "execution_count": 35,
   "metadata": {},
   "outputs": [
    {
     "name": "stdout",
     "output_type": "stream",
     "text": [
      "[6.83828745e-02 1.38243745e-01 1.36498988e-01 1.10595845e-01\n",
      " 1.33948289e-01 2.11482276e-01 2.00776003e-01 2.30104558e-05\n",
      " 2.16373049e-05 1.87339191e-05 4.50296506e-06 4.09555474e-06]\n"
     ]
    },
    {
     "data": {
      "image/png": "[encoded data removed]",
      "text/plain": [
       "<Figure size 2000x700 with 1 Axes>"
      ]
     },
     "metadata": {},
     "output_type": "display_data"
    }
   ],
   "source": [
    "print(ET_model.feature_importances_)\n",
    "feat_importance = pd.Series(ET_model.feature_importances_, index=X.columns)\n",
    "feat_importance.nlargest(10).plot(kind = 'barh')\n",
    "\n",
    "plt.show()"
   ]
  },
  {
   "cell_type": "code",
   "execution_count": 36,
   "metadata": {},
   "outputs": [
    {
     "data": {
      "text/plain": [
       "{'bootstrap': False,\n",
       " 'ccp_alpha': 0.0,\n",
       " 'class_weight': None,\n",
       " 'criterion': 'gini',\n",
       " 'max_depth': None,\n",
       " 'max_features': 'sqrt',\n",
       " 'max_leaf_nodes': None,\n",
       " 'max_samples': None,\n",
       " 'min_impurity_decrease': 0.0,\n",
       " 'min_samples_leaf': 1,\n",
       " 'min_samples_split': 2,\n",
       " 'min_weight_fraction_leaf': 0.0,\n",
       " 'monotonic_cst': None,\n",
       " 'n_estimators': 100,\n",
       " 'n_jobs': None,\n",
       " 'oob_score': False,\n",
       " 'random_state': 42,\n",
       " 'verbose': 0,\n",
       " 'warm_start': False}"
      ]
     },
     "execution_count": 36,
     "metadata": {},
     "output_type": "execute_result"
    }
   ],
   "source": [
    "ET_model.get_params()"
   ]
  },
  {
   "cell_type": "markdown",
   "metadata": {},
   "source": [
    "### Hyperparameter tuning\n"
   ]
  },
  {
   "cell_type": "code",
   "execution_count": 37,
   "metadata": {},
   "outputs": [],
   "source": [
    "ET_param_grid = {\n",
    "    'n_estimators': [50, 75, 100],\n",
    "    'max_depth': [None, 10, 20, 30],\n",
    "    'min_samples_split': [2, 5, 10],\n",
    "    'min_samples_leaf': [1, 2, 4]\n",
    "}"
   ]
  },
  {
   "cell_type": "code",
   "execution_count": 38,
   "metadata": {},
   "outputs": [],
   "source": [
    "ET_grid_search = GridSearchCV(ET_model, \n",
    "                              ET_param_grid, \n",
    "                              cv=5, \n",
    "                              scoring='f1_weighted',\n",
    "                              n_jobs=-1)"
   ]
  },
  {
   "cell_type": "code",
   "execution_count": 39,
   "metadata": {},
   "outputs": [
    {
     "name": "stdout",
     "output_type": "stream",
     "text": [
      "Training time: 1518.98 seconds\n",
      "Best parameters for ExtraTreesClassifier: {'max_depth': None, 'min_samples_leaf': 1, 'min_samples_split': 5, 'n_estimators': 75}\n",
      "\n",
      "--- ExtraTreesClassifier Results ---\n",
      "Accuracy: 1.0000\n",
      "Precision: 1.0000\n",
      "Recall: 1.0000\n",
      "F1-score: 1.0000\n",
      "\n",
      "Classification Report:\n",
      "              precision    recall  f1-score   support\n",
      "\n",
      "           0       1.00      1.00      1.00     66635\n",
      "           1       1.00      1.00      1.00     66250\n",
      "\n",
      "    accuracy                           1.00    132885\n",
      "   macro avg       1.00      1.00      1.00    132885\n",
      "weighted avg       1.00      1.00      1.00    132885\n",
      "\n"
     ]
    },
    {
     "data": {
      "image/png": "[encoded data removed]",
      "text/plain": [
       "<Figure size 800x600 with 2 Axes>"
      ]
     },
     "metadata": {},
     "output_type": "display_data"
    }
   ],
   "source": [
    "start_time = time()\n",
    "\n",
    "ET_grid_search.fit(X_train, y_train)\n",
    "\n",
    "print(f\"Training time: {time() - start_time:.2f} seconds\")\n",
    "print(\"Best parameters for ExtraTreesClassifier:\", ET_grid_search.best_params_)\n",
    "\n",
    "best_ET = ET_grid_search.best_estimator_\n",
    "_, ET_results = evaluate_model(best_ET, X_test, y_test, \"ExtraTreesClassifier\")\n",
    "\n",
    "all_models_results.append(ET_results)"
   ]
  },
  {
   "cell_type": "code",
   "execution_count": 40,
   "metadata": {},
   "outputs": [
    {
     "data": {
      "text/plain": [
       "['./model/ET_model.pkl']"
      ]
     },
     "execution_count": 40,
     "metadata": {},
     "output_type": "execute_result"
    }
   ],
   "source": [
    "# # save the trained model to a file\n",
    "joblib.dump(best_ET, './model/ET_model.pkl')\n"
   ]
  },
  {
   "cell_type": "markdown",
   "metadata": {},
   "source": [
    "## Logistic Regression\n"
   ]
  },
  {
   "cell_type": "code",
   "execution_count": 41,
   "metadata": {},
   "outputs": [
    {
     "name": "stdout",
     "output_type": "stream",
     "text": [
      "\n",
      "--- LogisticRegresions Results ---\n",
      "Accuracy: 0.9994\n",
      "Precision: 0.9994\n",
      "Recall: 0.9994\n",
      "F1-score: 0.9994\n",
      "\n",
      "Classification Report:\n",
      "              precision    recall  f1-score   support\n",
      "\n",
      "           0       1.00      1.00      1.00     66635\n",
      "           1       1.00      1.00      1.00     66250\n",
      "\n",
      "    accuracy                           1.00    132885\n",
      "   macro avg       1.00      1.00      1.00    132885\n",
      "weighted avg       1.00      1.00      1.00    132885\n",
      "\n"
     ]
    },
    {
     "data": {
      "image/png": "[encoded data removed]",
      "text/plain": [
       "<Figure size 800x600 with 2 Axes>"
      ]
     },
     "metadata": {},
     "output_type": "display_data"
    },
    {
     "data": {
      "text/plain": [
       "(array([1, 0, 0, ..., 0, 1, 0]),\n",
       " {'model': 'LogisticRegresions',\n",
       "  'accuracy': 0.9994356022124393,\n",
       "  'precision': 0.9994357580023469,\n",
       "  'recall': 0.9994356022124393,\n",
       "  'f1': 0.9994356026239841})"
      ]
     },
     "execution_count": 41,
     "metadata": {},
     "output_type": "execute_result"
    }
   ],
   "source": [
    "# define the logistic regression model\n",
    "LR_model = LogisticRegression(random_state=42)\n",
    "LR_model.fit(X_train, y_train)\n",
    "\n",
    "evaluate_model(LR_model, X_test, y_test, \"LogisticRegresions\")\n"
   ]
  },
  {
   "cell_type": "code",
   "execution_count": 42,
   "metadata": {},
   "outputs": [
    {
     "data": {
      "text/plain": [
       "{'C': 1.0,\n",
       " 'class_weight': None,\n",
       " 'dual': False,\n",
       " 'fit_intercept': True,\n",
       " 'intercept_scaling': 1,\n",
       " 'l1_ratio': None,\n",
       " 'max_iter': 100,\n",
       " 'multi_class': 'deprecated',\n",
       " 'n_jobs': None,\n",
       " 'penalty': 'l2',\n",
       " 'random_state': 42,\n",
       " 'solver': 'lbfgs',\n",
       " 'tol': 0.0001,\n",
       " 'verbose': 0,\n",
       " 'warm_start': False}"
      ]
     },
     "execution_count": 42,
     "metadata": {},
     "output_type": "execute_result"
    }
   ],
   "source": [
    "LR_model.get_params()\n"
   ]
  },
  {
   "cell_type": "markdown",
   "metadata": {},
   "source": [
    "### Hyperparameter tuning\n"
   ]
  },
  {
   "cell_type": "code",
   "execution_count": 43,
   "metadata": {},
   "outputs": [],
   "source": [
    "LR_param_grid = {\n",
    "    'C': [0.001, 0.01, 0.1],                 # Regularization strength\n",
    "    'penalty': ['l1', 'l2', 'elasticnet', None], # Penalty type\n",
    "    'solver': ['newton-cg', 'lbfgs', 'liblinear', 'sag', 'saga'], # Algorithm\n",
    "    'max_iter': [50, 75, 100]                    # Maximum iterations\n",
    "}"
   ]
  },
  {
   "cell_type": "code",
   "execution_count": null,
   "metadata": {},
   "outputs": [],
   "source": [
    "\n",
    "# Define valid parameter combinations\n",
    "LR_valid_params = []\n",
    "for p in LR_param_grid['penalty']:\n",
    "    for s in LR_param_grid['solver']:\n",
    "        # Check valid combinations\n",
    "        if p == 'l1' and s in ['newton-cg', 'sag']:\n",
    "            continue\n",
    "        if p == 'elasticnet' and s != 'saga':\n",
    "            continue\n",
    "        if p is None and s == 'liblinear':\n",
    "            continue\n",
    "        \n",
    "        # Create a parameter grid for this valid combination\n",
    "        valid_param = {\n",
    "            'C': LR_param_grid['C'],\n",
    "            'penalty': [p],\n",
    "            'solver': [s],\n",
    "            'max_iter': LR_param_grid['max_iter']\n",
    "        }\n",
    "        # Add all parameter combinations from this grid\n",
    "        LR_valid_params.extend(list(ParameterGrid(valid_param)))\n"
   ]
  },
  {
   "cell_type": "code",
   "execution_count": 45,
   "metadata": {},
   "outputs": [],
   "source": [
    "LR_grid_search = GridSearchCV(LR_model, \n",
    "                              LR_valid_params, \n",
    "                              cv=5, \n",
    "                              scoring='f1_weighted',\n",
    "                              n_jobs=-1)"
   ]
  },
  {
   "cell_type": "code",
   "execution_count": 46,
   "metadata": {},
   "outputs": [
    {
     "ename": "TypeError",
     "evalue": "Parameter grid for parameter 'C' needs to be a list or a numpy array, but got 0.001 (of type float) instead. Single values need to be wrapped in a list with one element.",
     "output_type": "error",
     "traceback": [
      "\u001b[1;31m---------------------------------------------------------------------------\u001b[0m",
      "\u001b[1;31mTypeError\u001b[0m                                 Traceback (most recent call last)",
      "Cell \u001b[1;32mIn[46], line 2\u001b[0m\n\u001b[0;32m      1\u001b[0m start_time \u001b[38;5;241m=\u001b[39m time()\n\u001b[1;32m----> 2\u001b[0m \u001b[43mLR_grid_search\u001b[49m\u001b[38;5;241;43m.\u001b[39;49m\u001b[43mfit\u001b[49m\u001b[43m(\u001b[49m\u001b[43mX_train\u001b[49m\u001b[43m,\u001b[49m\u001b[43m \u001b[49m\u001b[43my_train\u001b[49m\u001b[43m)\u001b[49m\n\u001b[0;32m      4\u001b[0m \u001b[38;5;28mprint\u001b[39m(\u001b[38;5;124mf\u001b[39m\u001b[38;5;124m\"\u001b[39m\u001b[38;5;124mTraining time: \u001b[39m\u001b[38;5;132;01m{\u001b[39;00mtime()\u001b[38;5;250m \u001b[39m\u001b[38;5;241m-\u001b[39m\u001b[38;5;250m \u001b[39mstart_time\u001b[38;5;132;01m:\u001b[39;00m\u001b[38;5;124m.2f\u001b[39m\u001b[38;5;132;01m}\u001b[39;00m\u001b[38;5;124m seconds\u001b[39m\u001b[38;5;124m\"\u001b[39m)\n\u001b[0;32m      5\u001b[0m \u001b[38;5;28mprint\u001b[39m(\u001b[38;5;124m\"\u001b[39m\u001b[38;5;124mBest parameters for LogisticRegression:\u001b[39m\u001b[38;5;124m\"\u001b[39m, LR_grid_search\u001b[38;5;241m.\u001b[39mbest_params_)\n",
      "File \u001b[1;32mc:\\laragon\\bin\\python\\python-3.12.7\\Lib\\site-packages\\sklearn\\base.py:1473\u001b[0m, in \u001b[0;36m_fit_context.<locals>.decorator.<locals>.wrapper\u001b[1;34m(estimator, *args, **kwargs)\u001b[0m\n\u001b[0;32m   1466\u001b[0m     estimator\u001b[38;5;241m.\u001b[39m_validate_params()\n\u001b[0;32m   1468\u001b[0m \u001b[38;5;28;01mwith\u001b[39;00m config_context(\n\u001b[0;32m   1469\u001b[0m     skip_parameter_validation\u001b[38;5;241m=\u001b[39m(\n\u001b[0;32m   1470\u001b[0m         prefer_skip_nested_validation \u001b[38;5;129;01mor\u001b[39;00m global_skip_validation\n\u001b[0;32m   1471\u001b[0m     )\n\u001b[0;32m   1472\u001b[0m ):\n\u001b[1;32m-> 1473\u001b[0m     \u001b[38;5;28;01mreturn\u001b[39;00m \u001b[43mfit_method\u001b[49m\u001b[43m(\u001b[49m\u001b[43mestimator\u001b[49m\u001b[43m,\u001b[49m\u001b[43m \u001b[49m\u001b[38;5;241;43m*\u001b[39;49m\u001b[43margs\u001b[49m\u001b[43m,\u001b[49m\u001b[43m \u001b[49m\u001b[38;5;241;43m*\u001b[39;49m\u001b[38;5;241;43m*\u001b[39;49m\u001b[43mkwargs\u001b[49m\u001b[43m)\u001b[49m\n",
      "File \u001b[1;32mc:\\laragon\\bin\\python\\python-3.12.7\\Lib\\site-packages\\sklearn\\model_selection\\_search.py:1019\u001b[0m, in \u001b[0;36mBaseSearchCV.fit\u001b[1;34m(self, X, y, **params)\u001b[0m\n\u001b[0;32m   1013\u001b[0m     results \u001b[38;5;241m=\u001b[39m \u001b[38;5;28mself\u001b[39m\u001b[38;5;241m.\u001b[39m_format_results(\n\u001b[0;32m   1014\u001b[0m         all_candidate_params, n_splits, all_out, all_more_results\n\u001b[0;32m   1015\u001b[0m     )\n\u001b[0;32m   1017\u001b[0m     \u001b[38;5;28;01mreturn\u001b[39;00m results\n\u001b[1;32m-> 1019\u001b[0m \u001b[38;5;28;43mself\u001b[39;49m\u001b[38;5;241;43m.\u001b[39;49m\u001b[43m_run_search\u001b[49m\u001b[43m(\u001b[49m\u001b[43mevaluate_candidates\u001b[49m\u001b[43m)\u001b[49m\n\u001b[0;32m   1021\u001b[0m \u001b[38;5;66;03m# multimetric is determined here because in the case of a callable\u001b[39;00m\n\u001b[0;32m   1022\u001b[0m \u001b[38;5;66;03m# self.scoring the return type is only known after calling\u001b[39;00m\n\u001b[0;32m   1023\u001b[0m first_test_score \u001b[38;5;241m=\u001b[39m all_out[\u001b[38;5;241m0\u001b[39m][\u001b[38;5;124m\"\u001b[39m\u001b[38;5;124mtest_scores\u001b[39m\u001b[38;5;124m\"\u001b[39m]\n",
      "File \u001b[1;32mc:\\laragon\\bin\\python\\python-3.12.7\\Lib\\site-packages\\sklearn\\model_selection\\_search.py:1573\u001b[0m, in \u001b[0;36mGridSearchCV._run_search\u001b[1;34m(self, evaluate_candidates)\u001b[0m\n\u001b[0;32m   1571\u001b[0m \u001b[38;5;28;01mdef\u001b[39;00m \u001b[38;5;21m_run_search\u001b[39m(\u001b[38;5;28mself\u001b[39m, evaluate_candidates):\n\u001b[0;32m   1572\u001b[0m \u001b[38;5;250m    \u001b[39m\u001b[38;5;124;03m\"\"\"Search all candidates in param_grid\"\"\"\u001b[39;00m\n\u001b[1;32m-> 1573\u001b[0m     evaluate_candidates(\u001b[43mParameterGrid\u001b[49m\u001b[43m(\u001b[49m\u001b[38;5;28;43mself\u001b[39;49m\u001b[38;5;241;43m.\u001b[39;49m\u001b[43mparam_grid\u001b[49m\u001b[43m)\u001b[49m)\n",
      "File \u001b[1;32mc:\\laragon\\bin\\python\\python-3.12.7\\Lib\\site-packages\\sklearn\\model_selection\\_search.py:132\u001b[0m, in \u001b[0;36mParameterGrid.__init__\u001b[1;34m(self, param_grid)\u001b[0m\n\u001b[0;32m    125\u001b[0m     \u001b[38;5;28;01mraise\u001b[39;00m \u001b[38;5;167;01mValueError\u001b[39;00m(\n\u001b[0;32m    126\u001b[0m         \u001b[38;5;124mf\u001b[39m\u001b[38;5;124m\"\u001b[39m\u001b[38;5;124mParameter array for \u001b[39m\u001b[38;5;132;01m{\u001b[39;00mkey\u001b[38;5;132;01m!r}\u001b[39;00m\u001b[38;5;124m should be one-dimensional, got:\u001b[39m\u001b[38;5;124m\"\u001b[39m\n\u001b[0;32m    127\u001b[0m         \u001b[38;5;124mf\u001b[39m\u001b[38;5;124m\"\u001b[39m\u001b[38;5;124m \u001b[39m\u001b[38;5;132;01m{\u001b[39;00mvalue\u001b[38;5;132;01m!r}\u001b[39;00m\u001b[38;5;124m with shape \u001b[39m\u001b[38;5;132;01m{\u001b[39;00mvalue\u001b[38;5;241m.\u001b[39mshape\u001b[38;5;132;01m}\u001b[39;00m\u001b[38;5;124m\"\u001b[39m\n\u001b[0;32m    128\u001b[0m     )\n\u001b[0;32m    129\u001b[0m \u001b[38;5;28;01mif\u001b[39;00m \u001b[38;5;28misinstance\u001b[39m(value, \u001b[38;5;28mstr\u001b[39m) \u001b[38;5;129;01mor\u001b[39;00m \u001b[38;5;129;01mnot\u001b[39;00m \u001b[38;5;28misinstance\u001b[39m(\n\u001b[0;32m    130\u001b[0m     value, (np\u001b[38;5;241m.\u001b[39mndarray, Sequence)\n\u001b[0;32m    131\u001b[0m ):\n\u001b[1;32m--> 132\u001b[0m     \u001b[38;5;28;01mraise\u001b[39;00m \u001b[38;5;167;01mTypeError\u001b[39;00m(\n\u001b[0;32m    133\u001b[0m         \u001b[38;5;124mf\u001b[39m\u001b[38;5;124m\"\u001b[39m\u001b[38;5;124mParameter grid for parameter \u001b[39m\u001b[38;5;132;01m{\u001b[39;00mkey\u001b[38;5;132;01m!r}\u001b[39;00m\u001b[38;5;124m needs to be a list or a\u001b[39m\u001b[38;5;124m\"\u001b[39m\n\u001b[0;32m    134\u001b[0m         \u001b[38;5;124mf\u001b[39m\u001b[38;5;124m\"\u001b[39m\u001b[38;5;124m numpy array, but got \u001b[39m\u001b[38;5;132;01m{\u001b[39;00mvalue\u001b[38;5;132;01m!r}\u001b[39;00m\u001b[38;5;124m (of type \u001b[39m\u001b[38;5;124m\"\u001b[39m\n\u001b[0;32m    135\u001b[0m         \u001b[38;5;124mf\u001b[39m\u001b[38;5;124m\"\u001b[39m\u001b[38;5;132;01m{\u001b[39;00m\u001b[38;5;28mtype\u001b[39m(value)\u001b[38;5;241m.\u001b[39m\u001b[38;5;18m__name__\u001b[39m\u001b[38;5;132;01m}\u001b[39;00m\u001b[38;5;124m) instead. Single values \u001b[39m\u001b[38;5;124m\"\u001b[39m\n\u001b[0;32m    136\u001b[0m         \u001b[38;5;124m\"\u001b[39m\u001b[38;5;124mneed to be wrapped in a list with one element.\u001b[39m\u001b[38;5;124m\"\u001b[39m\n\u001b[0;32m    137\u001b[0m     )\n\u001b[0;32m    138\u001b[0m \u001b[38;5;28;01mif\u001b[39;00m \u001b[38;5;28mlen\u001b[39m(value) \u001b[38;5;241m==\u001b[39m \u001b[38;5;241m0\u001b[39m:\n\u001b[0;32m    139\u001b[0m     \u001b[38;5;28;01mraise\u001b[39;00m \u001b[38;5;167;01mValueError\u001b[39;00m(\n\u001b[0;32m    140\u001b[0m         \u001b[38;5;124mf\u001b[39m\u001b[38;5;124m\"\u001b[39m\u001b[38;5;124mParameter grid for parameter \u001b[39m\u001b[38;5;132;01m{\u001b[39;00mkey\u001b[38;5;132;01m!r}\u001b[39;00m\u001b[38;5;124m need \u001b[39m\u001b[38;5;124m\"\u001b[39m\n\u001b[0;32m    141\u001b[0m         \u001b[38;5;124mf\u001b[39m\u001b[38;5;124m\"\u001b[39m\u001b[38;5;124mto be a non-empty sequence, got: \u001b[39m\u001b[38;5;132;01m{\u001b[39;00mvalue\u001b[38;5;132;01m!r}\u001b[39;00m\u001b[38;5;124m\"\u001b[39m\n\u001b[0;32m    142\u001b[0m     )\n",
      "\u001b[1;31mTypeError\u001b[0m: Parameter grid for parameter 'C' needs to be a list or a numpy array, but got 0.001 (of type float) instead. Single values need to be wrapped in a list with one element."
     ]
    }
   ],
   "source": [
    "start_time = time()\n",
    "LR_grid_search.fit(X_train, y_train)\n",
    "\n",
    "print(f\"Training time: {time() - start_time:.2f} seconds\")\n",
    "print(\"Best parameters for LogisticRegression:\", LR_grid_search.best_params_)\n",
    "\n",
    "best_LR = LR_grid_search.best_estimator_\n",
    "_, LR_results = evaluate_model(best_LR, X_test, y_test, \"LogisticRegression\")\n",
    "\n",
    "all_models_results.append(LR_results)"
   ]
  },
  {
   "cell_type": "code",
   "execution_count": null,
   "metadata": {},
   "outputs": [],
   "source": [
    "\n",
    "# # save the trained model to a file\n",
    "joblib.dump(best_LR, './model/LR_model.pkl')\n"
   ]
  },
  {
   "cell_type": "markdown",
   "metadata": {},
   "source": [
    "## Decission Tree\n"
   ]
  },
  {
   "cell_type": "code",
   "execution_count": null,
   "metadata": {},
   "outputs": [
    {
     "name": "stdout",
     "output_type": "stream",
     "text": [
      "\n",
      "--- Decision Tree Results ---\n",
      "Accuracy: 1.0000\n",
      "Precision: 1.0000\n",
      "Recall: 1.0000\n",
      "F1-score: 1.0000\n",
      "\n",
      "Classification Report:\n",
      "              precision    recall  f1-score   support\n",
      "\n",
      "           0       1.00      1.00      1.00     66650\n",
      "           1       1.00      1.00      1.00     66508\n",
      "\n",
      "    accuracy                           1.00    133158\n",
      "   macro avg       1.00      1.00      1.00    133158\n",
      "weighted avg       1.00      1.00      1.00    133158\n",
      "\n"
     ]
    },
    {
     "data": {
      "image/png": "[encoded data removed]",
      "text/plain": [
       "<Figure size 800x600 with 2 Axes>"
      ]
     },
     "metadata": {},
     "output_type": "display_data"
    },
    {
     "data": {
      "text/plain": [
       "(array([1, 0, 0, ..., 1, 0, 1]),\n",
       " {'model': 'Decision Tree',\n",
       "  'accuracy': 1.0,\n",
       "  'precision': 1.0,\n",
       "  'recall': 1.0,\n",
       "  'f1': 1.0})"
      ]
     },
     "execution_count": 46,
     "metadata": {},
     "output_type": "execute_result"
    }
   ],
   "source": [
    "# define the logistic regression model\n",
    "DT_model = DecisionTreeClassifier(random_state=42)\n",
    "\n",
    "DT_model.fit(X_train, y_train)\n",
    "\n",
    "evaluate_model(DT_model, X_test, y_test, 'Decision Tree')"
   ]
  },
  {
   "cell_type": "code",
   "execution_count": null,
   "metadata": {},
   "outputs": [
    {
     "data": {
      "text/plain": [
       "{'ccp_alpha': 0.0,\n",
       " 'class_weight': None,\n",
       " 'criterion': 'gini',\n",
       " 'max_depth': None,\n",
       " 'max_features': None,\n",
       " 'max_leaf_nodes': None,\n",
       " 'min_impurity_decrease': 0.0,\n",
       " 'min_samples_leaf': 1,\n",
       " 'min_samples_split': 2,\n",
       " 'min_weight_fraction_leaf': 0.0,\n",
       " 'monotonic_cst': None,\n",
       " 'random_state': 42,\n",
       " 'splitter': 'best'}"
      ]
     },
     "execution_count": 47,
     "metadata": {},
     "output_type": "execute_result"
    }
   ],
   "source": [
    "DT_model.get_params()"
   ]
  },
  {
   "cell_type": "markdown",
   "metadata": {},
   "source": [
    "### Hyperparameter tuning\n"
   ]
  },
  {
   "cell_type": "code",
   "execution_count": null,
   "metadata": {},
   "outputs": [],
   "source": [
    "DT_param_grid = {\n",
    "    'criterion': ['gini', 'entropy'],\n",
    "    'max_depth': [None, 5, 10, 15, 20],\n",
    "    'min_samples_split': [2, 5, 10],\n",
    "    'min_samples_leaf': [1, 2, 4],\n",
    "    'max_features': ['sqrt', 'log2', None]\n",
    "}"
   ]
  },
  {
   "cell_type": "code",
   "execution_count": null,
   "metadata": {},
   "outputs": [],
   "source": [
    "DT_grid_search = GridSearchCV(DT_model, \n",
    "                              DT_param_grid, \n",
    "                              cv=5, \n",
    "                              scoring='f1_weighted',\n",
    "                              n_jobs=-1)"
   ]
  },
  {
   "cell_type": "code",
   "execution_count": null,
   "metadata": {},
   "outputs": [
    {
     "name": "stdout",
     "output_type": "stream",
     "text": [
      "Training time: 114.78 seconds\n",
      "Best parameters for DecisionTreeClassifier: {'criterion': 'gini', 'max_depth': None, 'max_features': None, 'min_samples_leaf': 1, 'min_samples_split': 2}\n",
      "\n",
      "--- DecisionTreeClassifier Results ---\n",
      "Accuracy: 1.0000\n",
      "Precision: 1.0000\n",
      "Recall: 1.0000\n",
      "F1-score: 1.0000\n",
      "\n",
      "Classification Report:\n",
      "              precision    recall  f1-score   support\n",
      "\n",
      "           0       1.00      1.00      1.00     66650\n",
      "           1       1.00      1.00      1.00     66508\n",
      "\n",
      "    accuracy                           1.00    133158\n",
      "   macro avg       1.00      1.00      1.00    133158\n",
      "weighted avg       1.00      1.00      1.00    133158\n",
      "\n"
     ]
    },
    {
     "data": {
      "image/png": "[encoded data removed]",
      "text/plain": [
       "<Figure size 800x600 with 2 Axes>"
      ]
     },
     "metadata": {},
     "output_type": "display_data"
    }
   ],
   "source": [
    "start_time = time()\n",
    "DT_grid_search.fit(X_train, y_train)\n",
    "\n",
    "print(f\"Training time: {time() - start_time:.2f} seconds\")\n",
    "print(\"Best parameters for DecisionTreeClassifier:\", DT_grid_search.best_params_)\n",
    "\n",
    "best_DT = DT_grid_search.best_estimator_\n",
    "_, DT_results = evaluate_model(best_DT, X_test, y_test, \"DecisionTreeClassifier\")\n",
    "\n",
    "all_models_results.append(DT_results)"
   ]
  },
  {
   "cell_type": "code",
   "execution_count": null,
   "metadata": {},
   "outputs": [
    {
     "data": {
      "text/plain": [
       "['./model/DT_model.pkl']"
      ]
     },
     "execution_count": 51,
     "metadata": {},
     "output_type": "execute_result"
    }
   ],
   "source": [
    "# save the trained model to a file\n",
    "joblib.dump(best_DT, './model/DT_model.pkl')\n"
   ]
  },
  {
   "cell_type": "markdown",
   "metadata": {},
   "source": [
    "## Support Vector Machine\n"
   ]
  },
  {
   "cell_type": "code",
   "execution_count": null,
   "metadata": {},
   "outputs": [
    {
     "name": "stdout",
     "output_type": "stream",
     "text": [
      "\n",
      "--- SVC Results ---\n",
      "Accuracy: 0.9994\n",
      "Precision: 0.9994\n",
      "Recall: 0.9994\n",
      "F1-score: 0.9994\n",
      "\n",
      "Classification Report:\n",
      "              precision    recall  f1-score   support\n",
      "\n",
      "           0       1.00      1.00      1.00     66650\n",
      "           1       1.00      1.00      1.00     66508\n",
      "\n",
      "    accuracy                           1.00    133158\n",
      "   macro avg       1.00      1.00      1.00    133158\n",
      "weighted avg       1.00      1.00      1.00    133158\n",
      "\n"
     ]
    },
    {
     "data": {
      "image/png": "[encoded data removed]",
      "text/plain": [
       "<Figure size 800x600 with 2 Axes>"
      ]
     },
     "metadata": {},
     "output_type": "display_data"
    },
    {
     "data": {
      "text/plain": [
       "(array([1, 0, 0, ..., 1, 0, 1]),\n",
       " {'model': 'SVC',\n",
       "  'accuracy': 0.9993917000856126,\n",
       "  'precision': 0.9993918230930812,\n",
       "  'recall': 0.9993917000856126,\n",
       "  'f1': 0.999391700209015})"
      ]
     },
     "execution_count": 52,
     "metadata": {},
     "output_type": "execute_result"
    }
   ],
   "source": [
    "# define the SVM model\n",
    "SVM_model = SVC(kernel = 'poly', random_state=42)\n",
    "\n",
    "SVM_model.fit(X_train, y_train)\n",
    "\n",
    "evaluate_model(SVM_model, X_test, y_test, 'SVC')"
   ]
  },
  {
   "cell_type": "code",
   "execution_count": null,
   "metadata": {},
   "outputs": [
    {
     "data": {
      "text/plain": [
       "{'C': 1.0,\n",
       " 'break_ties': False,\n",
       " 'cache_size': 200,\n",
       " 'class_weight': None,\n",
       " 'coef0': 0.0,\n",
       " 'decision_function_shape': 'ovr',\n",
       " 'degree': 3,\n",
       " 'gamma': 'scale',\n",
       " 'kernel': 'poly',\n",
       " 'max_iter': -1,\n",
       " 'probability': False,\n",
       " 'random_state': 42,\n",
       " 'shrinking': True,\n",
       " 'tol': 0.001,\n",
       " 'verbose': False}"
      ]
     },
     "execution_count": 53,
     "metadata": {},
     "output_type": "execute_result"
    }
   ],
   "source": [
    "SVM_model.get_params()"
   ]
  },
  {
   "cell_type": "markdown",
   "metadata": {},
   "source": [
    "### Hyperparameter tuning\n"
   ]
  },
  {
   "cell_type": "code",
   "execution_count": null,
   "metadata": {},
   "outputs": [],
   "source": [
    "SVM_param_grid = {\n",
    "    'C': [0.1, 1, 10,],\n",
    "    'kernel': ['linear', 'poly', 'rbf', 'sigmoid'],\n",
    "    'gamma': ['scale', 'auto', 0.1, 0.01],\n",
    "    'probability': [True]  # Set to True to enable probability estimates\n",
    "}"
   ]
  },
  {
   "cell_type": "code",
   "execution_count": null,
   "metadata": {},
   "outputs": [],
   "source": [
    "SVM_grid_search = GridSearchCV(SVM_model, \n",
    "                               SVM_param_grid, \n",
    "                               cv=5, \n",
    "                               scoring='f1_weighted',\n",
    "                               n_jobs=-1)"
   ]
  },
  {
   "cell_type": "code",
   "execution_count": null,
   "metadata": {},
   "outputs": [],
   "source": [
    "start_time = time()\n",
    "SVM_grid_search.fit(X_train, y_train)\n",
    "\n",
    "print(f\"Training time: {time() - start_time:.2f} seconds\")\n",
    "print(\"Best parameters for SVC(SVM):\", SVM_grid_search.best_params_)\n",
    "\n",
    "best_SVM = SVM_grid_search.best_estimator_\n",
    "_, SVM_results = evaluate_model(best_SVM, X_test, y_test, \"SVC\")\n",
    "\n",
    "all_models_results.append(SVM_results)"
   ]
  },
  {
   "cell_type": "code",
   "execution_count": null,
   "metadata": {},
   "outputs": [],
   "source": [
    "# save the trained model to a file\n",
    "joblib.dump(best_SVM, './model/SVM_model.pkl')\n"
   ]
  },
  {
   "cell_type": "markdown",
   "metadata": {},
   "source": [
    "## Gradient Boosting\n"
   ]
  },
  {
   "cell_type": "code",
   "execution_count": null,
   "metadata": {},
   "outputs": [],
   "source": [
    "GB_model = GradientBoostingClassifier(random_state=42)\n",
    "\n",
    "GB_model.fit(X_train, y_train)\n",
    "\n",
    "evaluate_model(GB_model, X_test, y_test, 'GradientBoostingClassifier')"
   ]
  },
  {
   "cell_type": "code",
   "execution_count": null,
   "metadata": {},
   "outputs": [],
   "source": [
    "GB_model.get_params()"
   ]
  },
  {
   "cell_type": "markdown",
   "metadata": {},
   "source": [
    "### Hyperparameter tuning\n"
   ]
  },
  {
   "cell_type": "code",
   "execution_count": null,
   "metadata": {},
   "outputs": [],
   "source": [
    "GB_param_grid = {\n",
    "    'n_estimators': [50, 75, 100],\n",
    "    'learning_rate': [0.01, 0.1],\n",
    "    'max_depth': [3, 5, 7],\n",
    "    'min_samples_split': [2, 5, 7],\n",
    "    'subsample': [0.8, 0.9, 1.0]\n",
    "}"
   ]
  },
  {
   "cell_type": "code",
   "execution_count": null,
   "metadata": {},
   "outputs": [],
   "source": [
    "GB_grid_search = GridSearchCV(GB_model, \n",
    "                              GB_param_grid, \n",
    "                              cv=5, \n",
    "                              scoring='f1_weighted',\n",
    "                              n_jobs=-1)"
   ]
  },
  {
   "cell_type": "code",
   "execution_count": null,
   "metadata": {},
   "outputs": [],
   "source": [
    "start_time = time()\n",
    "GB_grid_search.fit(X_train, y_train)\n",
    "print(f\"Training time: {time() - start_time:.2f} seconds\")\n",
    "print(\"Best parameters for GradientBoostingClassifier:\", GB_grid_search.best_params_)\n",
    "best_GB = GB_grid_search.best_estimator_\n",
    "_, GB_results = evaluate_model(best_GB, X_test, y_test, \"GradientBoostingClassifier\")\n",
    "all_models_results.append(GB_results)"
   ]
  },
  {
   "cell_type": "code",
   "execution_count": null,
   "metadata": {},
   "outputs": [],
   "source": [
    "joblib.dump(best_GB, './model/GB_model.pkl')"
   ]
  },
  {
   "cell_type": "markdown",
   "metadata": {},
   "source": [
    "# Model Comparison\n"
   ]
  },
  {
   "cell_type": "code",
   "execution_count": null,
   "metadata": {},
   "outputs": [],
   "source": [
    "results_df = pd.DataFrame(all_models_results)\n",
    "\n",
    "results_df.sort_values('f1', ascending=False)"
   ]
  },
  {
   "cell_type": "code",
   "execution_count": null,
   "metadata": {},
   "outputs": [],
   "source": [
    "# Visualize results\n",
    "plt.figure(figsize=(12, 8))\n",
    "metrics = ['accuracy', 'precision', 'recall', 'f1']\n",
    "for i, metric in enumerate(metrics):\n",
    "    plt.subplot(2, 2, i+1)\n",
    "    sns.barplot(x='model', y=metric, data=results_df)\n",
    "    plt.title(f'Model Comparison - {metric.capitalize()}')\n",
    "    plt.xticks(rotation=45)\n",
    "    plt.ylim(0, 1)\n",
    "plt.tight_layout()\n",
    "plt.show()"
   ]
  },
  {
   "cell_type": "code",
   "execution_count": null,
   "metadata": {},
   "outputs": [],
   "source": [
    "if hasattr(best_ET, 'feature_importances_'):\n",
    "    best_model = max(all_models_results, key=lambda x: x['f1'])\n",
    "    print(f\"\\n=== Feature Importance for {best_model['model']} ===\")\n",
    "    \n",
    "    # Get the best model\n",
    "    if best_model['model'] == 'ExtraTreesClassifier':\n",
    "        model_with_features = best_ET\n",
    "    elif best_model['model'] == 'GradientBoostingClassifier':\n",
    "        model_with_features = best_GB\n",
    "    elif best_model['model'] == 'DecisionTreeClassifier':\n",
    "        model_with_features = best_DT\n",
    "    \n",
    "    if hasattr(model_with_features, 'feature_importances_'):\n",
    "        # Assuming X is a DataFrame with column names\n",
    "        feature_names = X.columns\n",
    "        feature_importances = model_with_features.feature_importances_\n",
    "        \n",
    "        # Sort features by importance\n",
    "        sorted_idx = np.argsort(feature_importances)\n",
    "        plt.figure(figsize=(10, 8))\n",
    "        plt.barh(range(len(sorted_idx)), feature_importances[sorted_idx])\n",
    "        plt.yticks(range(len(sorted_idx)), [feature_names[i] for i in sorted_idx])\n",
    "        plt.xlabel('Feature Importance')\n",
    "        plt.title(f'Feature Importance - {best_model[\"model\"]}')\n",
    "        plt.tight_layout()\n",
    "        plt.show()"
   ]
  },
  {
   "cell_type": "code",
   "execution_count": null,
   "metadata": {},
   "outputs": [],
   "source": []
  }
 ],
 "metadata": {
  "kernelspec": {
   "display_name": "Python 3",
   "language": "python",
   "name": "python3"
  },
  "language_info": {
   "codemirror_mode": {
    "name": "ipython",
    "version": 3
   },
   "file_extension": ".py",
   "mimetype": "text/x-python",
   "name": "python",
   "nbconvert_exporter": "python",
   "pygments_lexer": "ipython3",
   "version": "3.12.7"
  }
 },
 "nbformat": 4,
 "nbformat_minor": 2
}
