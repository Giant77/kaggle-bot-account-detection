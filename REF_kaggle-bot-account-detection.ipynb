{
 "cells": [
  {
   "cell_type": "markdown",
   "id": "12a62e99",
   "metadata": {
    "papermill": {
     "duration": 0.015318,
     "end_time": "2023-02-21T09:06:56.424146",
     "exception": false,
     "start_time": "2023-02-21T09:06:56.408828",
     "status": "completed"
    },
    "tags": []
   },
   "source": [
    "# Developing Kaggle Bot Detection Algorithm\n"
   ]
  },
  {
   "cell_type": "markdown",
   "id": "60089bd7",
   "metadata": {
    "papermill": {
     "duration": 0.013216,
     "end_time": "2023-02-21T09:06:56.451089",
     "exception": false,
     "start_time": "2023-02-21T09:06:56.437873",
     "status": "completed"
    },
    "tags": []
   },
   "source": [
    "## Objectives:\n",
    "\n",
    "1. Analyze the independent variables and select the ones that positively affect bot detection\n",
    "2. Build a predictive model to detect users that are bots\n"
   ]
  },
  {
   "cell_type": "markdown",
   "id": "2f431c1e",
   "metadata": {
    "papermill": {
     "duration": 0.01315,
     "end_time": "2023-02-21T09:06:56.477750",
     "exception": false,
     "start_time": "2023-02-21T09:06:56.464600",
     "status": "completed"
    },
    "tags": []
   },
   "source": [
    "## Exploratory Data Analysis\n"
   ]
  },
  {
   "cell_type": "code",
   "execution_count": 1,
   "id": "ab165108",
   "metadata": {
    "execution": {
     "iopub.execute_input": "2023-02-21T09:06:56.507434Z",
     "iopub.status.busy": "2023-02-21T09:06:56.506556Z",
     "iopub.status.idle": "2023-02-21T09:06:59.121149Z",
     "shell.execute_reply": "2023-02-21T09:06:59.119828Z"
    },
    "papermill": {
     "duration": 2.633811,
     "end_time": "2023-02-21T09:06:59.124810",
     "exception": false,
     "start_time": "2023-02-21T09:06:56.490999",
     "status": "completed"
    },
    "tags": []
   },
   "outputs": [],
   "source": [
    "# Importing the Libraries\n",
    "\n",
    "import pandas as pd\n",
    "import matplotlib.pyplot as plt\n",
    "import seaborn as sns\n",
    "import numpy as np\n",
    "from scipy.stats import norm\n",
    "from sklearn.preprocessing import StandardScaler\n",
    "from scipy import stats\n",
    "from pandas_profiling import ProfileReport"
   ]
  },
  {
   "cell_type": "code",
   "execution_count": 2,
   "id": "9edb102f",
   "metadata": {
    "execution": {
     "iopub.execute_input": "2023-02-21T09:06:59.156270Z",
     "iopub.status.busy": "2023-02-21T09:06:59.155844Z",
     "iopub.status.idle": "2023-02-21T09:06:59.168859Z",
     "shell.execute_reply": "2023-02-21T09:06:59.167633Z"
    },
    "papermill": {
     "duration": 0.032019,
     "end_time": "2023-02-21T09:06:59.171229",
     "exception": false,
     "start_time": "2023-02-21T09:06:59.139210",
     "status": "completed"
    },
    "tags": []
   },
   "outputs": [],
   "source": [
    "# setting up default plotting parameters\n",
    "%matplotlib inline\n",
    "\n",
    "plt.rcParams['figure.figsize'] = [20.0, 7.0]\n",
    "plt.rcParams.update({'font.size': 22,})\n",
    "\n",
    "sns.set_palette('viridis')\n",
    "sns.set_style('white')\n",
    "sns.set_context('talk', font_scale=0.8)"
   ]
  },
  {
   "cell_type": "code",
   "execution_count": 3,
   "id": "b426221a",
   "metadata": {
    "execution": {
     "iopub.execute_input": "2023-02-21T09:06:59.201877Z",
     "iopub.status.busy": "2023-02-21T09:06:59.201456Z",
     "iopub.status.idle": "2023-02-21T09:07:07.233443Z",
     "shell.execute_reply": "2023-02-21T09:07:07.232141Z"
    },
    "papermill": {
     "duration": 8.051896,
     "end_time": "2023-02-21T09:07:07.237283",
     "exception": false,
     "start_time": "2023-02-21T09:06:59.185387",
     "status": "completed"
    },
    "tags": []
   },
   "outputs": [
    {
     "data": {
      "text/html": [
       "<div>\n",
       "<style scoped>\n",
       "    .dataframe tbody tr th:only-of-type {\n",
       "        vertical-align: middle;\n",
       "    }\n",
       "\n",
       "    .dataframe tbody tr th {\n",
       "        vertical-align: top;\n",
       "    }\n",
       "\n",
       "    .dataframe thead th {\n",
       "        text-align: right;\n",
       "    }\n",
       "</style>\n",
       "<table border=\"1\" class=\"dataframe\">\n",
       "  <thead>\n",
       "    <tr style=\"text-align: right;\">\n",
       "      <th></th>\n",
       "      <th>Unnamed: 0</th>\n",
       "      <th>NAME</th>\n",
       "      <th>GENDER</th>\n",
       "      <th>EMAIL_ID</th>\n",
       "      <th>IS_GLOGIN</th>\n",
       "      <th>FOLLOWER_COUNT</th>\n",
       "      <th>FOLLOWING_COUNT</th>\n",
       "      <th>DATASET_COUNT</th>\n",
       "      <th>CODE_COUNT</th>\n",
       "      <th>DISCUSSION_COUNT</th>\n",
       "      <th>AVG_NB_READ_TIME_MIN</th>\n",
       "      <th>REGISTRATION_IPV4</th>\n",
       "      <th>REGISTRATION_LOCATION</th>\n",
       "      <th>TOTAL_VOTES_GAVE_NB</th>\n",
       "      <th>TOTAL_VOTES_GAVE_DS</th>\n",
       "      <th>TOTAL_VOTES_GAVE_DC</th>\n",
       "      <th>ISBOT</th>\n",
       "    </tr>\n",
       "  </thead>\n",
       "  <tbody>\n",
       "    <tr>\n",
       "      <th>0</th>\n",
       "      <td>0</td>\n",
       "      <td>Johnny KerrThomas</td>\n",
       "      <td>Male</td>\n",
       "      <td>jacksonalan@example.com</td>\n",
       "      <td>False</td>\n",
       "      <td>53.0</td>\n",
       "      <td>87.0</td>\n",
       "      <td>5.0</td>\n",
       "      <td>3.0</td>\n",
       "      <td>124.0</td>\n",
       "      <td>NaN</td>\n",
       "      <td>81.88.75.170</td>\n",
       "      <td>Argentina</td>\n",
       "      <td>16.0</td>\n",
       "      <td>10.0</td>\n",
       "      <td>3.0</td>\n",
       "      <td>NaN</td>\n",
       "    </tr>\n",
       "    <tr>\n",
       "      <th>1</th>\n",
       "      <td>1</td>\n",
       "      <td>Dwayne LarsenLara</td>\n",
       "      <td>Male</td>\n",
       "      <td>calvin80@example.com</td>\n",
       "      <td>True</td>\n",
       "      <td>16.0</td>\n",
       "      <td>67.0</td>\n",
       "      <td>5.0</td>\n",
       "      <td>NaN</td>\n",
       "      <td>26.0</td>\n",
       "      <td>24.97</td>\n",
       "      <td>NaN</td>\n",
       "      <td>New Zealand</td>\n",
       "      <td>14.0</td>\n",
       "      <td>5.0</td>\n",
       "      <td>2.0</td>\n",
       "      <td>NaN</td>\n",
       "    </tr>\n",
       "    <tr>\n",
       "      <th>2</th>\n",
       "      <td>2</td>\n",
       "      <td>NaN</td>\n",
       "      <td>Male</td>\n",
       "      <td>qbrown@example.net</td>\n",
       "      <td>True</td>\n",
       "      <td>44.0</td>\n",
       "      <td>81.0</td>\n",
       "      <td>4.0</td>\n",
       "      <td>17.0</td>\n",
       "      <td>125.0</td>\n",
       "      <td>7.75</td>\n",
       "      <td>159.202.103.178</td>\n",
       "      <td>Costa Rica</td>\n",
       "      <td>16.0</td>\n",
       "      <td>4.0</td>\n",
       "      <td>0.0</td>\n",
       "      <td>False</td>\n",
       "    </tr>\n",
       "    <tr>\n",
       "      <th>3</th>\n",
       "      <td>3</td>\n",
       "      <td>Russell SimmonsPhillips</td>\n",
       "      <td>Male</td>\n",
       "      <td>kimberlywagner@example.com</td>\n",
       "      <td>True</td>\n",
       "      <td>23.0</td>\n",
       "      <td>114.0</td>\n",
       "      <td>5.0</td>\n",
       "      <td>24.0</td>\n",
       "      <td>67.0</td>\n",
       "      <td>13.40</td>\n",
       "      <td>196.11.132.51</td>\n",
       "      <td>Italy</td>\n",
       "      <td>21.0</td>\n",
       "      <td>10.0</td>\n",
       "      <td>1.0</td>\n",
       "      <td>False</td>\n",
       "    </tr>\n",
       "    <tr>\n",
       "      <th>4</th>\n",
       "      <td>4</td>\n",
       "      <td>Jamie WilsonMartinez</td>\n",
       "      <td>Female</td>\n",
       "      <td>shaunbrooks@example.com</td>\n",
       "      <td>False</td>\n",
       "      <td>46.0</td>\n",
       "      <td>112.0</td>\n",
       "      <td>2.0</td>\n",
       "      <td>12.0</td>\n",
       "      <td>63.0</td>\n",
       "      <td>24.83</td>\n",
       "      <td>159.196.199.20</td>\n",
       "      <td>Belgium</td>\n",
       "      <td>10.0</td>\n",
       "      <td>6.0</td>\n",
       "      <td>2.0</td>\n",
       "      <td>False</td>\n",
       "    </tr>\n",
       "  </tbody>\n",
       "</table>\n",
       "</div>"
      ],
      "text/plain": [
       "   Unnamed: 0                     NAME  GENDER                    EMAIL_ID  \\\n",
       "0           0        Johnny KerrThomas    Male     jacksonalan@example.com   \n",
       "1           1        Dwayne LarsenLara    Male        calvin80@example.com   \n",
       "2           2                      NaN    Male          qbrown@example.net   \n",
       "3           3  Russell SimmonsPhillips    Male  kimberlywagner@example.com   \n",
       "4           4     Jamie WilsonMartinez  Female     shaunbrooks@example.com   \n",
       "\n",
       "  IS_GLOGIN  FOLLOWER_COUNT  FOLLOWING_COUNT  DATASET_COUNT  CODE_COUNT  \\\n",
       "0     False            53.0             87.0            5.0         3.0   \n",
       "1      True            16.0             67.0            5.0         NaN   \n",
       "2      True            44.0             81.0            4.0        17.0   \n",
       "3      True            23.0            114.0            5.0        24.0   \n",
       "4     False            46.0            112.0            2.0        12.0   \n",
       "\n",
       "   DISCUSSION_COUNT  AVG_NB_READ_TIME_MIN REGISTRATION_IPV4  \\\n",
       "0             124.0                   NaN      81.88.75.170   \n",
       "1              26.0                 24.97               NaN   \n",
       "2             125.0                  7.75   159.202.103.178   \n",
       "3              67.0                 13.40     196.11.132.51   \n",
       "4              63.0                 24.83    159.196.199.20   \n",
       "\n",
       "  REGISTRATION_LOCATION  TOTAL_VOTES_GAVE_NB  TOTAL_VOTES_GAVE_DS  \\\n",
       "0             Argentina                 16.0                 10.0   \n",
       "1           New Zealand                 14.0                  5.0   \n",
       "2            Costa Rica                 16.0                  4.0   \n",
       "3                 Italy                 21.0                 10.0   \n",
       "4               Belgium                 10.0                  6.0   \n",
       "\n",
       "   TOTAL_VOTES_GAVE_DC  ISBOT  \n",
       "0                  3.0    NaN  \n",
       "1                  2.0    NaN  \n",
       "2                  0.0  False  \n",
       "3                  1.0  False  \n",
       "4                  2.0  False  "
      ]
     },
     "execution_count": 3,
     "metadata": {},
     "output_type": "execute_result"
    }
   ],
   "source": [
    "# Loading the dataset.\n",
    "data = pd.read_csv(\"/kaggle/input/kaggle-bot-account-detection/kaggle_bot_accounts.csv\")\n",
    "data.head()"
   ]
  },
  {
   "cell_type": "markdown",
   "id": "f37f13f4",
   "metadata": {
    "papermill": {
     "duration": 0.014831,
     "end_time": "2023-02-21T09:07:07.266813",
     "exception": false,
     "start_time": "2023-02-21T09:07:07.251982",
     "status": "completed"
    },
    "tags": []
   },
   "source": [
    "### Data Descriptions and Exploratory Visualizations\n"
   ]
  },
  {
   "cell_type": "code",
   "execution_count": 4,
   "id": "46879145",
   "metadata": {
    "execution": {
     "iopub.execute_input": "2023-02-21T09:07:07.298591Z",
     "iopub.status.busy": "2023-02-21T09:07:07.298099Z",
     "iopub.status.idle": "2023-02-21T09:07:07.305461Z",
     "shell.execute_reply": "2023-02-21T09:07:07.304322Z"
    },
    "papermill": {
     "duration": 0.025847,
     "end_time": "2023-02-21T09:07:07.307768",
     "exception": false,
     "start_time": "2023-02-21T09:07:07.281921",
     "status": "completed"
    },
    "tags": []
   },
   "outputs": [
    {
     "data": {
      "text/plain": [
       "Index(['Unnamed: 0', 'NAME', 'GENDER', 'EMAIL_ID', 'IS_GLOGIN',\n",
       "       'FOLLOWER_COUNT', 'FOLLOWING_COUNT', 'DATASET_COUNT', 'CODE_COUNT',\n",
       "       'DISCUSSION_COUNT', 'AVG_NB_READ_TIME_MIN', 'REGISTRATION_IPV4',\n",
       "       'REGISTRATION_LOCATION', 'TOTAL_VOTES_GAVE_NB', 'TOTAL_VOTES_GAVE_DS',\n",
       "       'TOTAL_VOTES_GAVE_DC', 'ISBOT'],\n",
       "      dtype='object')"
      ]
     },
     "execution_count": 4,
     "metadata": {},
     "output_type": "execute_result"
    }
   ],
   "source": [
    "# Extracting the dataset columns\n",
    "data.columns"
   ]
  },
  {
   "cell_type": "code",
   "execution_count": 5,
   "id": "0b9a7b2b",
   "metadata": {
    "execution": {
     "iopub.execute_input": "2023-02-21T09:07:07.339064Z",
     "iopub.status.busy": "2023-02-21T09:07:07.338593Z",
     "iopub.status.idle": "2023-02-21T09:07:07.345575Z",
     "shell.execute_reply": "2023-02-21T09:07:07.344325Z"
    },
    "papermill": {
     "duration": 0.025476,
     "end_time": "2023-02-21T09:07:07.347812",
     "exception": false,
     "start_time": "2023-02-21T09:07:07.322336",
     "status": "completed"
    },
    "tags": []
   },
   "outputs": [
    {
     "data": {
      "text/plain": [
       "(1321188, 17)"
      ]
     },
     "execution_count": 5,
     "metadata": {},
     "output_type": "execute_result"
    }
   ],
   "source": [
    "# Display the size of the dataset\n",
    "data.shape"
   ]
  },
  {
   "cell_type": "markdown",
   "id": "48d246f3",
   "metadata": {
    "papermill": {
     "duration": 0.014353,
     "end_time": "2023-02-21T09:07:07.376908",
     "exception": false,
     "start_time": "2023-02-21T09:07:07.362555",
     "status": "completed"
    },
    "tags": []
   },
   "source": [
    "## Data Preprocessing\n"
   ]
  },
  {
   "cell_type": "markdown",
   "id": "4241069f",
   "metadata": {
    "papermill": {
     "duration": 0.014268,
     "end_time": "2023-02-21T09:07:07.406548",
     "exception": false,
     "start_time": "2023-02-21T09:07:07.392280",
     "status": "completed"
    },
    "tags": []
   },
   "source": [
    "### Checking for missing values\n"
   ]
  },
  {
   "cell_type": "code",
   "execution_count": 6,
   "id": "b829fab6",
   "metadata": {
    "execution": {
     "iopub.execute_input": "2023-02-21T09:07:07.438046Z",
     "iopub.status.busy": "2023-02-21T09:07:07.437538Z",
     "iopub.status.idle": "2023-02-21T09:07:07.921197Z",
     "shell.execute_reply": "2023-02-21T09:07:07.920035Z"
    },
    "papermill": {
     "duration": 0.502579,
     "end_time": "2023-02-21T09:07:07.923886",
     "exception": false,
     "start_time": "2023-02-21T09:07:07.421307",
     "status": "completed"
    },
    "tags": []
   },
   "outputs": [
    {
     "data": {
      "text/plain": [
       "Unnamed: 0                   0\n",
       "NAME                     78164\n",
       "GENDER                   77879\n",
       "EMAIL_ID                 77814\n",
       "IS_GLOGIN                77916\n",
       "FOLLOWER_COUNT           77712\n",
       "FOLLOWING_COUNT          78445\n",
       "DATASET_COUNT            78567\n",
       "CODE_COUNT               77926\n",
       "DISCUSSION_COUNT         77722\n",
       "AVG_NB_READ_TIME_MIN     78316\n",
       "REGISTRATION_IPV4        78329\n",
       "REGISTRATION_LOCATION    78290\n",
       "TOTAL_VOTES_GAVE_NB      77705\n",
       "TOTAL_VOTES_GAVE_DS      77934\n",
       "TOTAL_VOTES_GAVE_DC      78030\n",
       "ISBOT                    78500\n",
       "dtype: int64"
      ]
     },
     "execution_count": 6,
     "metadata": {},
     "output_type": "execute_result"
    }
   ],
   "source": [
    "data.isnull().sum()"
   ]
  },
  {
   "cell_type": "markdown",
   "id": "ba72724c",
   "metadata": {
    "papermill": {
     "duration": 0.014755,
     "end_time": "2023-02-21T09:07:07.954270",
     "exception": false,
     "start_time": "2023-02-21T09:07:07.939515",
     "status": "completed"
    },
    "tags": []
   },
   "source": [
    "> The dataset has multiple columns with missing values.\n"
   ]
  },
  {
   "cell_type": "code",
   "execution_count": 7,
   "id": "ef6daea2",
   "metadata": {
    "execution": {
     "iopub.execute_input": "2023-02-21T09:07:07.986864Z",
     "iopub.status.busy": "2023-02-21T09:07:07.986268Z",
     "iopub.status.idle": "2023-02-21T09:07:09.509995Z",
     "shell.execute_reply": "2023-02-21T09:07:09.508800Z"
    },
    "papermill": {
     "duration": 1.543779,
     "end_time": "2023-02-21T09:07:09.513088",
     "exception": false,
     "start_time": "2023-02-21T09:07:07.969309",
     "status": "completed"
    },
    "tags": []
   },
   "outputs": [
    {
     "data": {
      "text/html": [
       "<div>\n",
       "<style scoped>\n",
       "    .dataframe tbody tr th:only-of-type {\n",
       "        vertical-align: middle;\n",
       "    }\n",
       "\n",
       "    .dataframe tbody tr th {\n",
       "        vertical-align: top;\n",
       "    }\n",
       "\n",
       "    .dataframe thead th {\n",
       "        text-align: right;\n",
       "    }\n",
       "</style>\n",
       "<table border=\"1\" class=\"dataframe\">\n",
       "  <thead>\n",
       "    <tr style=\"text-align: right;\">\n",
       "      <th></th>\n",
       "      <th>Values</th>\n",
       "      <th>Percentage</th>\n",
       "    </tr>\n",
       "  </thead>\n",
       "  <tbody>\n",
       "    <tr>\n",
       "      <th>Unnamed: 0</th>\n",
       "      <td>0</td>\n",
       "      <td>0.000000</td>\n",
       "    </tr>\n",
       "    <tr>\n",
       "      <th>TOTAL_VOTES_GAVE_NB</th>\n",
       "      <td>77705</td>\n",
       "      <td>5.881449</td>\n",
       "    </tr>\n",
       "    <tr>\n",
       "      <th>FOLLOWER_COUNT</th>\n",
       "      <td>77712</td>\n",
       "      <td>5.881979</td>\n",
       "    </tr>\n",
       "    <tr>\n",
       "      <th>DISCUSSION_COUNT</th>\n",
       "      <td>77722</td>\n",
       "      <td>5.882736</td>\n",
       "    </tr>\n",
       "    <tr>\n",
       "      <th>EMAIL_ID</th>\n",
       "      <td>77814</td>\n",
       "      <td>5.889699</td>\n",
       "    </tr>\n",
       "    <tr>\n",
       "      <th>GENDER</th>\n",
       "      <td>77879</td>\n",
       "      <td>5.894619</td>\n",
       "    </tr>\n",
       "    <tr>\n",
       "      <th>IS_GLOGIN</th>\n",
       "      <td>77916</td>\n",
       "      <td>5.897420</td>\n",
       "    </tr>\n",
       "    <tr>\n",
       "      <th>CODE_COUNT</th>\n",
       "      <td>77926</td>\n",
       "      <td>5.898176</td>\n",
       "    </tr>\n",
       "    <tr>\n",
       "      <th>TOTAL_VOTES_GAVE_DS</th>\n",
       "      <td>77934</td>\n",
       "      <td>5.898782</td>\n",
       "    </tr>\n",
       "    <tr>\n",
       "      <th>TOTAL_VOTES_GAVE_DC</th>\n",
       "      <td>78030</td>\n",
       "      <td>5.906048</td>\n",
       "    </tr>\n",
       "    <tr>\n",
       "      <th>NAME</th>\n",
       "      <td>78164</td>\n",
       "      <td>5.916191</td>\n",
       "    </tr>\n",
       "    <tr>\n",
       "      <th>REGISTRATION_LOCATION</th>\n",
       "      <td>78290</td>\n",
       "      <td>5.925727</td>\n",
       "    </tr>\n",
       "    <tr>\n",
       "      <th>AVG_NB_READ_TIME_MIN</th>\n",
       "      <td>78316</td>\n",
       "      <td>5.927695</td>\n",
       "    </tr>\n",
       "    <tr>\n",
       "      <th>REGISTRATION_IPV4</th>\n",
       "      <td>78329</td>\n",
       "      <td>5.928679</td>\n",
       "    </tr>\n",
       "    <tr>\n",
       "      <th>FOLLOWING_COUNT</th>\n",
       "      <td>78445</td>\n",
       "      <td>5.937459</td>\n",
       "    </tr>\n",
       "    <tr>\n",
       "      <th>ISBOT</th>\n",
       "      <td>78500</td>\n",
       "      <td>5.941622</td>\n",
       "    </tr>\n",
       "    <tr>\n",
       "      <th>DATASET_COUNT</th>\n",
       "      <td>78567</td>\n",
       "      <td>5.946693</td>\n",
       "    </tr>\n",
       "  </tbody>\n",
       "</table>\n",
       "</div>"
      ],
      "text/plain": [
       "                       Values  Percentage\n",
       "Unnamed: 0                  0    0.000000\n",
       "TOTAL_VOTES_GAVE_NB     77705    5.881449\n",
       "FOLLOWER_COUNT          77712    5.881979\n",
       "DISCUSSION_COUNT        77722    5.882736\n",
       "EMAIL_ID                77814    5.889699\n",
       "GENDER                  77879    5.894619\n",
       "IS_GLOGIN               77916    5.897420\n",
       "CODE_COUNT              77926    5.898176\n",
       "TOTAL_VOTES_GAVE_DS     77934    5.898782\n",
       "TOTAL_VOTES_GAVE_DC     78030    5.906048\n",
       "NAME                    78164    5.916191\n",
       "REGISTRATION_LOCATION   78290    5.925727\n",
       "AVG_NB_READ_TIME_MIN    78316    5.927695\n",
       "REGISTRATION_IPV4       78329    5.928679\n",
       "FOLLOWING_COUNT         78445    5.937459\n",
       "ISBOT                   78500    5.941622\n",
       "DATASET_COUNT           78567    5.946693"
      ]
     },
     "execution_count": 7,
     "metadata": {},
     "output_type": "execute_result"
    }
   ],
   "source": [
    "# Displaying columns with missing values using sum and percentage\n",
    "missing_values = data.isnull().sum().sort_values(ascending = True)\n",
    "percent = ((data.isnull().sum()/data.isnull().count()) * 100) .sort_values(ascending=True)\n",
    "missing_data = pd.concat([missing_values, percent], axis = 1, keys = [\"Values\", \"Percentage\"])\n",
    "missing_data"
   ]
  },
  {
   "cell_type": "code",
   "execution_count": 8,
   "id": "b1638e27",
   "metadata": {
    "execution": {
     "iopub.execute_input": "2023-02-21T09:07:09.555281Z",
     "iopub.status.busy": "2023-02-21T09:07:09.554757Z",
     "iopub.status.idle": "2023-02-21T09:07:09.827865Z",
     "shell.execute_reply": "2023-02-21T09:07:09.826727Z"
    },
    "papermill": {
     "duration": 0.296705,
     "end_time": "2023-02-21T09:07:09.830977",
     "exception": false,
     "start_time": "2023-02-21T09:07:09.534272",
     "status": "completed"
    },
    "tags": []
   },
   "outputs": [],
   "source": [
    "# Dealing with missing values\n",
    "mean_total_votes = round(data[\"TOTAL_VOTES_GAVE_NB\"].mean())\n",
    "mean_follower_count = round(data[\"FOLLOWER_COUNT\"].mean())\n",
    "mean_discussion_count = round(data[\"DISCUSSION_COUNT\"].mean())\n",
    "mode_gender = data[\"GENDER\"].mode()\n",
    "mean_code_count = round(data[\"CODE_COUNT\"].mean())\n",
    "mean_total_votes_gave = round(data[\"TOTAL_VOTES_GAVE_NB\"].mean())\n",
    "mean_total_votes_ds = round(data[\"TOTAL_VOTES_GAVE_DS\"].mean())\n",
    "mean_total_votes_dc = round(data[\"TOTAL_VOTES_GAVE_DC\"].mean())\n",
    "avg_read_time = data[\"AVG_NB_READ_TIME_MIN\"].mean()\n",
    "mean_following_count = round(data[\"FOLLOWING_COUNT\"].mean())\n",
    "mean_dataset_count = round(data[\"DATASET_COUNT\"].mean())\n",
    "mode_islogin = data[\"IS_GLOGIN\"].mode()\n"
   ]
  },
  {
   "cell_type": "code",
   "execution_count": 9,
   "id": "02be82b8",
   "metadata": {
    "execution": {
     "iopub.execute_input": "2023-02-21T09:07:09.863866Z",
     "iopub.status.busy": "2023-02-21T09:07:09.863408Z",
     "iopub.status.idle": "2023-02-21T09:07:10.277821Z",
     "shell.execute_reply": "2023-02-21T09:07:10.276573Z"
    },
    "papermill": {
     "duration": 0.434498,
     "end_time": "2023-02-21T09:07:10.280962",
     "exception": false,
     "start_time": "2023-02-21T09:07:09.846464",
     "status": "completed"
    },
    "tags": []
   },
   "outputs": [],
   "source": [
    "data[\"TOTAL_VOTES_GAVE_NB\"].fillna(mean_total_votes, inplace=True)\n",
    "data[\"FOLLOWER_COUNT\"].fillna(mean_follower_count, inplace=True)\n",
    "data[\"DISCUSSION_COUNT\"].fillna(mean_discussion_count, inplace= True)\n",
    "data[\"GENDER\"].fillna(mode_gender[0], inplace=True)\n",
    "data[\"CODE_COUNT\"].fillna(mean_code_count, inplace=True)\n",
    "data[\"TOTAL_VOTES_GAVE_NB\"].fillna(mean_total_votes_gave, inplace=True)\n",
    "data[\"TOTAL_VOTES_GAVE_DS\"].fillna(mean_total_votes_ds, inplace = True)\n",
    "data[\"TOTAL_VOTES_GAVE_DC\"].fillna(mean_total_votes_dc, inplace = True)\n",
    "data[\"AVG_NB_READ_TIME_MIN\"].fillna(avg_read_time, inplace=True)\n",
    "data[\"FOLLOWING_COUNT\"].fillna(mean_following_count, inplace =True)\n",
    "data[\"DATASET_COUNT\"].fillna(mean_dataset_count, inplace = True)\n",
    "data[\"IS_GLOGIN\"].fillna(mode_islogin[0], inplace = True)"
   ]
  },
  {
   "cell_type": "code",
   "execution_count": 10,
   "id": "cc638786",
   "metadata": {
    "execution": {
     "iopub.execute_input": "2023-02-21T09:07:10.317050Z",
     "iopub.status.busy": "2023-02-21T09:07:10.316097Z",
     "iopub.status.idle": "2023-02-21T09:07:10.733924Z",
     "shell.execute_reply": "2023-02-21T09:07:10.732628Z"
    },
    "papermill": {
     "duration": 0.438079,
     "end_time": "2023-02-21T09:07:10.736659",
     "exception": false,
     "start_time": "2023-02-21T09:07:10.298580",
     "status": "completed"
    },
    "tags": []
   },
   "outputs": [
    {
     "data": {
      "text/plain": [
       "Unnamed: 0                   0\n",
       "NAME                     78164\n",
       "GENDER                       0\n",
       "EMAIL_ID                 77814\n",
       "IS_GLOGIN                    0\n",
       "FOLLOWER_COUNT               0\n",
       "FOLLOWING_COUNT              0\n",
       "DATASET_COUNT                0\n",
       "CODE_COUNT                   0\n",
       "DISCUSSION_COUNT             0\n",
       "AVG_NB_READ_TIME_MIN         0\n",
       "REGISTRATION_IPV4        78329\n",
       "REGISTRATION_LOCATION    78290\n",
       "TOTAL_VOTES_GAVE_NB          0\n",
       "TOTAL_VOTES_GAVE_DS          0\n",
       "TOTAL_VOTES_GAVE_DC          0\n",
       "ISBOT                    78500\n",
       "dtype: int64"
      ]
     },
     "execution_count": 10,
     "metadata": {},
     "output_type": "execute_result"
    }
   ],
   "source": [
    "data.isna().sum()"
   ]
  },
  {
   "cell_type": "code",
   "execution_count": 11,
   "id": "f7d08821",
   "metadata": {
    "execution": {
     "iopub.execute_input": "2023-02-21T09:07:10.770917Z",
     "iopub.status.busy": "2023-02-21T09:07:10.770444Z",
     "iopub.status.idle": "2023-02-21T09:07:11.443791Z",
     "shell.execute_reply": "2023-02-21T09:07:11.442851Z"
    },
    "papermill": {
     "duration": 0.694172,
     "end_time": "2023-02-21T09:07:11.446777",
     "exception": false,
     "start_time": "2023-02-21T09:07:10.752605",
     "status": "completed"
    },
    "tags": []
   },
   "outputs": [],
   "source": [
    "data.dropna(inplace=True)"
   ]
  },
  {
   "cell_type": "code",
   "execution_count": 12,
   "id": "1baa27c0",
   "metadata": {
    "execution": {
     "iopub.execute_input": "2023-02-21T09:07:11.480157Z",
     "iopub.status.busy": "2023-02-21T09:07:11.479436Z",
     "iopub.status.idle": "2023-02-21T09:07:11.485701Z",
     "shell.execute_reply": "2023-02-21T09:07:11.484781Z"
    },
    "papermill": {
     "duration": 0.025522,
     "end_time": "2023-02-21T09:07:11.487863",
     "exception": false,
     "start_time": "2023-02-21T09:07:11.462341",
     "status": "completed"
    },
    "tags": []
   },
   "outputs": [
    {
     "data": {
      "text/plain": [
       "(973661, 17)"
      ]
     },
     "execution_count": 12,
     "metadata": {},
     "output_type": "execute_result"
    }
   ],
   "source": [
    "data.shape"
   ]
  },
  {
   "cell_type": "code",
   "execution_count": 13,
   "id": "aca5be70",
   "metadata": {
    "execution": {
     "iopub.execute_input": "2023-02-21T09:07:11.521427Z",
     "iopub.status.busy": "2023-02-21T09:07:11.520728Z",
     "iopub.status.idle": "2023-02-21T09:07:11.838787Z",
     "shell.execute_reply": "2023-02-21T09:07:11.837401Z"
    },
    "papermill": {
     "duration": 0.337958,
     "end_time": "2023-02-21T09:07:11.841555",
     "exception": false,
     "start_time": "2023-02-21T09:07:11.503597",
     "status": "completed"
    },
    "tags": []
   },
   "outputs": [
    {
     "name": "stdout",
     "output_type": "stream",
     "text": [
      "<class 'pandas.core.frame.DataFrame'>\n",
      "Int64Index: 973661 entries, 3 to 1321185\n",
      "Data columns (total 17 columns):\n",
      " #   Column                 Non-Null Count   Dtype  \n",
      "---  ------                 --------------   -----  \n",
      " 0   Unnamed: 0             973661 non-null  int64  \n",
      " 1   NAME                   973661 non-null  object \n",
      " 2   GENDER                 973661 non-null  object \n",
      " 3   EMAIL_ID               973661 non-null  object \n",
      " 4   IS_GLOGIN              973661 non-null  bool   \n",
      " 5   FOLLOWER_COUNT         973661 non-null  float64\n",
      " 6   FOLLOWING_COUNT        973661 non-null  float64\n",
      " 7   DATASET_COUNT          973661 non-null  float64\n",
      " 8   CODE_COUNT             973661 non-null  float64\n",
      " 9   DISCUSSION_COUNT       973661 non-null  float64\n",
      " 10  AVG_NB_READ_TIME_MIN   973661 non-null  float64\n",
      " 11  REGISTRATION_IPV4      973661 non-null  object \n",
      " 12  REGISTRATION_LOCATION  973661 non-null  object \n",
      " 13  TOTAL_VOTES_GAVE_NB    973661 non-null  float64\n",
      " 14  TOTAL_VOTES_GAVE_DS    973661 non-null  float64\n",
      " 15  TOTAL_VOTES_GAVE_DC    973661 non-null  float64\n",
      " 16  ISBOT                  973661 non-null  object \n",
      "dtypes: bool(1), float64(9), int64(1), object(6)\n",
      "memory usage: 127.2+ MB\n"
     ]
    }
   ],
   "source": [
    "# Getting some information about the columns.\n",
    "data.info()"
   ]
  },
  {
   "cell_type": "code",
   "execution_count": 14,
   "id": "55da162a",
   "metadata": {
    "execution": {
     "iopub.execute_input": "2023-02-21T09:07:11.875463Z",
     "iopub.status.busy": "2023-02-21T09:07:11.874656Z",
     "iopub.status.idle": "2023-02-21T09:07:12.561599Z",
     "shell.execute_reply": "2023-02-21T09:07:12.560560Z"
    },
    "papermill": {
     "duration": 0.707341,
     "end_time": "2023-02-21T09:07:12.564608",
     "exception": false,
     "start_time": "2023-02-21T09:07:11.857267",
     "status": "completed"
    },
    "tags": []
   },
   "outputs": [],
   "source": [
    "# Dropping irrelevant columns.\n",
    "data.drop(\"Unnamed: 0\", axis=1, inplace=True)\n",
    "data.drop(\"NAME\", axis=1, inplace=True)\n",
    "data.drop(\"EMAIL_ID\", axis=1, inplace=True)\n",
    "data.drop(\"REGISTRATION_LOCATION\", axis=1, inplace=True)\n",
    "data.drop(\"REGISTRATION_IPV4\", axis=1, inplace=True)"
   ]
  },
  {
   "cell_type": "code",
   "execution_count": 15,
   "id": "476a782c",
   "metadata": {
    "execution": {
     "iopub.execute_input": "2023-02-21T09:07:12.601262Z",
     "iopub.status.busy": "2023-02-21T09:07:12.600525Z",
     "iopub.status.idle": "2023-02-21T09:07:12.624774Z",
     "shell.execute_reply": "2023-02-21T09:07:12.623775Z"
    },
    "papermill": {
     "duration": 0.045546,
     "end_time": "2023-02-21T09:07:12.627574",
     "exception": false,
     "start_time": "2023-02-21T09:07:12.582028",
     "status": "completed"
    },
    "tags": []
   },
   "outputs": [],
   "source": [
    "data['IS_GLOGIN'] = data['IS_GLOGIN'].astype('object')"
   ]
  },
  {
   "cell_type": "code",
   "execution_count": 16,
   "id": "6709ed86",
   "metadata": {
    "execution": {
     "iopub.execute_input": "2023-02-21T09:07:12.661208Z",
     "iopub.status.busy": "2023-02-21T09:07:12.660455Z",
     "iopub.status.idle": "2023-02-21T09:07:12.687862Z",
     "shell.execute_reply": "2023-02-21T09:07:12.687000Z"
    },
    "papermill": {
     "duration": 0.047024,
     "end_time": "2023-02-21T09:07:12.690315",
     "exception": false,
     "start_time": "2023-02-21T09:07:12.643291",
     "status": "completed"
    },
    "tags": []
   },
   "outputs": [
    {
     "data": {
      "text/html": [
       "<div>\n",
       "<style scoped>\n",
       "    .dataframe tbody tr th:only-of-type {\n",
       "        vertical-align: middle;\n",
       "    }\n",
       "\n",
       "    .dataframe tbody tr th {\n",
       "        vertical-align: top;\n",
       "    }\n",
       "\n",
       "    .dataframe thead th {\n",
       "        text-align: right;\n",
       "    }\n",
       "</style>\n",
       "<table border=\"1\" class=\"dataframe\">\n",
       "  <thead>\n",
       "    <tr style=\"text-align: right;\">\n",
       "      <th></th>\n",
       "      <th>GENDER</th>\n",
       "      <th>IS_GLOGIN</th>\n",
       "      <th>FOLLOWER_COUNT</th>\n",
       "      <th>FOLLOWING_COUNT</th>\n",
       "      <th>DATASET_COUNT</th>\n",
       "      <th>CODE_COUNT</th>\n",
       "      <th>DISCUSSION_COUNT</th>\n",
       "      <th>AVG_NB_READ_TIME_MIN</th>\n",
       "      <th>TOTAL_VOTES_GAVE_NB</th>\n",
       "      <th>TOTAL_VOTES_GAVE_DS</th>\n",
       "      <th>TOTAL_VOTES_GAVE_DC</th>\n",
       "      <th>ISBOT</th>\n",
       "    </tr>\n",
       "  </thead>\n",
       "  <tbody>\n",
       "    <tr>\n",
       "      <th>3</th>\n",
       "      <td>Male</td>\n",
       "      <td>True</td>\n",
       "      <td>23.0</td>\n",
       "      <td>114.0</td>\n",
       "      <td>5.0</td>\n",
       "      <td>24.0</td>\n",
       "      <td>67.0</td>\n",
       "      <td>13.40</td>\n",
       "      <td>21.0</td>\n",
       "      <td>10.0</td>\n",
       "      <td>1.0</td>\n",
       "      <td>False</td>\n",
       "    </tr>\n",
       "    <tr>\n",
       "      <th>4</th>\n",
       "      <td>Female</td>\n",
       "      <td>False</td>\n",
       "      <td>46.0</td>\n",
       "      <td>112.0</td>\n",
       "      <td>2.0</td>\n",
       "      <td>12.0</td>\n",
       "      <td>63.0</td>\n",
       "      <td>24.83</td>\n",
       "      <td>10.0</td>\n",
       "      <td>6.0</td>\n",
       "      <td>2.0</td>\n",
       "      <td>False</td>\n",
       "    </tr>\n",
       "    <tr>\n",
       "      <th>5</th>\n",
       "      <td>Male</td>\n",
       "      <td>False</td>\n",
       "      <td>2.0</td>\n",
       "      <td>2.0</td>\n",
       "      <td>0.0</td>\n",
       "      <td>0.0</td>\n",
       "      <td>0.0</td>\n",
       "      <td>0.62</td>\n",
       "      <td>18.0</td>\n",
       "      <td>9.0</td>\n",
       "      <td>2.0</td>\n",
       "      <td>True</td>\n",
       "    </tr>\n",
       "    <tr>\n",
       "      <th>6</th>\n",
       "      <td>Male</td>\n",
       "      <td>False</td>\n",
       "      <td>46.0</td>\n",
       "      <td>36.0</td>\n",
       "      <td>0.0</td>\n",
       "      <td>16.0</td>\n",
       "      <td>77.0</td>\n",
       "      <td>22.32</td>\n",
       "      <td>18.0</td>\n",
       "      <td>9.0</td>\n",
       "      <td>1.0</td>\n",
       "      <td>False</td>\n",
       "    </tr>\n",
       "    <tr>\n",
       "      <th>9</th>\n",
       "      <td>Male</td>\n",
       "      <td>True</td>\n",
       "      <td>65.0</td>\n",
       "      <td>99.0</td>\n",
       "      <td>7.0</td>\n",
       "      <td>19.0</td>\n",
       "      <td>93.0</td>\n",
       "      <td>8.79</td>\n",
       "      <td>24.0</td>\n",
       "      <td>7.0</td>\n",
       "      <td>2.0</td>\n",
       "      <td>False</td>\n",
       "    </tr>\n",
       "    <tr>\n",
       "      <th>...</th>\n",
       "      <td>...</td>\n",
       "      <td>...</td>\n",
       "      <td>...</td>\n",
       "      <td>...</td>\n",
       "      <td>...</td>\n",
       "      <td>...</td>\n",
       "      <td>...</td>\n",
       "      <td>...</td>\n",
       "      <td>...</td>\n",
       "      <td>...</td>\n",
       "      <td>...</td>\n",
       "      <td>...</td>\n",
       "    </tr>\n",
       "    <tr>\n",
       "      <th>1321179</th>\n",
       "      <td>Male</td>\n",
       "      <td>False</td>\n",
       "      <td>0.0</td>\n",
       "      <td>45.0</td>\n",
       "      <td>0.0</td>\n",
       "      <td>1.0</td>\n",
       "      <td>5.0</td>\n",
       "      <td>0.35</td>\n",
       "      <td>11.0</td>\n",
       "      <td>5.0</td>\n",
       "      <td>1.0</td>\n",
       "      <td>True</td>\n",
       "    </tr>\n",
       "    <tr>\n",
       "      <th>1321182</th>\n",
       "      <td>Male</td>\n",
       "      <td>True</td>\n",
       "      <td>46.0</td>\n",
       "      <td>7.0</td>\n",
       "      <td>7.0</td>\n",
       "      <td>21.0</td>\n",
       "      <td>66.0</td>\n",
       "      <td>21.65</td>\n",
       "      <td>23.0</td>\n",
       "      <td>5.0</td>\n",
       "      <td>0.0</td>\n",
       "      <td>False</td>\n",
       "    </tr>\n",
       "    <tr>\n",
       "      <th>1321183</th>\n",
       "      <td>Female</td>\n",
       "      <td>False</td>\n",
       "      <td>1.0</td>\n",
       "      <td>3.0</td>\n",
       "      <td>0.0</td>\n",
       "      <td>1.0</td>\n",
       "      <td>9.0</td>\n",
       "      <td>0.26</td>\n",
       "      <td>25.0</td>\n",
       "      <td>10.0</td>\n",
       "      <td>2.0</td>\n",
       "      <td>True</td>\n",
       "    </tr>\n",
       "    <tr>\n",
       "      <th>1321184</th>\n",
       "      <td>Female</td>\n",
       "      <td>True</td>\n",
       "      <td>20.0</td>\n",
       "      <td>60.0</td>\n",
       "      <td>6.0</td>\n",
       "      <td>14.0</td>\n",
       "      <td>44.0</td>\n",
       "      <td>23.39</td>\n",
       "      <td>22.0</td>\n",
       "      <td>10.0</td>\n",
       "      <td>3.0</td>\n",
       "      <td>False</td>\n",
       "    </tr>\n",
       "    <tr>\n",
       "      <th>1321185</th>\n",
       "      <td>Male</td>\n",
       "      <td>True</td>\n",
       "      <td>20.0</td>\n",
       "      <td>64.0</td>\n",
       "      <td>3.0</td>\n",
       "      <td>24.0</td>\n",
       "      <td>67.0</td>\n",
       "      <td>9.49</td>\n",
       "      <td>24.0</td>\n",
       "      <td>7.0</td>\n",
       "      <td>0.0</td>\n",
       "      <td>False</td>\n",
       "    </tr>\n",
       "  </tbody>\n",
       "</table>\n",
       "<p>973661 rows × 12 columns</p>\n",
       "</div>"
      ],
      "text/plain": [
       "         GENDER IS_GLOGIN  FOLLOWER_COUNT  FOLLOWING_COUNT  DATASET_COUNT  \\\n",
       "3          Male      True            23.0            114.0            5.0   \n",
       "4        Female     False            46.0            112.0            2.0   \n",
       "5          Male     False             2.0              2.0            0.0   \n",
       "6          Male     False            46.0             36.0            0.0   \n",
       "9          Male      True            65.0             99.0            7.0   \n",
       "...         ...       ...             ...              ...            ...   \n",
       "1321179    Male     False             0.0             45.0            0.0   \n",
       "1321182    Male      True            46.0              7.0            7.0   \n",
       "1321183  Female     False             1.0              3.0            0.0   \n",
       "1321184  Female      True            20.0             60.0            6.0   \n",
       "1321185    Male      True            20.0             64.0            3.0   \n",
       "\n",
       "         CODE_COUNT  DISCUSSION_COUNT  AVG_NB_READ_TIME_MIN  \\\n",
       "3              24.0              67.0                 13.40   \n",
       "4              12.0              63.0                 24.83   \n",
       "5               0.0               0.0                  0.62   \n",
       "6              16.0              77.0                 22.32   \n",
       "9              19.0              93.0                  8.79   \n",
       "...             ...               ...                   ...   \n",
       "1321179         1.0               5.0                  0.35   \n",
       "1321182        21.0              66.0                 21.65   \n",
       "1321183         1.0               9.0                  0.26   \n",
       "1321184        14.0              44.0                 23.39   \n",
       "1321185        24.0              67.0                  9.49   \n",
       "\n",
       "         TOTAL_VOTES_GAVE_NB  TOTAL_VOTES_GAVE_DS  TOTAL_VOTES_GAVE_DC  ISBOT  \n",
       "3                       21.0                 10.0                  1.0  False  \n",
       "4                       10.0                  6.0                  2.0  False  \n",
       "5                       18.0                  9.0                  2.0   True  \n",
       "6                       18.0                  9.0                  1.0  False  \n",
       "9                       24.0                  7.0                  2.0  False  \n",
       "...                      ...                  ...                  ...    ...  \n",
       "1321179                 11.0                  5.0                  1.0   True  \n",
       "1321182                 23.0                  5.0                  0.0  False  \n",
       "1321183                 25.0                 10.0                  2.0   True  \n",
       "1321184                 22.0                 10.0                  3.0  False  \n",
       "1321185                 24.0                  7.0                  0.0  False  \n",
       "\n",
       "[973661 rows x 12 columns]"
      ]
     },
     "execution_count": 16,
     "metadata": {},
     "output_type": "execute_result"
    }
   ],
   "source": [
    "data"
   ]
  },
  {
   "cell_type": "code",
   "execution_count": 17,
   "id": "86ec7387",
   "metadata": {
    "execution": {
     "iopub.execute_input": "2023-02-21T09:07:12.725723Z",
     "iopub.status.busy": "2023-02-21T09:07:12.725221Z",
     "iopub.status.idle": "2023-02-21T09:07:12.730478Z",
     "shell.execute_reply": "2023-02-21T09:07:12.729038Z"
    },
    "papermill": {
     "duration": 0.025636,
     "end_time": "2023-02-21T09:07:12.732953",
     "exception": false,
     "start_time": "2023-02-21T09:07:12.707317",
     "status": "completed"
    },
    "tags": []
   },
   "outputs": [],
   "source": [
    "# Obtaining the profile report.\n",
    "#data.profile_report()"
   ]
  },
  {
   "cell_type": "code",
   "execution_count": 18,
   "id": "55e30e23",
   "metadata": {
    "execution": {
     "iopub.execute_input": "2023-02-21T09:07:12.766939Z",
     "iopub.status.busy": "2023-02-21T09:07:12.766479Z",
     "iopub.status.idle": "2023-02-21T09:07:12.955934Z",
     "shell.execute_reply": "2023-02-21T09:07:12.954702Z"
    },
    "papermill": {
     "duration": 0.210163,
     "end_time": "2023-02-21T09:07:12.959009",
     "exception": false,
     "start_time": "2023-02-21T09:07:12.748846",
     "status": "completed"
    },
    "tags": []
   },
   "outputs": [],
   "source": [
    "# Dropping highly correlated columns based on the profile report.\n",
    "data.drop(\"DATASET_COUNT\", axis=1, inplace=True)"
   ]
  },
  {
   "cell_type": "code",
   "execution_count": 19,
   "id": "6f6d7b44",
   "metadata": {
    "execution": {
     "iopub.execute_input": "2023-02-21T09:07:12.993456Z",
     "iopub.status.busy": "2023-02-21T09:07:12.992949Z",
     "iopub.status.idle": "2023-02-21T09:07:13.446247Z",
     "shell.execute_reply": "2023-02-21T09:07:13.445326Z"
    },
    "papermill": {
     "duration": 0.473596,
     "end_time": "2023-02-21T09:07:13.448696",
     "exception": false,
     "start_time": "2023-02-21T09:07:12.975100",
     "status": "completed"
    },
    "tags": []
   },
   "outputs": [
    {
     "data": {
      "text/html": [
       "<div>\n",
       "<style scoped>\n",
       "    .dataframe tbody tr th:only-of-type {\n",
       "        vertical-align: middle;\n",
       "    }\n",
       "\n",
       "    .dataframe tbody tr th {\n",
       "        vertical-align: top;\n",
       "    }\n",
       "\n",
       "    .dataframe thead th {\n",
       "        text-align: right;\n",
       "    }\n",
       "</style>\n",
       "<table border=\"1\" class=\"dataframe\">\n",
       "  <thead>\n",
       "    <tr style=\"text-align: right;\">\n",
       "      <th></th>\n",
       "      <th>FOLLOWER_COUNT</th>\n",
       "      <th>FOLLOWING_COUNT</th>\n",
       "      <th>CODE_COUNT</th>\n",
       "      <th>DISCUSSION_COUNT</th>\n",
       "      <th>AVG_NB_READ_TIME_MIN</th>\n",
       "      <th>TOTAL_VOTES_GAVE_NB</th>\n",
       "      <th>TOTAL_VOTES_GAVE_DS</th>\n",
       "      <th>TOTAL_VOTES_GAVE_DC</th>\n",
       "    </tr>\n",
       "  </thead>\n",
       "  <tbody>\n",
       "    <tr>\n",
       "      <th>count</th>\n",
       "      <td>973661.000000</td>\n",
       "      <td>973661.000000</td>\n",
       "      <td>973661.000000</td>\n",
       "      <td>973661.000000</td>\n",
       "      <td>973661.000000</td>\n",
       "      <td>973661.000000</td>\n",
       "      <td>973661.000000</td>\n",
       "      <td>973661.0000</td>\n",
       "    </tr>\n",
       "    <tr>\n",
       "      <th>mean</th>\n",
       "      <td>26.969640</td>\n",
       "      <td>45.049063</td>\n",
       "      <td>10.358159</td>\n",
       "      <td>65.853427</td>\n",
       "      <td>12.743482</td>\n",
       "      <td>17.536143</td>\n",
       "      <td>6.529476</td>\n",
       "      <td>1.5302</td>\n",
       "    </tr>\n",
       "    <tr>\n",
       "      <th>std</th>\n",
       "      <td>22.316049</td>\n",
       "      <td>38.293567</td>\n",
       "      <td>8.001530</td>\n",
       "      <td>46.131753</td>\n",
       "      <td>9.279559</td>\n",
       "      <td>4.475935</td>\n",
       "      <td>2.225885</td>\n",
       "      <td>1.0909</td>\n",
       "    </tr>\n",
       "    <tr>\n",
       "      <th>min</th>\n",
       "      <td>0.000000</td>\n",
       "      <td>0.000000</td>\n",
       "      <td>0.000000</td>\n",
       "      <td>0.000000</td>\n",
       "      <td>0.000000</td>\n",
       "      <td>10.000000</td>\n",
       "      <td>3.000000</td>\n",
       "      <td>0.0000</td>\n",
       "    </tr>\n",
       "    <tr>\n",
       "      <th>25%</th>\n",
       "      <td>2.000000</td>\n",
       "      <td>3.000000</td>\n",
       "      <td>1.000000</td>\n",
       "      <td>13.000000</td>\n",
       "      <td>1.980000</td>\n",
       "      <td>14.000000</td>\n",
       "      <td>5.000000</td>\n",
       "      <td>1.0000</td>\n",
       "    </tr>\n",
       "    <tr>\n",
       "      <th>50%</th>\n",
       "      <td>27.000000</td>\n",
       "      <td>44.000000</td>\n",
       "      <td>10.000000</td>\n",
       "      <td>66.000000</td>\n",
       "      <td>12.742246</td>\n",
       "      <td>18.000000</td>\n",
       "      <td>7.000000</td>\n",
       "      <td>2.0000</td>\n",
       "    </tr>\n",
       "    <tr>\n",
       "      <th>75%</th>\n",
       "      <td>46.000000</td>\n",
       "      <td>77.000000</td>\n",
       "      <td>17.000000</td>\n",
       "      <td>105.000000</td>\n",
       "      <td>20.590000</td>\n",
       "      <td>21.000000</td>\n",
       "      <td>8.000000</td>\n",
       "      <td>2.0000</td>\n",
       "    </tr>\n",
       "    <tr>\n",
       "      <th>max</th>\n",
       "      <td>70.000000</td>\n",
       "      <td>120.000000</td>\n",
       "      <td>25.000000</td>\n",
       "      <td>150.000000</td>\n",
       "      <td>29.990000</td>\n",
       "      <td>25.000000</td>\n",
       "      <td>10.000000</td>\n",
       "      <td>3.0000</td>\n",
       "    </tr>\n",
       "  </tbody>\n",
       "</table>\n",
       "</div>"
      ],
      "text/plain": [
       "       FOLLOWER_COUNT  FOLLOWING_COUNT     CODE_COUNT  DISCUSSION_COUNT  \\\n",
       "count   973661.000000    973661.000000  973661.000000     973661.000000   \n",
       "mean        26.969640        45.049063      10.358159         65.853427   \n",
       "std         22.316049        38.293567       8.001530         46.131753   \n",
       "min          0.000000         0.000000       0.000000          0.000000   \n",
       "25%          2.000000         3.000000       1.000000         13.000000   \n",
       "50%         27.000000        44.000000      10.000000         66.000000   \n",
       "75%         46.000000        77.000000      17.000000        105.000000   \n",
       "max         70.000000       120.000000      25.000000        150.000000   \n",
       "\n",
       "       AVG_NB_READ_TIME_MIN  TOTAL_VOTES_GAVE_NB  TOTAL_VOTES_GAVE_DS  \\\n",
       "count         973661.000000        973661.000000        973661.000000   \n",
       "mean              12.743482            17.536143             6.529476   \n",
       "std                9.279559             4.475935             2.225885   \n",
       "min                0.000000            10.000000             3.000000   \n",
       "25%                1.980000            14.000000             5.000000   \n",
       "50%               12.742246            18.000000             7.000000   \n",
       "75%               20.590000            21.000000             8.000000   \n",
       "max               29.990000            25.000000            10.000000   \n",
       "\n",
       "       TOTAL_VOTES_GAVE_DC  \n",
       "count          973661.0000  \n",
       "mean                1.5302  \n",
       "std                 1.0909  \n",
       "min                 0.0000  \n",
       "25%                 1.0000  \n",
       "50%                 2.0000  \n",
       "75%                 2.0000  \n",
       "max                 3.0000  "
      ]
     },
     "execution_count": 19,
     "metadata": {},
     "output_type": "execute_result"
    }
   ],
   "source": [
    "# Obtaining a descriptive statistic of the data.\n",
    "data.describe()"
   ]
  },
  {
   "cell_type": "code",
   "execution_count": 20,
   "id": "5b208fbc",
   "metadata": {
    "execution": {
     "iopub.execute_input": "2023-02-21T09:07:13.483398Z",
     "iopub.status.busy": "2023-02-21T09:07:13.482528Z",
     "iopub.status.idle": "2023-02-21T09:07:15.784571Z",
     "shell.execute_reply": "2023-02-21T09:07:15.783541Z"
    },
    "papermill": {
     "duration": 2.322123,
     "end_time": "2023-02-21T09:07:15.787042",
     "exception": false,
     "start_time": "2023-02-21T09:07:13.464919",
     "status": "completed"
    },
    "tags": []
   },
   "outputs": [
    {
     "data": {
      "image/png": "[encoded data removed]",
      "text/plain": [
       "<Figure size 2000x2000 with 9 Axes>"
      ]
     },
     "metadata": {},
     "output_type": "display_data"
    }
   ],
   "source": [
    "data.hist(figsize=(20,20))\n",
    "plt.show()"
   ]
  },
  {
   "cell_type": "code",
   "execution_count": 21,
   "id": "ee5d8c64",
   "metadata": {
    "execution": {
     "iopub.execute_input": "2023-02-21T09:07:15.827718Z",
     "iopub.status.busy": "2023-02-21T09:07:15.826590Z",
     "iopub.status.idle": "2023-02-21T09:07:16.064393Z",
     "shell.execute_reply": "2023-02-21T09:07:16.062420Z"
    },
    "papermill": {
     "duration": 0.260938,
     "end_time": "2023-02-21T09:07:16.066889",
     "exception": false,
     "start_time": "2023-02-21T09:07:15.805951",
     "status": "completed"
    },
    "tags": []
   },
   "outputs": [
    {
     "name": "stdout",
     "output_type": "stream",
     "text": [
      "Percentage of fake accounts is 26.8% and non-fake accounts is: 73.2%\n"
     ]
    }
   ],
   "source": [
    "print(\"Percentage of fake accounts is {:.1f}% and non-fake accounts is: {:.1f}%\".format(\n",
    "    data[data['ISBOT'] == True].shape[0] / data.shape[0]*100,\n",
    "    data[data['ISBOT'] == False].shape[0] / data.shape[0]*100))"
   ]
  },
  {
   "cell_type": "markdown",
   "id": "765b276c",
   "metadata": {
    "papermill": {
     "duration": 0.01819,
     "end_time": "2023-02-21T09:07:16.103283",
     "exception": false,
     "start_time": "2023-02-21T09:07:16.085093",
     "status": "completed"
    },
    "tags": []
   },
   "source": [
    "> It can be observed from the above code that the dataset is inbalanced (skewed towards non fake accounts).\n"
   ]
  },
  {
   "cell_type": "markdown",
   "id": "2ce4c57c",
   "metadata": {},
   "source": [
    "## Down sample\n"
   ]
  },
  {
   "cell_type": "code",
   "execution_count": 22,
   "id": "596c7e3e",
   "metadata": {
    "execution": {
     "iopub.execute_input": "2023-02-21T09:07:16.141589Z",
     "iopub.status.busy": "2023-02-21T09:07:16.141180Z",
     "iopub.status.idle": "2023-02-21T09:07:16.239359Z",
     "shell.execute_reply": "2023-02-21T09:07:16.238129Z"
    },
    "papermill": {
     "duration": 0.120714,
     "end_time": "2023-02-21T09:07:16.242160",
     "exception": false,
     "start_time": "2023-02-21T09:07:16.121446",
     "status": "completed"
    },
    "tags": []
   },
   "outputs": [],
   "source": [
    "bot = data[data['ISBOT'] == True]\n"
   ]
  },
  {
   "cell_type": "code",
   "execution_count": 23,
   "id": "398b8d89",
   "metadata": {
    "execution": {
     "iopub.execute_input": "2023-02-21T09:07:16.280816Z",
     "iopub.status.busy": "2023-02-21T09:07:16.280435Z",
     "iopub.status.idle": "2023-02-21T09:07:16.414388Z",
     "shell.execute_reply": "2023-02-21T09:07:16.413187Z"
    },
    "papermill": {
     "duration": 0.156318,
     "end_time": "2023-02-21T09:07:16.416928",
     "exception": false,
     "start_time": "2023-02-21T09:07:16.260610",
     "status": "completed"
    },
    "tags": []
   },
   "outputs": [],
   "source": [
    "not_bot = data[data['ISBOT'] == False]\n"
   ]
  },
  {
   "cell_type": "code",
   "execution_count": 24,
   "id": "72725560",
   "metadata": {
    "execution": {
     "iopub.execute_input": "2023-02-21T09:07:16.455228Z",
     "iopub.status.busy": "2023-02-21T09:07:16.454800Z",
     "iopub.status.idle": "2023-02-21T09:07:16.459998Z",
     "shell.execute_reply": "2023-02-21T09:07:16.458776Z"
    },
    "papermill": {
     "duration": 0.027184,
     "end_time": "2023-02-21T09:07:16.462416",
     "exception": false,
     "start_time": "2023-02-21T09:07:16.435232",
     "status": "completed"
    },
    "tags": []
   },
   "outputs": [],
   "source": [
    "# Impoting the library\n",
    "from sklearn.utils import resample"
   ]
  },
  {
   "cell_type": "code",
   "execution_count": 25,
   "id": "efc42c03",
   "metadata": {
    "execution": {
     "iopub.execute_input": "2023-02-21T09:07:16.500677Z",
     "iopub.status.busy": "2023-02-21T09:07:16.500267Z",
     "iopub.status.idle": "2023-02-21T09:07:16.706898Z",
     "shell.execute_reply": "2023-02-21T09:07:16.705741Z"
    },
    "papermill": {
     "duration": 0.229087,
     "end_time": "2023-02-21T09:07:16.709869",
     "exception": false,
     "start_time": "2023-02-21T09:07:16.480782",
     "status": "completed"
    },
    "tags": []
   },
   "outputs": [],
   "source": [
    "# Dealing with imbalanced dataset.\n",
    "# Random under sampling.\n",
    "not_bot_downsampled = resample(not_bot,\n",
    "                                   replace=False,  # sample without replacement\n",
    "                                   n_samples= 260813,  # to match minority class\n",
    "                                   )  # reproducible results"
   ]
  },
  {
   "cell_type": "code",
   "execution_count": 26,
   "id": "b125af0d",
   "metadata": {
    "execution": {
     "iopub.execute_input": "2023-02-21T09:07:16.749402Z",
     "iopub.status.busy": "2023-02-21T09:07:16.748896Z",
     "iopub.status.idle": "2023-02-21T09:07:16.779069Z",
     "shell.execute_reply": "2023-02-21T09:07:16.777758Z"
    },
    "papermill": {
     "duration": 0.053197,
     "end_time": "2023-02-21T09:07:16.781757",
     "exception": false,
     "start_time": "2023-02-21T09:07:16.728560",
     "status": "completed"
    },
    "tags": []
   },
   "outputs": [
    {
     "data": {
      "text/html": [
       "<div>\n",
       "<style scoped>\n",
       "    .dataframe tbody tr th:only-of-type {\n",
       "        vertical-align: middle;\n",
       "    }\n",
       "\n",
       "    .dataframe tbody tr th {\n",
       "        vertical-align: top;\n",
       "    }\n",
       "\n",
       "    .dataframe thead th {\n",
       "        text-align: right;\n",
       "    }\n",
       "</style>\n",
       "<table border=\"1\" class=\"dataframe\">\n",
       "  <thead>\n",
       "    <tr style=\"text-align: right;\">\n",
       "      <th></th>\n",
       "      <th>GENDER</th>\n",
       "      <th>IS_GLOGIN</th>\n",
       "      <th>FOLLOWER_COUNT</th>\n",
       "      <th>FOLLOWING_COUNT</th>\n",
       "      <th>CODE_COUNT</th>\n",
       "      <th>DISCUSSION_COUNT</th>\n",
       "      <th>AVG_NB_READ_TIME_MIN</th>\n",
       "      <th>TOTAL_VOTES_GAVE_NB</th>\n",
       "      <th>TOTAL_VOTES_GAVE_DS</th>\n",
       "      <th>TOTAL_VOTES_GAVE_DC</th>\n",
       "      <th>ISBOT</th>\n",
       "    </tr>\n",
       "  </thead>\n",
       "  <tbody>\n",
       "    <tr>\n",
       "      <th>205828</th>\n",
       "      <td>Female</td>\n",
       "      <td>True</td>\n",
       "      <td>51.0</td>\n",
       "      <td>99.0</td>\n",
       "      <td>6.0</td>\n",
       "      <td>77.0</td>\n",
       "      <td>14.12</td>\n",
       "      <td>21.0</td>\n",
       "      <td>4.0</td>\n",
       "      <td>1.0</td>\n",
       "      <td>False</td>\n",
       "    </tr>\n",
       "    <tr>\n",
       "      <th>868705</th>\n",
       "      <td>Male</td>\n",
       "      <td>True</td>\n",
       "      <td>61.0</td>\n",
       "      <td>95.0</td>\n",
       "      <td>5.0</td>\n",
       "      <td>132.0</td>\n",
       "      <td>11.13</td>\n",
       "      <td>19.0</td>\n",
       "      <td>7.0</td>\n",
       "      <td>1.0</td>\n",
       "      <td>False</td>\n",
       "    </tr>\n",
       "    <tr>\n",
       "      <th>423984</th>\n",
       "      <td>Male</td>\n",
       "      <td>True</td>\n",
       "      <td>25.0</td>\n",
       "      <td>100.0</td>\n",
       "      <td>13.0</td>\n",
       "      <td>143.0</td>\n",
       "      <td>22.40</td>\n",
       "      <td>19.0</td>\n",
       "      <td>6.0</td>\n",
       "      <td>3.0</td>\n",
       "      <td>False</td>\n",
       "    </tr>\n",
       "    <tr>\n",
       "      <th>808666</th>\n",
       "      <td>Male</td>\n",
       "      <td>True</td>\n",
       "      <td>11.0</td>\n",
       "      <td>54.0</td>\n",
       "      <td>11.0</td>\n",
       "      <td>89.0</td>\n",
       "      <td>16.50</td>\n",
       "      <td>14.0</td>\n",
       "      <td>3.0</td>\n",
       "      <td>3.0</td>\n",
       "      <td>False</td>\n",
       "    </tr>\n",
       "    <tr>\n",
       "      <th>1239531</th>\n",
       "      <td>Male</td>\n",
       "      <td>False</td>\n",
       "      <td>36.0</td>\n",
       "      <td>47.0</td>\n",
       "      <td>20.0</td>\n",
       "      <td>73.0</td>\n",
       "      <td>27.25</td>\n",
       "      <td>12.0</td>\n",
       "      <td>10.0</td>\n",
       "      <td>1.0</td>\n",
       "      <td>False</td>\n",
       "    </tr>\n",
       "    <tr>\n",
       "      <th>...</th>\n",
       "      <td>...</td>\n",
       "      <td>...</td>\n",
       "      <td>...</td>\n",
       "      <td>...</td>\n",
       "      <td>...</td>\n",
       "      <td>...</td>\n",
       "      <td>...</td>\n",
       "      <td>...</td>\n",
       "      <td>...</td>\n",
       "      <td>...</td>\n",
       "      <td>...</td>\n",
       "    </tr>\n",
       "    <tr>\n",
       "      <th>234572</th>\n",
       "      <td>Male</td>\n",
       "      <td>True</td>\n",
       "      <td>44.0</td>\n",
       "      <td>94.0</td>\n",
       "      <td>10.0</td>\n",
       "      <td>66.0</td>\n",
       "      <td>16.91</td>\n",
       "      <td>12.0</td>\n",
       "      <td>4.0</td>\n",
       "      <td>0.0</td>\n",
       "      <td>False</td>\n",
       "    </tr>\n",
       "    <tr>\n",
       "      <th>490441</th>\n",
       "      <td>Female</td>\n",
       "      <td>True</td>\n",
       "      <td>15.0</td>\n",
       "      <td>119.0</td>\n",
       "      <td>3.0</td>\n",
       "      <td>92.0</td>\n",
       "      <td>5.36</td>\n",
       "      <td>22.0</td>\n",
       "      <td>6.0</td>\n",
       "      <td>1.0</td>\n",
       "      <td>False</td>\n",
       "    </tr>\n",
       "    <tr>\n",
       "      <th>1294054</th>\n",
       "      <td>Male</td>\n",
       "      <td>False</td>\n",
       "      <td>34.0</td>\n",
       "      <td>98.0</td>\n",
       "      <td>15.0</td>\n",
       "      <td>112.0</td>\n",
       "      <td>10.74</td>\n",
       "      <td>12.0</td>\n",
       "      <td>3.0</td>\n",
       "      <td>2.0</td>\n",
       "      <td>False</td>\n",
       "    </tr>\n",
       "    <tr>\n",
       "      <th>710977</th>\n",
       "      <td>Male</td>\n",
       "      <td>False</td>\n",
       "      <td>21.0</td>\n",
       "      <td>101.0</td>\n",
       "      <td>15.0</td>\n",
       "      <td>76.0</td>\n",
       "      <td>24.61</td>\n",
       "      <td>10.0</td>\n",
       "      <td>3.0</td>\n",
       "      <td>3.0</td>\n",
       "      <td>False</td>\n",
       "    </tr>\n",
       "    <tr>\n",
       "      <th>1002569</th>\n",
       "      <td>Male</td>\n",
       "      <td>False</td>\n",
       "      <td>62.0</td>\n",
       "      <td>113.0</td>\n",
       "      <td>16.0</td>\n",
       "      <td>93.0</td>\n",
       "      <td>15.10</td>\n",
       "      <td>10.0</td>\n",
       "      <td>4.0</td>\n",
       "      <td>1.0</td>\n",
       "      <td>False</td>\n",
       "    </tr>\n",
       "  </tbody>\n",
       "</table>\n",
       "<p>260813 rows × 11 columns</p>\n",
       "</div>"
      ],
      "text/plain": [
       "         GENDER IS_GLOGIN  FOLLOWER_COUNT  FOLLOWING_COUNT  CODE_COUNT  \\\n",
       "205828   Female      True            51.0             99.0         6.0   \n",
       "868705     Male      True            61.0             95.0         5.0   \n",
       "423984     Male      True            25.0            100.0        13.0   \n",
       "808666     Male      True            11.0             54.0        11.0   \n",
       "1239531    Male     False            36.0             47.0        20.0   \n",
       "...         ...       ...             ...              ...         ...   \n",
       "234572     Male      True            44.0             94.0        10.0   \n",
       "490441   Female      True            15.0            119.0         3.0   \n",
       "1294054    Male     False            34.0             98.0        15.0   \n",
       "710977     Male     False            21.0            101.0        15.0   \n",
       "1002569    Male     False            62.0            113.0        16.0   \n",
       "\n",
       "         DISCUSSION_COUNT  AVG_NB_READ_TIME_MIN  TOTAL_VOTES_GAVE_NB  \\\n",
       "205828               77.0                 14.12                 21.0   \n",
       "868705              132.0                 11.13                 19.0   \n",
       "423984              143.0                 22.40                 19.0   \n",
       "808666               89.0                 16.50                 14.0   \n",
       "1239531              73.0                 27.25                 12.0   \n",
       "...                   ...                   ...                  ...   \n",
       "234572               66.0                 16.91                 12.0   \n",
       "490441               92.0                  5.36                 22.0   \n",
       "1294054             112.0                 10.74                 12.0   \n",
       "710977               76.0                 24.61                 10.0   \n",
       "1002569              93.0                 15.10                 10.0   \n",
       "\n",
       "         TOTAL_VOTES_GAVE_DS  TOTAL_VOTES_GAVE_DC  ISBOT  \n",
       "205828                   4.0                  1.0  False  \n",
       "868705                   7.0                  1.0  False  \n",
       "423984                   6.0                  3.0  False  \n",
       "808666                   3.0                  3.0  False  \n",
       "1239531                 10.0                  1.0  False  \n",
       "...                      ...                  ...    ...  \n",
       "234572                   4.0                  0.0  False  \n",
       "490441                   6.0                  1.0  False  \n",
       "1294054                  3.0                  2.0  False  \n",
       "710977                   3.0                  3.0  False  \n",
       "1002569                  4.0                  1.0  False  \n",
       "\n",
       "[260813 rows x 11 columns]"
      ]
     },
     "execution_count": 26,
     "metadata": {},
     "output_type": "execute_result"
    }
   ],
   "source": [
    "not_bot_downsampled"
   ]
  },
  {
   "cell_type": "code",
   "execution_count": 27,
   "id": "197becee",
   "metadata": {
    "execution": {
     "iopub.execute_input": "2023-02-21T09:07:16.821979Z",
     "iopub.status.busy": "2023-02-21T09:07:16.821527Z",
     "iopub.status.idle": "2023-02-21T09:07:16.889018Z",
     "shell.execute_reply": "2023-02-21T09:07:16.887574Z"
    },
    "papermill": {
     "duration": 0.091284,
     "end_time": "2023-02-21T09:07:16.892080",
     "exception": false,
     "start_time": "2023-02-21T09:07:16.800796",
     "status": "completed"
    },
    "tags": []
   },
   "outputs": [],
   "source": [
    "main_data = pd.concat([not_bot_downsampled, bot])"
   ]
  },
  {
   "cell_type": "code",
   "execution_count": 28,
   "id": "c014d3bf",
   "metadata": {
    "execution": {
     "iopub.execute_input": "2023-02-21T09:07:16.931307Z",
     "iopub.status.busy": "2023-02-21T09:07:16.930871Z",
     "iopub.status.idle": "2023-02-21T09:07:16.964442Z",
     "shell.execute_reply": "2023-02-21T09:07:16.963088Z"
    },
    "papermill": {
     "duration": 0.056096,
     "end_time": "2023-02-21T09:07:16.967027",
     "exception": false,
     "start_time": "2023-02-21T09:07:16.910931",
     "status": "completed"
    },
    "tags": []
   },
   "outputs": [
    {
     "data": {
      "text/plain": [
       "False    260813\n",
       "True     260813\n",
       "Name: ISBOT, dtype: int64"
      ]
     },
     "execution_count": 28,
     "metadata": {},
     "output_type": "execute_result"
    }
   ],
   "source": [
    "# Checking the balanced dataset.\n",
    "main_data[\"ISBOT\"].value_counts()"
   ]
  },
  {
   "cell_type": "markdown",
   "id": "da3a2160",
   "metadata": {},
   "source": [
    "# Encoding\n"
   ]
  },
  {
   "cell_type": "code",
   "execution_count": 29,
   "id": "acc3ebf6",
   "metadata": {
    "execution": {
     "iopub.execute_input": "2023-02-21T09:07:17.009186Z",
     "iopub.status.busy": "2023-02-21T09:07:17.008688Z",
     "iopub.status.idle": "2023-02-21T09:07:17.013435Z",
     "shell.execute_reply": "2023-02-21T09:07:17.012536Z"
    },
    "papermill": {
     "duration": 0.028898,
     "end_time": "2023-02-21T09:07:17.015643",
     "exception": false,
     "start_time": "2023-02-21T09:07:16.986745",
     "status": "completed"
    },
    "tags": []
   },
   "outputs": [],
   "source": [
    "from sklearn.preprocessing import LabelEncoder"
   ]
  },
  {
   "cell_type": "code",
   "execution_count": 30,
   "id": "c946264b",
   "metadata": {
    "execution": {
     "iopub.execute_input": "2023-02-21T09:07:17.056550Z",
     "iopub.status.busy": "2023-02-21T09:07:17.056141Z",
     "iopub.status.idle": "2023-02-21T09:07:17.061389Z",
     "shell.execute_reply": "2023-02-21T09:07:17.060477Z"
    },
    "papermill": {
     "duration": 0.028204,
     "end_time": "2023-02-21T09:07:17.063491",
     "exception": false,
     "start_time": "2023-02-21T09:07:17.035287",
     "status": "completed"
    },
    "tags": []
   },
   "outputs": [],
   "source": [
    "le = LabelEncoder()"
   ]
  },
  {
   "cell_type": "code",
   "execution_count": 31,
   "id": "b19239a1",
   "metadata": {
    "execution": {
     "iopub.execute_input": "2023-02-21T09:07:17.104219Z",
     "iopub.status.busy": "2023-02-21T09:07:17.103447Z",
     "iopub.status.idle": "2023-02-21T09:07:17.234448Z",
     "shell.execute_reply": "2023-02-21T09:07:17.233322Z"
    },
    "papermill": {
     "duration": 0.154714,
     "end_time": "2023-02-21T09:07:17.237428",
     "exception": false,
     "start_time": "2023-02-21T09:07:17.082714",
     "status": "completed"
    },
    "tags": []
   },
   "outputs": [],
   "source": [
    "# Performing Label Encoding on the target variable.\n",
    "main_data[\"ISBOT\"] = le.fit_transform(main_data[\"ISBOT\"])"
   ]
  },
  {
   "cell_type": "code",
   "execution_count": 32,
   "id": "70c92415",
   "metadata": {
    "execution": {
     "iopub.execute_input": "2023-02-21T09:07:17.279159Z",
     "iopub.status.busy": "2023-02-21T09:07:17.278722Z",
     "iopub.status.idle": "2023-02-21T09:07:17.306254Z",
     "shell.execute_reply": "2023-02-21T09:07:17.304784Z"
    },
    "papermill": {
     "duration": 0.051061,
     "end_time": "2023-02-21T09:07:17.308647",
     "exception": false,
     "start_time": "2023-02-21T09:07:17.257586",
     "status": "completed"
    },
    "tags": []
   },
   "outputs": [
    {
     "data": {
      "text/html": [
       "<div>\n",
       "<style scoped>\n",
       "    .dataframe tbody tr th:only-of-type {\n",
       "        vertical-align: middle;\n",
       "    }\n",
       "\n",
       "    .dataframe tbody tr th {\n",
       "        vertical-align: top;\n",
       "    }\n",
       "\n",
       "    .dataframe thead th {\n",
       "        text-align: right;\n",
       "    }\n",
       "</style>\n",
       "<table border=\"1\" class=\"dataframe\">\n",
       "  <thead>\n",
       "    <tr style=\"text-align: right;\">\n",
       "      <th></th>\n",
       "      <th>GENDER</th>\n",
       "      <th>IS_GLOGIN</th>\n",
       "      <th>FOLLOWER_COUNT</th>\n",
       "      <th>FOLLOWING_COUNT</th>\n",
       "      <th>CODE_COUNT</th>\n",
       "      <th>DISCUSSION_COUNT</th>\n",
       "      <th>AVG_NB_READ_TIME_MIN</th>\n",
       "      <th>TOTAL_VOTES_GAVE_NB</th>\n",
       "      <th>TOTAL_VOTES_GAVE_DS</th>\n",
       "      <th>TOTAL_VOTES_GAVE_DC</th>\n",
       "      <th>ISBOT</th>\n",
       "    </tr>\n",
       "  </thead>\n",
       "  <tbody>\n",
       "    <tr>\n",
       "      <th>205828</th>\n",
       "      <td>Female</td>\n",
       "      <td>True</td>\n",
       "      <td>51.0</td>\n",
       "      <td>99.0</td>\n",
       "      <td>6.0</td>\n",
       "      <td>77.0</td>\n",
       "      <td>14.12</td>\n",
       "      <td>21.0</td>\n",
       "      <td>4.0</td>\n",
       "      <td>1.0</td>\n",
       "      <td>0</td>\n",
       "    </tr>\n",
       "    <tr>\n",
       "      <th>868705</th>\n",
       "      <td>Male</td>\n",
       "      <td>True</td>\n",
       "      <td>61.0</td>\n",
       "      <td>95.0</td>\n",
       "      <td>5.0</td>\n",
       "      <td>132.0</td>\n",
       "      <td>11.13</td>\n",
       "      <td>19.0</td>\n",
       "      <td>7.0</td>\n",
       "      <td>1.0</td>\n",
       "      <td>0</td>\n",
       "    </tr>\n",
       "    <tr>\n",
       "      <th>423984</th>\n",
       "      <td>Male</td>\n",
       "      <td>True</td>\n",
       "      <td>25.0</td>\n",
       "      <td>100.0</td>\n",
       "      <td>13.0</td>\n",
       "      <td>143.0</td>\n",
       "      <td>22.40</td>\n",
       "      <td>19.0</td>\n",
       "      <td>6.0</td>\n",
       "      <td>3.0</td>\n",
       "      <td>0</td>\n",
       "    </tr>\n",
       "    <tr>\n",
       "      <th>808666</th>\n",
       "      <td>Male</td>\n",
       "      <td>True</td>\n",
       "      <td>11.0</td>\n",
       "      <td>54.0</td>\n",
       "      <td>11.0</td>\n",
       "      <td>89.0</td>\n",
       "      <td>16.50</td>\n",
       "      <td>14.0</td>\n",
       "      <td>3.0</td>\n",
       "      <td>3.0</td>\n",
       "      <td>0</td>\n",
       "    </tr>\n",
       "    <tr>\n",
       "      <th>1239531</th>\n",
       "      <td>Male</td>\n",
       "      <td>False</td>\n",
       "      <td>36.0</td>\n",
       "      <td>47.0</td>\n",
       "      <td>20.0</td>\n",
       "      <td>73.0</td>\n",
       "      <td>27.25</td>\n",
       "      <td>12.0</td>\n",
       "      <td>10.0</td>\n",
       "      <td>1.0</td>\n",
       "      <td>0</td>\n",
       "    </tr>\n",
       "    <tr>\n",
       "      <th>...</th>\n",
       "      <td>...</td>\n",
       "      <td>...</td>\n",
       "      <td>...</td>\n",
       "      <td>...</td>\n",
       "      <td>...</td>\n",
       "      <td>...</td>\n",
       "      <td>...</td>\n",
       "      <td>...</td>\n",
       "      <td>...</td>\n",
       "      <td>...</td>\n",
       "      <td>...</td>\n",
       "    </tr>\n",
       "    <tr>\n",
       "      <th>1321174</th>\n",
       "      <td>Female</td>\n",
       "      <td>False</td>\n",
       "      <td>2.0</td>\n",
       "      <td>1.0</td>\n",
       "      <td>0.0</td>\n",
       "      <td>7.0</td>\n",
       "      <td>0.35</td>\n",
       "      <td>23.0</td>\n",
       "      <td>8.0</td>\n",
       "      <td>2.0</td>\n",
       "      <td>1</td>\n",
       "    </tr>\n",
       "    <tr>\n",
       "      <th>1321176</th>\n",
       "      <td>Male</td>\n",
       "      <td>False</td>\n",
       "      <td>1.0</td>\n",
       "      <td>3.0</td>\n",
       "      <td>1.0</td>\n",
       "      <td>11.0</td>\n",
       "      <td>1.41</td>\n",
       "      <td>13.0</td>\n",
       "      <td>5.0</td>\n",
       "      <td>2.0</td>\n",
       "      <td>1</td>\n",
       "    </tr>\n",
       "    <tr>\n",
       "      <th>1321177</th>\n",
       "      <td>Female</td>\n",
       "      <td>False</td>\n",
       "      <td>2.0</td>\n",
       "      <td>3.0</td>\n",
       "      <td>1.0</td>\n",
       "      <td>3.0</td>\n",
       "      <td>0.80</td>\n",
       "      <td>23.0</td>\n",
       "      <td>9.0</td>\n",
       "      <td>3.0</td>\n",
       "      <td>1</td>\n",
       "    </tr>\n",
       "    <tr>\n",
       "      <th>1321179</th>\n",
       "      <td>Male</td>\n",
       "      <td>False</td>\n",
       "      <td>0.0</td>\n",
       "      <td>45.0</td>\n",
       "      <td>1.0</td>\n",
       "      <td>5.0</td>\n",
       "      <td>0.35</td>\n",
       "      <td>11.0</td>\n",
       "      <td>5.0</td>\n",
       "      <td>1.0</td>\n",
       "      <td>1</td>\n",
       "    </tr>\n",
       "    <tr>\n",
       "      <th>1321183</th>\n",
       "      <td>Female</td>\n",
       "      <td>False</td>\n",
       "      <td>1.0</td>\n",
       "      <td>3.0</td>\n",
       "      <td>1.0</td>\n",
       "      <td>9.0</td>\n",
       "      <td>0.26</td>\n",
       "      <td>25.0</td>\n",
       "      <td>10.0</td>\n",
       "      <td>2.0</td>\n",
       "      <td>1</td>\n",
       "    </tr>\n",
       "  </tbody>\n",
       "</table>\n",
       "<p>521626 rows × 11 columns</p>\n",
       "</div>"
      ],
      "text/plain": [
       "         GENDER IS_GLOGIN  FOLLOWER_COUNT  FOLLOWING_COUNT  CODE_COUNT  \\\n",
       "205828   Female      True            51.0             99.0         6.0   \n",
       "868705     Male      True            61.0             95.0         5.0   \n",
       "423984     Male      True            25.0            100.0        13.0   \n",
       "808666     Male      True            11.0             54.0        11.0   \n",
       "1239531    Male     False            36.0             47.0        20.0   \n",
       "...         ...       ...             ...              ...         ...   \n",
       "1321174  Female     False             2.0              1.0         0.0   \n",
       "1321176    Male     False             1.0              3.0         1.0   \n",
       "1321177  Female     False             2.0              3.0         1.0   \n",
       "1321179    Male     False             0.0             45.0         1.0   \n",
       "1321183  Female     False             1.0              3.0         1.0   \n",
       "\n",
       "         DISCUSSION_COUNT  AVG_NB_READ_TIME_MIN  TOTAL_VOTES_GAVE_NB  \\\n",
       "205828               77.0                 14.12                 21.0   \n",
       "868705              132.0                 11.13                 19.0   \n",
       "423984              143.0                 22.40                 19.0   \n",
       "808666               89.0                 16.50                 14.0   \n",
       "1239531              73.0                 27.25                 12.0   \n",
       "...                   ...                   ...                  ...   \n",
       "1321174               7.0                  0.35                 23.0   \n",
       "1321176              11.0                  1.41                 13.0   \n",
       "1321177               3.0                  0.80                 23.0   \n",
       "1321179               5.0                  0.35                 11.0   \n",
       "1321183               9.0                  0.26                 25.0   \n",
       "\n",
       "         TOTAL_VOTES_GAVE_DS  TOTAL_VOTES_GAVE_DC  ISBOT  \n",
       "205828                   4.0                  1.0      0  \n",
       "868705                   7.0                  1.0      0  \n",
       "423984                   6.0                  3.0      0  \n",
       "808666                   3.0                  3.0      0  \n",
       "1239531                 10.0                  1.0      0  \n",
       "...                      ...                  ...    ...  \n",
       "1321174                  8.0                  2.0      1  \n",
       "1321176                  5.0                  2.0      1  \n",
       "1321177                  9.0                  3.0      1  \n",
       "1321179                  5.0                  1.0      1  \n",
       "1321183                 10.0                  2.0      1  \n",
       "\n",
       "[521626 rows x 11 columns]"
      ]
     },
     "execution_count": 32,
     "metadata": {},
     "output_type": "execute_result"
    }
   ],
   "source": [
    "main_data"
   ]
  },
  {
   "cell_type": "markdown",
   "id": "53ec1569",
   "metadata": {
    "papermill": {
     "duration": 0.019419,
     "end_time": "2023-02-21T09:07:17.347448",
     "exception": false,
     "start_time": "2023-02-21T09:07:17.328029",
     "status": "completed"
    },
    "tags": []
   },
   "source": [
    "## Feature Extraction\n"
   ]
  },
  {
   "cell_type": "code",
   "execution_count": 33,
   "id": "f03e8563",
   "metadata": {
    "execution": {
     "iopub.execute_input": "2023-02-21T09:07:17.390249Z",
     "iopub.status.busy": "2023-02-21T09:07:17.389156Z",
     "iopub.status.idle": "2023-02-21T09:07:17.442812Z",
     "shell.execute_reply": "2023-02-21T09:07:17.441445Z"
    },
    "papermill": {
     "duration": 0.078087,
     "end_time": "2023-02-21T09:07:17.445572",
     "exception": false,
     "start_time": "2023-02-21T09:07:17.367485",
     "status": "completed"
    },
    "tags": []
   },
   "outputs": [
    {
     "data": {
      "text/html": [
       "<div>\n",
       "<style scoped>\n",
       "    .dataframe tbody tr th:only-of-type {\n",
       "        vertical-align: middle;\n",
       "    }\n",
       "\n",
       "    .dataframe tbody tr th {\n",
       "        vertical-align: top;\n",
       "    }\n",
       "\n",
       "    .dataframe thead th {\n",
       "        text-align: right;\n",
       "    }\n",
       "</style>\n",
       "<table border=\"1\" class=\"dataframe\">\n",
       "  <thead>\n",
       "    <tr style=\"text-align: right;\">\n",
       "      <th></th>\n",
       "      <th>GENDER</th>\n",
       "      <th>IS_GLOGIN</th>\n",
       "      <th>FOLLOWER_COUNT</th>\n",
       "      <th>FOLLOWING_COUNT</th>\n",
       "      <th>CODE_COUNT</th>\n",
       "      <th>DISCUSSION_COUNT</th>\n",
       "      <th>AVG_NB_READ_TIME_MIN</th>\n",
       "      <th>TOTAL_VOTES_GAVE_NB</th>\n",
       "      <th>TOTAL_VOTES_GAVE_DS</th>\n",
       "      <th>TOTAL_VOTES_GAVE_DC</th>\n",
       "    </tr>\n",
       "  </thead>\n",
       "  <tbody>\n",
       "    <tr>\n",
       "      <th>205828</th>\n",
       "      <td>Female</td>\n",
       "      <td>True</td>\n",
       "      <td>51.0</td>\n",
       "      <td>99.0</td>\n",
       "      <td>6.0</td>\n",
       "      <td>77.0</td>\n",
       "      <td>14.12</td>\n",
       "      <td>21.0</td>\n",
       "      <td>4.0</td>\n",
       "      <td>1.0</td>\n",
       "    </tr>\n",
       "    <tr>\n",
       "      <th>868705</th>\n",
       "      <td>Male</td>\n",
       "      <td>True</td>\n",
       "      <td>61.0</td>\n",
       "      <td>95.0</td>\n",
       "      <td>5.0</td>\n",
       "      <td>132.0</td>\n",
       "      <td>11.13</td>\n",
       "      <td>19.0</td>\n",
       "      <td>7.0</td>\n",
       "      <td>1.0</td>\n",
       "    </tr>\n",
       "    <tr>\n",
       "      <th>423984</th>\n",
       "      <td>Male</td>\n",
       "      <td>True</td>\n",
       "      <td>25.0</td>\n",
       "      <td>100.0</td>\n",
       "      <td>13.0</td>\n",
       "      <td>143.0</td>\n",
       "      <td>22.40</td>\n",
       "      <td>19.0</td>\n",
       "      <td>6.0</td>\n",
       "      <td>3.0</td>\n",
       "    </tr>\n",
       "    <tr>\n",
       "      <th>808666</th>\n",
       "      <td>Male</td>\n",
       "      <td>True</td>\n",
       "      <td>11.0</td>\n",
       "      <td>54.0</td>\n",
       "      <td>11.0</td>\n",
       "      <td>89.0</td>\n",
       "      <td>16.50</td>\n",
       "      <td>14.0</td>\n",
       "      <td>3.0</td>\n",
       "      <td>3.0</td>\n",
       "    </tr>\n",
       "    <tr>\n",
       "      <th>1239531</th>\n",
       "      <td>Male</td>\n",
       "      <td>False</td>\n",
       "      <td>36.0</td>\n",
       "      <td>47.0</td>\n",
       "      <td>20.0</td>\n",
       "      <td>73.0</td>\n",
       "      <td>27.25</td>\n",
       "      <td>12.0</td>\n",
       "      <td>10.0</td>\n",
       "      <td>1.0</td>\n",
       "    </tr>\n",
       "    <tr>\n",
       "      <th>...</th>\n",
       "      <td>...</td>\n",
       "      <td>...</td>\n",
       "      <td>...</td>\n",
       "      <td>...</td>\n",
       "      <td>...</td>\n",
       "      <td>...</td>\n",
       "      <td>...</td>\n",
       "      <td>...</td>\n",
       "      <td>...</td>\n",
       "      <td>...</td>\n",
       "    </tr>\n",
       "    <tr>\n",
       "      <th>1321174</th>\n",
       "      <td>Female</td>\n",
       "      <td>False</td>\n",
       "      <td>2.0</td>\n",
       "      <td>1.0</td>\n",
       "      <td>0.0</td>\n",
       "      <td>7.0</td>\n",
       "      <td>0.35</td>\n",
       "      <td>23.0</td>\n",
       "      <td>8.0</td>\n",
       "      <td>2.0</td>\n",
       "    </tr>\n",
       "    <tr>\n",
       "      <th>1321176</th>\n",
       "      <td>Male</td>\n",
       "      <td>False</td>\n",
       "      <td>1.0</td>\n",
       "      <td>3.0</td>\n",
       "      <td>1.0</td>\n",
       "      <td>11.0</td>\n",
       "      <td>1.41</td>\n",
       "      <td>13.0</td>\n",
       "      <td>5.0</td>\n",
       "      <td>2.0</td>\n",
       "    </tr>\n",
       "    <tr>\n",
       "      <th>1321177</th>\n",
       "      <td>Female</td>\n",
       "      <td>False</td>\n",
       "      <td>2.0</td>\n",
       "      <td>3.0</td>\n",
       "      <td>1.0</td>\n",
       "      <td>3.0</td>\n",
       "      <td>0.80</td>\n",
       "      <td>23.0</td>\n",
       "      <td>9.0</td>\n",
       "      <td>3.0</td>\n",
       "    </tr>\n",
       "    <tr>\n",
       "      <th>1321179</th>\n",
       "      <td>Male</td>\n",
       "      <td>False</td>\n",
       "      <td>0.0</td>\n",
       "      <td>45.0</td>\n",
       "      <td>1.0</td>\n",
       "      <td>5.0</td>\n",
       "      <td>0.35</td>\n",
       "      <td>11.0</td>\n",
       "      <td>5.0</td>\n",
       "      <td>1.0</td>\n",
       "    </tr>\n",
       "    <tr>\n",
       "      <th>1321183</th>\n",
       "      <td>Female</td>\n",
       "      <td>False</td>\n",
       "      <td>1.0</td>\n",
       "      <td>3.0</td>\n",
       "      <td>1.0</td>\n",
       "      <td>9.0</td>\n",
       "      <td>0.26</td>\n",
       "      <td>25.0</td>\n",
       "      <td>10.0</td>\n",
       "      <td>2.0</td>\n",
       "    </tr>\n",
       "  </tbody>\n",
       "</table>\n",
       "<p>521626 rows × 10 columns</p>\n",
       "</div>"
      ],
      "text/plain": [
       "         GENDER IS_GLOGIN  FOLLOWER_COUNT  FOLLOWING_COUNT  CODE_COUNT  \\\n",
       "205828   Female      True            51.0             99.0         6.0   \n",
       "868705     Male      True            61.0             95.0         5.0   \n",
       "423984     Male      True            25.0            100.0        13.0   \n",
       "808666     Male      True            11.0             54.0        11.0   \n",
       "1239531    Male     False            36.0             47.0        20.0   \n",
       "...         ...       ...             ...              ...         ...   \n",
       "1321174  Female     False             2.0              1.0         0.0   \n",
       "1321176    Male     False             1.0              3.0         1.0   \n",
       "1321177  Female     False             2.0              3.0         1.0   \n",
       "1321179    Male     False             0.0             45.0         1.0   \n",
       "1321183  Female     False             1.0              3.0         1.0   \n",
       "\n",
       "         DISCUSSION_COUNT  AVG_NB_READ_TIME_MIN  TOTAL_VOTES_GAVE_NB  \\\n",
       "205828               77.0                 14.12                 21.0   \n",
       "868705              132.0                 11.13                 19.0   \n",
       "423984              143.0                 22.40                 19.0   \n",
       "808666               89.0                 16.50                 14.0   \n",
       "1239531              73.0                 27.25                 12.0   \n",
       "...                   ...                   ...                  ...   \n",
       "1321174               7.0                  0.35                 23.0   \n",
       "1321176              11.0                  1.41                 13.0   \n",
       "1321177               3.0                  0.80                 23.0   \n",
       "1321179               5.0                  0.35                 11.0   \n",
       "1321183               9.0                  0.26                 25.0   \n",
       "\n",
       "         TOTAL_VOTES_GAVE_DS  TOTAL_VOTES_GAVE_DC  \n",
       "205828                   4.0                  1.0  \n",
       "868705                   7.0                  1.0  \n",
       "423984                   6.0                  3.0  \n",
       "808666                   3.0                  3.0  \n",
       "1239531                 10.0                  1.0  \n",
       "...                      ...                  ...  \n",
       "1321174                  8.0                  2.0  \n",
       "1321176                  5.0                  2.0  \n",
       "1321177                  9.0                  3.0  \n",
       "1321179                  5.0                  1.0  \n",
       "1321183                 10.0                  2.0  \n",
       "\n",
       "[521626 rows x 10 columns]"
      ]
     },
     "execution_count": 33,
     "metadata": {},
     "output_type": "execute_result"
    }
   ],
   "source": [
    "features = main_data.drop(\"ISBOT\", axis = 1)\n",
    "features"
   ]
  },
  {
   "cell_type": "code",
   "execution_count": 34,
   "id": "9a67ed61",
   "metadata": {
    "execution": {
     "iopub.execute_input": "2023-02-21T09:07:17.487595Z",
     "iopub.status.busy": "2023-02-21T09:07:17.487109Z",
     "iopub.status.idle": "2023-02-21T09:07:17.673987Z",
     "shell.execute_reply": "2023-02-21T09:07:17.672802Z"
    },
    "papermill": {
     "duration": 0.211999,
     "end_time": "2023-02-21T09:07:17.677491",
     "exception": false,
     "start_time": "2023-02-21T09:07:17.465492",
     "status": "completed"
    },
    "tags": []
   },
   "outputs": [
    {
     "data": {
      "text/html": [
       "<div>\n",
       "<style scoped>\n",
       "    .dataframe tbody tr th:only-of-type {\n",
       "        vertical-align: middle;\n",
       "    }\n",
       "\n",
       "    .dataframe tbody tr th {\n",
       "        vertical-align: top;\n",
       "    }\n",
       "\n",
       "    .dataframe thead th {\n",
       "        text-align: right;\n",
       "    }\n",
       "</style>\n",
       "<table border=\"1\" class=\"dataframe\">\n",
       "  <thead>\n",
       "    <tr style=\"text-align: right;\">\n",
       "      <th></th>\n",
       "      <th>FOLLOWER_COUNT</th>\n",
       "      <th>FOLLOWING_COUNT</th>\n",
       "      <th>CODE_COUNT</th>\n",
       "      <th>DISCUSSION_COUNT</th>\n",
       "      <th>AVG_NB_READ_TIME_MIN</th>\n",
       "      <th>TOTAL_VOTES_GAVE_NB</th>\n",
       "      <th>TOTAL_VOTES_GAVE_DS</th>\n",
       "      <th>TOTAL_VOTES_GAVE_DC</th>\n",
       "      <th>GENDER_Female</th>\n",
       "      <th>GENDER_Male</th>\n",
       "      <th>IS_GLOGIN_False</th>\n",
       "      <th>IS_GLOGIN_True</th>\n",
       "    </tr>\n",
       "  </thead>\n",
       "  <tbody>\n",
       "    <tr>\n",
       "      <th>205828</th>\n",
       "      <td>51.0</td>\n",
       "      <td>99.0</td>\n",
       "      <td>6.0</td>\n",
       "      <td>77.0</td>\n",
       "      <td>14.12</td>\n",
       "      <td>21.0</td>\n",
       "      <td>4.0</td>\n",
       "      <td>1.0</td>\n",
       "      <td>1</td>\n",
       "      <td>0</td>\n",
       "      <td>0</td>\n",
       "      <td>1</td>\n",
       "    </tr>\n",
       "    <tr>\n",
       "      <th>868705</th>\n",
       "      <td>61.0</td>\n",
       "      <td>95.0</td>\n",
       "      <td>5.0</td>\n",
       "      <td>132.0</td>\n",
       "      <td>11.13</td>\n",
       "      <td>19.0</td>\n",
       "      <td>7.0</td>\n",
       "      <td>1.0</td>\n",
       "      <td>0</td>\n",
       "      <td>1</td>\n",
       "      <td>0</td>\n",
       "      <td>1</td>\n",
       "    </tr>\n",
       "    <tr>\n",
       "      <th>423984</th>\n",
       "      <td>25.0</td>\n",
       "      <td>100.0</td>\n",
       "      <td>13.0</td>\n",
       "      <td>143.0</td>\n",
       "      <td>22.40</td>\n",
       "      <td>19.0</td>\n",
       "      <td>6.0</td>\n",
       "      <td>3.0</td>\n",
       "      <td>0</td>\n",
       "      <td>1</td>\n",
       "      <td>0</td>\n",
       "      <td>1</td>\n",
       "    </tr>\n",
       "    <tr>\n",
       "      <th>808666</th>\n",
       "      <td>11.0</td>\n",
       "      <td>54.0</td>\n",
       "      <td>11.0</td>\n",
       "      <td>89.0</td>\n",
       "      <td>16.50</td>\n",
       "      <td>14.0</td>\n",
       "      <td>3.0</td>\n",
       "      <td>3.0</td>\n",
       "      <td>0</td>\n",
       "      <td>1</td>\n",
       "      <td>0</td>\n",
       "      <td>1</td>\n",
       "    </tr>\n",
       "    <tr>\n",
       "      <th>1239531</th>\n",
       "      <td>36.0</td>\n",
       "      <td>47.0</td>\n",
       "      <td>20.0</td>\n",
       "      <td>73.0</td>\n",
       "      <td>27.25</td>\n",
       "      <td>12.0</td>\n",
       "      <td>10.0</td>\n",
       "      <td>1.0</td>\n",
       "      <td>0</td>\n",
       "      <td>1</td>\n",
       "      <td>1</td>\n",
       "      <td>0</td>\n",
       "    </tr>\n",
       "    <tr>\n",
       "      <th>...</th>\n",
       "      <td>...</td>\n",
       "      <td>...</td>\n",
       "      <td>...</td>\n",
       "      <td>...</td>\n",
       "      <td>...</td>\n",
       "      <td>...</td>\n",
       "      <td>...</td>\n",
       "      <td>...</td>\n",
       "      <td>...</td>\n",
       "      <td>...</td>\n",
       "      <td>...</td>\n",
       "      <td>...</td>\n",
       "    </tr>\n",
       "    <tr>\n",
       "      <th>1321174</th>\n",
       "      <td>2.0</td>\n",
       "      <td>1.0</td>\n",
       "      <td>0.0</td>\n",
       "      <td>7.0</td>\n",
       "      <td>0.35</td>\n",
       "      <td>23.0</td>\n",
       "      <td>8.0</td>\n",
       "      <td>2.0</td>\n",
       "      <td>1</td>\n",
       "      <td>0</td>\n",
       "      <td>1</td>\n",
       "      <td>0</td>\n",
       "    </tr>\n",
       "    <tr>\n",
       "      <th>1321176</th>\n",
       "      <td>1.0</td>\n",
       "      <td>3.0</td>\n",
       "      <td>1.0</td>\n",
       "      <td>11.0</td>\n",
       "      <td>1.41</td>\n",
       "      <td>13.0</td>\n",
       "      <td>5.0</td>\n",
       "      <td>2.0</td>\n",
       "      <td>0</td>\n",
       "      <td>1</td>\n",
       "      <td>1</td>\n",
       "      <td>0</td>\n",
       "    </tr>\n",
       "    <tr>\n",
       "      <th>1321177</th>\n",
       "      <td>2.0</td>\n",
       "      <td>3.0</td>\n",
       "      <td>1.0</td>\n",
       "      <td>3.0</td>\n",
       "      <td>0.80</td>\n",
       "      <td>23.0</td>\n",
       "      <td>9.0</td>\n",
       "      <td>3.0</td>\n",
       "      <td>1</td>\n",
       "      <td>0</td>\n",
       "      <td>1</td>\n",
       "      <td>0</td>\n",
       "    </tr>\n",
       "    <tr>\n",
       "      <th>1321179</th>\n",
       "      <td>0.0</td>\n",
       "      <td>45.0</td>\n",
       "      <td>1.0</td>\n",
       "      <td>5.0</td>\n",
       "      <td>0.35</td>\n",
       "      <td>11.0</td>\n",
       "      <td>5.0</td>\n",
       "      <td>1.0</td>\n",
       "      <td>0</td>\n",
       "      <td>1</td>\n",
       "      <td>1</td>\n",
       "      <td>0</td>\n",
       "    </tr>\n",
       "    <tr>\n",
       "      <th>1321183</th>\n",
       "      <td>1.0</td>\n",
       "      <td>3.0</td>\n",
       "      <td>1.0</td>\n",
       "      <td>9.0</td>\n",
       "      <td>0.26</td>\n",
       "      <td>25.0</td>\n",
       "      <td>10.0</td>\n",
       "      <td>2.0</td>\n",
       "      <td>1</td>\n",
       "      <td>0</td>\n",
       "      <td>1</td>\n",
       "      <td>0</td>\n",
       "    </tr>\n",
       "  </tbody>\n",
       "</table>\n",
       "<p>521626 rows × 12 columns</p>\n",
       "</div>"
      ],
      "text/plain": [
       "         FOLLOWER_COUNT  FOLLOWING_COUNT  CODE_COUNT  DISCUSSION_COUNT  \\\n",
       "205828             51.0             99.0         6.0              77.0   \n",
       "868705             61.0             95.0         5.0             132.0   \n",
       "423984             25.0            100.0        13.0             143.0   \n",
       "808666             11.0             54.0        11.0              89.0   \n",
       "1239531            36.0             47.0        20.0              73.0   \n",
       "...                 ...              ...         ...               ...   \n",
       "1321174             2.0              1.0         0.0               7.0   \n",
       "1321176             1.0              3.0         1.0              11.0   \n",
       "1321177             2.0              3.0         1.0               3.0   \n",
       "1321179             0.0             45.0         1.0               5.0   \n",
       "1321183             1.0              3.0         1.0               9.0   \n",
       "\n",
       "         AVG_NB_READ_TIME_MIN  TOTAL_VOTES_GAVE_NB  TOTAL_VOTES_GAVE_DS  \\\n",
       "205828                  14.12                 21.0                  4.0   \n",
       "868705                  11.13                 19.0                  7.0   \n",
       "423984                  22.40                 19.0                  6.0   \n",
       "808666                  16.50                 14.0                  3.0   \n",
       "1239531                 27.25                 12.0                 10.0   \n",
       "...                       ...                  ...                  ...   \n",
       "1321174                  0.35                 23.0                  8.0   \n",
       "1321176                  1.41                 13.0                  5.0   \n",
       "1321177                  0.80                 23.0                  9.0   \n",
       "1321179                  0.35                 11.0                  5.0   \n",
       "1321183                  0.26                 25.0                 10.0   \n",
       "\n",
       "         TOTAL_VOTES_GAVE_DC  GENDER_Female  GENDER_Male  IS_GLOGIN_False  \\\n",
       "205828                   1.0              1            0                0   \n",
       "868705                   1.0              0            1                0   \n",
       "423984                   3.0              0            1                0   \n",
       "808666                   3.0              0            1                0   \n",
       "1239531                  1.0              0            1                1   \n",
       "...                      ...            ...          ...              ...   \n",
       "1321174                  2.0              1            0                1   \n",
       "1321176                  2.0              0            1                1   \n",
       "1321177                  3.0              1            0                1   \n",
       "1321179                  1.0              0            1                1   \n",
       "1321183                  2.0              1            0                1   \n",
       "\n",
       "         IS_GLOGIN_True  \n",
       "205828                1  \n",
       "868705                1  \n",
       "423984                1  \n",
       "808666                1  \n",
       "1239531               0  \n",
       "...                 ...  \n",
       "1321174               0  \n",
       "1321176               0  \n",
       "1321177               0  \n",
       "1321179               0  \n",
       "1321183               0  \n",
       "\n",
       "[521626 rows x 12 columns]"
      ]
     },
     "execution_count": 34,
     "metadata": {},
     "output_type": "execute_result"
    }
   ],
   "source": [
    "# Performing one-hot encoding on the features\n",
    "features = pd.get_dummies(features)\n",
    "features"
   ]
  },
  {
   "cell_type": "code",
   "execution_count": 35,
   "id": "718ea4b4",
   "metadata": {
    "execution": {
     "iopub.execute_input": "2023-02-21T09:07:17.721703Z",
     "iopub.status.busy": "2023-02-21T09:07:17.720988Z",
     "iopub.status.idle": "2023-02-21T09:07:17.725676Z",
     "shell.execute_reply": "2023-02-21T09:07:17.724795Z"
    },
    "papermill": {
     "duration": 0.029443,
     "end_time": "2023-02-21T09:07:17.727900",
     "exception": false,
     "start_time": "2023-02-21T09:07:17.698457",
     "status": "completed"
    },
    "tags": []
   },
   "outputs": [],
   "source": [
    "from sklearn.preprocessing import MinMaxScaler"
   ]
  },
  {
   "cell_type": "code",
   "execution_count": 36,
   "id": "c6de34a8",
   "metadata": {
    "execution": {
     "iopub.execute_input": "2023-02-21T09:07:17.771457Z",
     "iopub.status.busy": "2023-02-21T09:07:17.770716Z",
     "iopub.status.idle": "2023-02-21T09:07:17.775163Z",
     "shell.execute_reply": "2023-02-21T09:07:17.774318Z"
    },
    "papermill": {
     "duration": 0.028907,
     "end_time": "2023-02-21T09:07:17.777324",
     "exception": false,
     "start_time": "2023-02-21T09:07:17.748417",
     "status": "completed"
    },
    "tags": []
   },
   "outputs": [],
   "source": [
    "scaler = MinMaxScaler()"
   ]
  },
  {
   "cell_type": "code",
   "execution_count": 37,
   "id": "4b720627",
   "metadata": {
    "execution": {
     "iopub.execute_input": "2023-02-21T09:07:17.820684Z",
     "iopub.status.busy": "2023-02-21T09:07:17.819991Z",
     "iopub.status.idle": "2023-02-21T09:07:17.933829Z",
     "shell.execute_reply": "2023-02-21T09:07:17.932558Z"
    },
    "papermill": {
     "duration": 0.139089,
     "end_time": "2023-02-21T09:07:17.936936",
     "exception": false,
     "start_time": "2023-02-21T09:07:17.797847",
     "status": "completed"
    },
    "tags": []
   },
   "outputs": [],
   "source": [
    "# Normalizing the features\n",
    "norm_features = scaler.fit_transform(features)"
   ]
  },
  {
   "cell_type": "code",
   "execution_count": 38,
   "id": "76c84b0d",
   "metadata": {
    "execution": {
     "iopub.execute_input": "2023-02-21T09:07:17.980473Z",
     "iopub.status.busy": "2023-02-21T09:07:17.979994Z",
     "iopub.status.idle": "2023-02-21T09:07:17.986204Z",
     "shell.execute_reply": "2023-02-21T09:07:17.984742Z"
    },
    "papermill": {
     "duration": 0.030983,
     "end_time": "2023-02-21T09:07:17.988556",
     "exception": false,
     "start_time": "2023-02-21T09:07:17.957573",
     "status": "completed"
    },
    "tags": []
   },
   "outputs": [],
   "source": [
    "features = pd.DataFrame(norm_features, columns = features.columns)"
   ]
  },
  {
   "cell_type": "code",
   "execution_count": 39,
   "id": "86ecfc5e",
   "metadata": {
    "execution": {
     "iopub.execute_input": "2023-02-21T09:07:18.033317Z",
     "iopub.status.busy": "2023-02-21T09:07:18.032831Z",
     "iopub.status.idle": "2023-02-21T09:07:18.057613Z",
     "shell.execute_reply": "2023-02-21T09:07:18.056512Z"
    },
    "papermill": {
     "duration": 0.049589,
     "end_time": "2023-02-21T09:07:18.060306",
     "exception": false,
     "start_time": "2023-02-21T09:07:18.010717",
     "status": "completed"
    },
    "tags": []
   },
   "outputs": [
    {
     "data": {
      "text/html": [
       "<div>\n",
       "<style scoped>\n",
       "    .dataframe tbody tr th:only-of-type {\n",
       "        vertical-align: middle;\n",
       "    }\n",
       "\n",
       "    .dataframe tbody tr th {\n",
       "        vertical-align: top;\n",
       "    }\n",
       "\n",
       "    .dataframe thead th {\n",
       "        text-align: right;\n",
       "    }\n",
       "</style>\n",
       "<table border=\"1\" class=\"dataframe\">\n",
       "  <thead>\n",
       "    <tr style=\"text-align: right;\">\n",
       "      <th></th>\n",
       "      <th>FOLLOWER_COUNT</th>\n",
       "      <th>FOLLOWING_COUNT</th>\n",
       "      <th>CODE_COUNT</th>\n",
       "      <th>DISCUSSION_COUNT</th>\n",
       "      <th>AVG_NB_READ_TIME_MIN</th>\n",
       "      <th>TOTAL_VOTES_GAVE_NB</th>\n",
       "      <th>TOTAL_VOTES_GAVE_DS</th>\n",
       "      <th>TOTAL_VOTES_GAVE_DC</th>\n",
       "      <th>GENDER_Female</th>\n",
       "      <th>GENDER_Male</th>\n",
       "      <th>IS_GLOGIN_False</th>\n",
       "      <th>IS_GLOGIN_True</th>\n",
       "    </tr>\n",
       "  </thead>\n",
       "  <tbody>\n",
       "    <tr>\n",
       "      <th>0</th>\n",
       "      <td>0.728571</td>\n",
       "      <td>0.825000</td>\n",
       "      <td>0.24</td>\n",
       "      <td>0.513333</td>\n",
       "      <td>0.470824</td>\n",
       "      <td>0.733333</td>\n",
       "      <td>0.142857</td>\n",
       "      <td>0.333333</td>\n",
       "      <td>1.0</td>\n",
       "      <td>0.0</td>\n",
       "      <td>0.0</td>\n",
       "      <td>1.0</td>\n",
       "    </tr>\n",
       "    <tr>\n",
       "      <th>1</th>\n",
       "      <td>0.871429</td>\n",
       "      <td>0.791667</td>\n",
       "      <td>0.20</td>\n",
       "      <td>0.880000</td>\n",
       "      <td>0.371124</td>\n",
       "      <td>0.600000</td>\n",
       "      <td>0.571429</td>\n",
       "      <td>0.333333</td>\n",
       "      <td>0.0</td>\n",
       "      <td>1.0</td>\n",
       "      <td>0.0</td>\n",
       "      <td>1.0</td>\n",
       "    </tr>\n",
       "    <tr>\n",
       "      <th>2</th>\n",
       "      <td>0.357143</td>\n",
       "      <td>0.833333</td>\n",
       "      <td>0.52</td>\n",
       "      <td>0.953333</td>\n",
       "      <td>0.746916</td>\n",
       "      <td>0.600000</td>\n",
       "      <td>0.428571</td>\n",
       "      <td>1.000000</td>\n",
       "      <td>0.0</td>\n",
       "      <td>1.0</td>\n",
       "      <td>0.0</td>\n",
       "      <td>1.0</td>\n",
       "    </tr>\n",
       "    <tr>\n",
       "      <th>3</th>\n",
       "      <td>0.157143</td>\n",
       "      <td>0.450000</td>\n",
       "      <td>0.44</td>\n",
       "      <td>0.593333</td>\n",
       "      <td>0.550183</td>\n",
       "      <td>0.266667</td>\n",
       "      <td>0.000000</td>\n",
       "      <td>1.000000</td>\n",
       "      <td>0.0</td>\n",
       "      <td>1.0</td>\n",
       "      <td>0.0</td>\n",
       "      <td>1.0</td>\n",
       "    </tr>\n",
       "    <tr>\n",
       "      <th>4</th>\n",
       "      <td>0.514286</td>\n",
       "      <td>0.391667</td>\n",
       "      <td>0.80</td>\n",
       "      <td>0.486667</td>\n",
       "      <td>0.908636</td>\n",
       "      <td>0.133333</td>\n",
       "      <td>1.000000</td>\n",
       "      <td>0.333333</td>\n",
       "      <td>0.0</td>\n",
       "      <td>1.0</td>\n",
       "      <td>1.0</td>\n",
       "      <td>0.0</td>\n",
       "    </tr>\n",
       "    <tr>\n",
       "      <th>...</th>\n",
       "      <td>...</td>\n",
       "      <td>...</td>\n",
       "      <td>...</td>\n",
       "      <td>...</td>\n",
       "      <td>...</td>\n",
       "      <td>...</td>\n",
       "      <td>...</td>\n",
       "      <td>...</td>\n",
       "      <td>...</td>\n",
       "      <td>...</td>\n",
       "      <td>...</td>\n",
       "      <td>...</td>\n",
       "    </tr>\n",
       "    <tr>\n",
       "      <th>521621</th>\n",
       "      <td>0.028571</td>\n",
       "      <td>0.008333</td>\n",
       "      <td>0.00</td>\n",
       "      <td>0.046667</td>\n",
       "      <td>0.011671</td>\n",
       "      <td>0.866667</td>\n",
       "      <td>0.714286</td>\n",
       "      <td>0.666667</td>\n",
       "      <td>1.0</td>\n",
       "      <td>0.0</td>\n",
       "      <td>1.0</td>\n",
       "      <td>0.0</td>\n",
       "    </tr>\n",
       "    <tr>\n",
       "      <th>521622</th>\n",
       "      <td>0.014286</td>\n",
       "      <td>0.025000</td>\n",
       "      <td>0.04</td>\n",
       "      <td>0.073333</td>\n",
       "      <td>0.047016</td>\n",
       "      <td>0.200000</td>\n",
       "      <td>0.285714</td>\n",
       "      <td>0.666667</td>\n",
       "      <td>0.0</td>\n",
       "      <td>1.0</td>\n",
       "      <td>1.0</td>\n",
       "      <td>0.0</td>\n",
       "    </tr>\n",
       "    <tr>\n",
       "      <th>521623</th>\n",
       "      <td>0.028571</td>\n",
       "      <td>0.025000</td>\n",
       "      <td>0.04</td>\n",
       "      <td>0.020000</td>\n",
       "      <td>0.026676</td>\n",
       "      <td>0.866667</td>\n",
       "      <td>0.857143</td>\n",
       "      <td>1.000000</td>\n",
       "      <td>1.0</td>\n",
       "      <td>0.0</td>\n",
       "      <td>1.0</td>\n",
       "      <td>0.0</td>\n",
       "    </tr>\n",
       "    <tr>\n",
       "      <th>521624</th>\n",
       "      <td>0.000000</td>\n",
       "      <td>0.375000</td>\n",
       "      <td>0.04</td>\n",
       "      <td>0.033333</td>\n",
       "      <td>0.011671</td>\n",
       "      <td>0.066667</td>\n",
       "      <td>0.285714</td>\n",
       "      <td>0.333333</td>\n",
       "      <td>0.0</td>\n",
       "      <td>1.0</td>\n",
       "      <td>1.0</td>\n",
       "      <td>0.0</td>\n",
       "    </tr>\n",
       "    <tr>\n",
       "      <th>521625</th>\n",
       "      <td>0.014286</td>\n",
       "      <td>0.025000</td>\n",
       "      <td>0.04</td>\n",
       "      <td>0.060000</td>\n",
       "      <td>0.008670</td>\n",
       "      <td>1.000000</td>\n",
       "      <td>1.000000</td>\n",
       "      <td>0.666667</td>\n",
       "      <td>1.0</td>\n",
       "      <td>0.0</td>\n",
       "      <td>1.0</td>\n",
       "      <td>0.0</td>\n",
       "    </tr>\n",
       "  </tbody>\n",
       "</table>\n",
       "<p>521626 rows × 12 columns</p>\n",
       "</div>"
      ],
      "text/plain": [
       "        FOLLOWER_COUNT  FOLLOWING_COUNT  CODE_COUNT  DISCUSSION_COUNT  \\\n",
       "0             0.728571         0.825000        0.24          0.513333   \n",
       "1             0.871429         0.791667        0.20          0.880000   \n",
       "2             0.357143         0.833333        0.52          0.953333   \n",
       "3             0.157143         0.450000        0.44          0.593333   \n",
       "4             0.514286         0.391667        0.80          0.486667   \n",
       "...                ...              ...         ...               ...   \n",
       "521621        0.028571         0.008333        0.00          0.046667   \n",
       "521622        0.014286         0.025000        0.04          0.073333   \n",
       "521623        0.028571         0.025000        0.04          0.020000   \n",
       "521624        0.000000         0.375000        0.04          0.033333   \n",
       "521625        0.014286         0.025000        0.04          0.060000   \n",
       "\n",
       "        AVG_NB_READ_TIME_MIN  TOTAL_VOTES_GAVE_NB  TOTAL_VOTES_GAVE_DS  \\\n",
       "0                   0.470824             0.733333             0.142857   \n",
       "1                   0.371124             0.600000             0.571429   \n",
       "2                   0.746916             0.600000             0.428571   \n",
       "3                   0.550183             0.266667             0.000000   \n",
       "4                   0.908636             0.133333             1.000000   \n",
       "...                      ...                  ...                  ...   \n",
       "521621              0.011671             0.866667             0.714286   \n",
       "521622              0.047016             0.200000             0.285714   \n",
       "521623              0.026676             0.866667             0.857143   \n",
       "521624              0.011671             0.066667             0.285714   \n",
       "521625              0.008670             1.000000             1.000000   \n",
       "\n",
       "        TOTAL_VOTES_GAVE_DC  GENDER_Female  GENDER_Male  IS_GLOGIN_False  \\\n",
       "0                  0.333333            1.0          0.0              0.0   \n",
       "1                  0.333333            0.0          1.0              0.0   \n",
       "2                  1.000000            0.0          1.0              0.0   \n",
       "3                  1.000000            0.0          1.0              0.0   \n",
       "4                  0.333333            0.0          1.0              1.0   \n",
       "...                     ...            ...          ...              ...   \n",
       "521621             0.666667            1.0          0.0              1.0   \n",
       "521622             0.666667            0.0          1.0              1.0   \n",
       "521623             1.000000            1.0          0.0              1.0   \n",
       "521624             0.333333            0.0          1.0              1.0   \n",
       "521625             0.666667            1.0          0.0              1.0   \n",
       "\n",
       "        IS_GLOGIN_True  \n",
       "0                  1.0  \n",
       "1                  1.0  \n",
       "2                  1.0  \n",
       "3                  1.0  \n",
       "4                  0.0  \n",
       "...                ...  \n",
       "521621             0.0  \n",
       "521622             0.0  \n",
       "521623             0.0  \n",
       "521624             0.0  \n",
       "521625             0.0  \n",
       "\n",
       "[521626 rows x 12 columns]"
      ]
     },
     "execution_count": 39,
     "metadata": {},
     "output_type": "execute_result"
    }
   ],
   "source": [
    "features"
   ]
  },
  {
   "cell_type": "code",
   "execution_count": 40,
   "id": "a6b02d89",
   "metadata": {
    "execution": {
     "iopub.execute_input": "2023-02-21T09:07:18.102698Z",
     "iopub.status.busy": "2023-02-21T09:07:18.102278Z",
     "iopub.status.idle": "2023-02-21T09:07:18.107877Z",
     "shell.execute_reply": "2023-02-21T09:07:18.106718Z"
    },
    "papermill": {
     "duration": 0.029522,
     "end_time": "2023-02-21T09:07:18.110082",
     "exception": false,
     "start_time": "2023-02-21T09:07:18.080560",
     "status": "completed"
    },
    "tags": []
   },
   "outputs": [],
   "source": [
    "target = main_data[\"ISBOT\"]"
   ]
  },
  {
   "cell_type": "code",
   "execution_count": 41,
   "id": "9fa87fc7",
   "metadata": {
    "execution": {
     "iopub.execute_input": "2023-02-21T09:07:18.152937Z",
     "iopub.status.busy": "2023-02-21T09:07:18.151919Z",
     "iopub.status.idle": "2023-02-21T09:07:18.160229Z",
     "shell.execute_reply": "2023-02-21T09:07:18.159326Z"
    },
    "papermill": {
     "duration": 0.031928,
     "end_time": "2023-02-21T09:07:18.162251",
     "exception": false,
     "start_time": "2023-02-21T09:07:18.130323",
     "status": "completed"
    },
    "tags": []
   },
   "outputs": [
    {
     "data": {
      "text/plain": [
       "205828     0\n",
       "868705     0\n",
       "423984     0\n",
       "808666     0\n",
       "1239531    0\n",
       "          ..\n",
       "1321174    1\n",
       "1321176    1\n",
       "1321177    1\n",
       "1321179    1\n",
       "1321183    1\n",
       "Name: ISBOT, Length: 521626, dtype: int64"
      ]
     },
     "execution_count": 41,
     "metadata": {},
     "output_type": "execute_result"
    }
   ],
   "source": [
    "target"
   ]
  },
  {
   "cell_type": "code",
   "execution_count": 2,
   "id": "4d84f84f",
   "metadata": {
    "execution": {
     "iopub.execute_input": "2023-02-21T09:07:18.205878Z",
     "iopub.status.busy": "2023-02-21T09:07:18.204412Z",
     "iopub.status.idle": "2023-02-21T09:07:48.936855Z",
     "shell.execute_reply": "2023-02-21T09:07:48.935747Z"
    },
    "papermill": {
     "duration": 30.758462,
     "end_time": "2023-02-21T09:07:48.940941",
     "exception": false,
     "start_time": "2023-02-21T09:07:18.182479",
     "status": "completed"
    },
    "tags": []
   },
   "outputs": [
    {
     "ename": "NameError",
     "evalue": "name 'features' is not defined",
     "output_type": "error",
     "traceback": [
      "\u001b[1;31m---------------------------------------------------------------------------\u001b[0m",
      "\u001b[1;31mNameError\u001b[0m                                 Traceback (most recent call last)",
      "Cell \u001b[1;32mIn[2], line 3\u001b[0m\n\u001b[0;32m      1\u001b[0m \u001b[38;5;28;01mfrom\u001b[39;00m \u001b[38;5;21;01msklearn\u001b[39;00m\u001b[38;5;21;01m.\u001b[39;00m\u001b[38;5;21;01mensemble\u001b[39;00m \u001b[38;5;28;01mimport\u001b[39;00m ExtraTreesClassifier\n\u001b[0;32m      2\u001b[0m model \u001b[38;5;241m=\u001b[39m ExtraTreesClassifier()\n\u001b[1;32m----> 3\u001b[0m model\u001b[38;5;241m.\u001b[39mfit(\u001b[43mfeatures\u001b[49m,target)\n\u001b[0;32m      4\u001b[0m \u001b[38;5;28mprint\u001b[39m(model\u001b[38;5;241m.\u001b[39mfeature_importances_)\n\u001b[0;32m      5\u001b[0m feat_importance \u001b[38;5;241m=\u001b[39m pd\u001b[38;5;241m.\u001b[39mSeries(model\u001b[38;5;241m.\u001b[39mfeature_importances_,index\u001b[38;5;241m=\u001b[39mfeatures\u001b[38;5;241m.\u001b[39mcolumns)\n",
      "\u001b[1;31mNameError\u001b[0m: name 'features' is not defined"
     ]
    }
   ],
   "source": [
    "from sklearn.ensemble import ExtraTreesClassifier\n",
    "model = ExtraTreesClassifier()\n",
    "model.fit(features,target)\n",
    "print(model.feature_importances_)\n",
    "feat_importance = pd.Series(model.feature_importances_,index=features.columns)\n",
    "feat_importance.nlargest(10).plot(kind = 'barh')\n",
    "plt.show()"
   ]
  },
  {
   "cell_type": "markdown",
   "id": "a2b7ca74",
   "metadata": {
    "papermill": {
     "duration": 0.021797,
     "end_time": "2023-02-21T09:07:48.984940",
     "exception": false,
     "start_time": "2023-02-21T09:07:48.963143",
     "status": "completed"
    },
    "tags": []
   },
   "source": [
    "## Performing cross validation on the dataset\n"
   ]
  },
  {
   "cell_type": "code",
   "execution_count": 1,
   "id": "713724d3",
   "metadata": {
    "execution": {
     "iopub.execute_input": "2023-02-21T09:07:49.034184Z",
     "iopub.status.busy": "2023-02-21T09:07:49.033267Z",
     "iopub.status.idle": "2023-02-21T09:07:49.038941Z",
     "shell.execute_reply": "2023-02-21T09:07:49.038006Z"
    },
    "papermill": {
     "duration": 0.033158,
     "end_time": "2023-02-21T09:07:49.041311",
     "exception": false,
     "start_time": "2023-02-21T09:07:49.008153",
     "status": "completed"
    },
    "tags": []
   },
   "outputs": [],
   "source": [
    "from sklearn.linear_model import LogisticRegression\n",
    "from sklearn.model_selection import train_test_split, cross_val_score, KFold, cross_val_predict\n",
    "from sklearn.metrics import confusion_matrix, classification_report, accuracy_score"
   ]
  },
  {
   "cell_type": "code",
   "execution_count": 44,
   "id": "e9950a15",
   "metadata": {
    "execution": {
     "iopub.execute_input": "2023-02-21T09:07:49.089755Z",
     "iopub.status.busy": "2023-02-21T09:07:49.089254Z",
     "iopub.status.idle": "2023-02-21T09:08:02.994651Z",
     "shell.execute_reply": "2023-02-21T09:08:02.993668Z"
    },
    "papermill": {
     "duration": 13.933622,
     "end_time": "2023-02-21T09:08:02.997562",
     "exception": false,
     "start_time": "2023-02-21T09:07:49.063940",
     "status": "completed"
    },
    "tags": []
   },
   "outputs": [],
   "source": [
    "# define the logistic regression model\n",
    "logreg_model = LogisticRegression()\n",
    "\n",
    "# define the k-fold cross validation procedure\n",
    "kfold = KFold(n_splits=5, shuffle=True, random_state=42)\n",
    "\n",
    "# perform cross validation and generate predictions\n",
    "target_pred = cross_val_predict(logreg_model, features, target, cv=kfold)\n",
    "\n",
    "# generate the confusion matrix and classification report\n",
    "cm = confusion_matrix(target, target_pred)\n",
    "cr = classification_report(target, target_pred)\n",
    "acc = accuracy_score(target, target_pred)"
   ]
  },
  {
   "cell_type": "code",
   "execution_count": 45,
   "id": "644d0dc9",
   "metadata": {
    "execution": {
     "iopub.execute_input": "2023-02-21T09:08:03.044878Z",
     "iopub.status.busy": "2023-02-21T09:08:03.043864Z",
     "iopub.status.idle": "2023-02-21T09:08:03.050302Z",
     "shell.execute_reply": "2023-02-21T09:08:03.049393Z"
    },
    "papermill": {
     "duration": 0.032452,
     "end_time": "2023-02-21T09:08:03.052462",
     "exception": false,
     "start_time": "2023-02-21T09:08:03.020010",
     "status": "completed"
    },
    "tags": []
   },
   "outputs": [
    {
     "data": {
      "text/plain": [
       "0.9983743141637879"
      ]
     },
     "execution_count": 45,
     "metadata": {},
     "output_type": "execute_result"
    }
   ],
   "source": [
    "acc"
   ]
  },
  {
   "cell_type": "code",
   "execution_count": 46,
   "id": "50fb4eb9",
   "metadata": {
    "execution": {
     "iopub.execute_input": "2023-02-21T09:08:03.098786Z",
     "iopub.status.busy": "2023-02-21T09:08:03.097924Z",
     "iopub.status.idle": "2023-02-21T09:08:03.371772Z",
     "shell.execute_reply": "2023-02-21T09:08:03.370564Z"
    },
    "papermill": {
     "duration": 0.300299,
     "end_time": "2023-02-21T09:08:03.374674",
     "exception": false,
     "start_time": "2023-02-21T09:08:03.074375",
     "status": "completed"
    },
    "tags": []
   },
   "outputs": [
    {
     "data": {
      "image/png": "[encoded data removed]",
      "text/plain": [
       "<Figure size 2000x700 with 2 Axes>"
      ]
     },
     "metadata": {},
     "output_type": "display_data"
    }
   ],
   "source": [
    "sns.heatmap(cm, annot=True, fmt=\"d\")\n",
    "plt.xlabel(\"Predicted Values\")\n",
    "plt.ylabel(\"Actual Values\")\n",
    "plt.show()"
   ]
  },
  {
   "cell_type": "code",
   "execution_count": 47,
   "id": "a0002acf",
   "metadata": {
    "execution": {
     "iopub.execute_input": "2023-02-21T09:08:03.423169Z",
     "iopub.status.busy": "2023-02-21T09:08:03.422680Z",
     "iopub.status.idle": "2023-02-21T09:08:03.427628Z",
     "shell.execute_reply": "2023-02-21T09:08:03.426422Z"
    },
    "papermill": {
     "duration": 0.032704,
     "end_time": "2023-02-21T09:08:03.430291",
     "exception": false,
     "start_time": "2023-02-21T09:08:03.397587",
     "status": "completed"
    },
    "tags": []
   },
   "outputs": [],
   "source": [
    "#Importing the Decision tree classifier\n",
    "from sklearn.tree import DecisionTreeClassifier"
   ]
  },
  {
   "cell_type": "code",
   "execution_count": 48,
   "id": "c1668906",
   "metadata": {
    "execution": {
     "iopub.execute_input": "2023-02-21T09:08:03.479009Z",
     "iopub.status.busy": "2023-02-21T09:08:03.478537Z",
     "iopub.status.idle": "2023-02-21T09:08:09.838666Z",
     "shell.execute_reply": "2023-02-21T09:08:09.837362Z"
    },
    "papermill": {
     "duration": 6.387937,
     "end_time": "2023-02-21T09:08:09.841724",
     "exception": false,
     "start_time": "2023-02-21T09:08:03.453787",
     "status": "completed"
    },
    "tags": []
   },
   "outputs": [],
   "source": [
    "# define the logistic regression model\n",
    "decision_tree_model = DecisionTreeClassifier()\n",
    "\n",
    "# define the k-fold cross validation procedure\n",
    "kfold = KFold(n_splits=5, shuffle=True, random_state=42)\n",
    "\n",
    "# perform cross validation and generate predictions\n",
    "target_pred = cross_val_predict(decision_tree_model, features, target, cv=kfold)\n",
    "\n",
    "# generate the confusion matrix and classification report\n",
    "cm = confusion_matrix(target, target_pred)\n",
    "cr = classification_report(target, target_pred)\n",
    "acc = accuracy_score(target, target_pred)"
   ]
  },
  {
   "cell_type": "code",
   "execution_count": 49,
   "id": "6104fa9f",
   "metadata": {
    "execution": {
     "iopub.execute_input": "2023-02-21T09:08:09.891493Z",
     "iopub.status.busy": "2023-02-21T09:08:09.890188Z",
     "iopub.status.idle": "2023-02-21T09:08:09.898454Z",
     "shell.execute_reply": "2023-02-21T09:08:09.897164Z"
    },
    "papermill": {
     "duration": 0.035962,
     "end_time": "2023-02-21T09:08:09.900725",
     "exception": false,
     "start_time": "2023-02-21T09:08:09.864763",
     "status": "completed"
    },
    "tags": []
   },
   "outputs": [
    {
     "data": {
      "text/plain": [
       "1.0"
      ]
     },
     "execution_count": 49,
     "metadata": {},
     "output_type": "execute_result"
    }
   ],
   "source": [
    "acc"
   ]
  },
  {
   "cell_type": "code",
   "execution_count": 50,
   "id": "1b3db18d",
   "metadata": {
    "execution": {
     "iopub.execute_input": "2023-02-21T09:08:09.949364Z",
     "iopub.status.busy": "2023-02-21T09:08:09.948605Z",
     "iopub.status.idle": "2023-02-21T09:08:10.222707Z",
     "shell.execute_reply": "2023-02-21T09:08:10.221767Z"
    },
    "papermill": {
     "duration": 0.301392,
     "end_time": "2023-02-21T09:08:10.225382",
     "exception": false,
     "start_time": "2023-02-21T09:08:09.923990",
     "status": "completed"
    },
    "tags": []
   },
   "outputs": [
    {
     "data": {
      "image/png": "[encoded data removed]",
      "text/plain": [
       "<Figure size 2000x700 with 2 Axes>"
      ]
     },
     "metadata": {},
     "output_type": "display_data"
    }
   ],
   "source": [
    "sns.heatmap(cm, annot=True, fmt=\"d\")\n",
    "plt.xlabel(\"Predicted Values\")\n",
    "plt.ylabel(\"Actual Values\")\n",
    "plt.show()"
   ]
  },
  {
   "cell_type": "code",
   "execution_count": 51,
   "id": "d27be7fa",
   "metadata": {
    "execution": {
     "iopub.execute_input": "2023-02-21T09:08:10.275988Z",
     "iopub.status.busy": "2023-02-21T09:08:10.275268Z",
     "iopub.status.idle": "2023-02-21T09:08:10.280557Z",
     "shell.execute_reply": "2023-02-21T09:08:10.279545Z"
    },
    "papermill": {
     "duration": 0.033604,
     "end_time": "2023-02-21T09:08:10.282977",
     "exception": false,
     "start_time": "2023-02-21T09:08:10.249373",
     "status": "completed"
    },
    "tags": []
   },
   "outputs": [],
   "source": [
    "# Importing the support vector machine. \n",
    "from sklearn.svm import SVC"
   ]
  },
  {
   "cell_type": "code",
   "execution_count": 52,
   "id": "1ccbe251",
   "metadata": {
    "execution": {
     "iopub.execute_input": "2023-02-21T09:08:10.335231Z",
     "iopub.status.busy": "2023-02-21T09:08:10.334492Z",
     "iopub.status.idle": "2023-02-21T09:11:28.154885Z",
     "shell.execute_reply": "2023-02-21T09:11:28.153432Z"
    },
    "papermill": {
     "duration": 197.849323,
     "end_time": "2023-02-21T09:11:28.158252",
     "exception": false,
     "start_time": "2023-02-21T09:08:10.308929",
     "status": "completed"
    },
    "tags": []
   },
   "outputs": [],
   "source": [
    "# define the SVM model\n",
    "support_vector_model = SVC(kernel = 'poly')\n",
    "\n",
    "# define the k-fold cross validation procedure\n",
    "kfold = KFold(n_splits=5, shuffle=True, random_state=42)\n",
    "\n",
    "# perform cross validation and generate predictions\n",
    "target_pred = cross_val_predict(support_vector_model, features, target, cv=kfold)\n",
    "\n",
    "# generate the confusion matrix and classification report\n",
    "cm = confusion_matrix(target, target_pred)\n",
    "cr = classification_report(target, target_pred)\n",
    "acc = accuracy_score(target, target_pred)"
   ]
  },
  {
   "cell_type": "code",
   "execution_count": 53,
   "id": "3908948b",
   "metadata": {
    "execution": {
     "iopub.execute_input": "2023-02-21T09:11:28.209368Z",
     "iopub.status.busy": "2023-02-21T09:11:28.208855Z",
     "iopub.status.idle": "2023-02-21T09:11:28.216141Z",
     "shell.execute_reply": "2023-02-21T09:11:28.214938Z"
    },
    "papermill": {
     "duration": 0.0357,
     "end_time": "2023-02-21T09:11:28.218263",
     "exception": false,
     "start_time": "2023-02-21T09:11:28.182563",
     "status": "completed"
    },
    "tags": []
   },
   "outputs": [
    {
     "data": {
      "text/plain": [
       "0.9989456047052869"
      ]
     },
     "execution_count": 53,
     "metadata": {},
     "output_type": "execute_result"
    }
   ],
   "source": [
    "acc"
   ]
  },
  {
   "cell_type": "code",
   "execution_count": 54,
   "id": "412e8791",
   "metadata": {
    "execution": {
     "iopub.execute_input": "2023-02-21T09:11:28.269354Z",
     "iopub.status.busy": "2023-02-21T09:11:28.268098Z",
     "iopub.status.idle": "2023-02-21T09:11:28.533432Z",
     "shell.execute_reply": "2023-02-21T09:11:28.532022Z"
    },
    "papermill": {
     "duration": 0.293971,
     "end_time": "2023-02-21T09:11:28.536183",
     "exception": false,
     "start_time": "2023-02-21T09:11:28.242212",
     "status": "completed"
    },
    "tags": []
   },
   "outputs": [
    {
     "data": {
      "image/png": "[encoded data removed]",
      "text/plain": [
       "<Figure size 2000x700 with 2 Axes>"
      ]
     },
     "metadata": {},
     "output_type": "display_data"
    }
   ],
   "source": [
    "sns.heatmap(cm, annot=True, fmt=\"d\")\n",
    "plt.xlabel(\"Predicted Values\")\n",
    "plt.ylabel(\"Actual Values\")\n",
    "plt.show()"
   ]
  },
  {
   "cell_type": "code",
   "execution_count": null,
   "id": "684b6b2d",
   "metadata": {
    "papermill": {
     "duration": 0.024477,
     "end_time": "2023-02-21T09:11:28.585460",
     "exception": false,
     "start_time": "2023-02-21T09:11:28.560983",
     "status": "completed"
    },
    "tags": []
   },
   "outputs": [],
   "source": []
  }
 ],
 "metadata": {
  "kernelspec": {
   "display_name": "Python 3",
   "language": "python",
   "name": "python3"
  },
  "language_info": {
   "codemirror_mode": {
    "name": "ipython",
    "version": 3
   },
   "file_extension": ".py",
   "mimetype": "text/x-python",
   "name": "python",
   "nbconvert_exporter": "python",
   "pygments_lexer": "ipython3",
   "version": "3.12.7"
  },
  "papermill": {
   "default_parameters": {},
   "duration": 283.444243,
   "end_time": "2023-02-21T09:11:31.047177",
   "environment_variables": {},
   "exception": null,
   "input_path": "__notebook__.ipynb",
   "output_path": "__notebook__.ipynb",
   "parameters": {},
   "start_time": "2023-02-21T09:06:47.602934",
   "version": "2.3.4"
  }
 },
 "nbformat": 4,
 "nbformat_minor": 5
}
